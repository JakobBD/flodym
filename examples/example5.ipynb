{
 "cells": [
  {
   "cell_type": "markdown",
   "id": "931d672f-7c96-4d81-bce4-9d2a8fa8348f",
   "metadata": {},
   "source": [
    "# Example 5. Estimating the material content of the global vehicle fleet\n",
    "*ODYM example by Stefan Pauliuk, adapted for sodym*\n",
    "\n",
    "This example shows a fully-fledged MFA system, designed to estimate the material composition of the global passenger vehicle fleet in 2017, covering 130 countries, 25 age-cohorts, and 25 materials.\n",
    "\n",
    "The research questions asked are: How big is the material stock currently embodied in the global passenger vehicle fleet, and when will this material become available for recycling?\n",
    "\n",
    "To answer these questions a dynamic material flow analysis of the global passenger vehicle fleet and the waste management industries is performed.\n",
    "\n",
    "The dynamic MFA model has the following indices:\n",
    "\n",
    "* t: time (1990-2017)\n",
    "* c: age-cohort (1990-2017)\n",
    "* r: region (130 countries accounting for most of the global vehicle fleet)\n",
    "* g: good (passenger vehicle)\n",
    "* p: process (vehicle markets, use phase, waste management industries, scrap markets)\n",
    "* m: engineering materials (25)\n",
    "* e: chemical elements (all)\n",
    "* w: waste types (steel, Al, Cu scrap, plastics, glass, and other waste)\n",
    "\n",
    "The system definition of the model is given in the figure below. The data availability limits the temporal scope to 2017. The figure also shows the aspects of the different system variables. The total registration of vehicles, for example, is broken down into individual materials, whereas the flow of deregistered vehicles is broken down into regions, age-cohorts, and materials.\n",
    "\n",
    "<img src=\"pictures/System_example5.png\" width=\"850\" height=\"290\" alt=\"MFA system\">\n",
    "\n",
    "The model equations are as follows:\n",
    "\n",
    "1) inflow-driven dynamic stock model, where $F_{1-2}$ is the historic inflow, $Sf$ is the survival function of the age-cohort (1-sum(pdf of discard)), and $S_2$ is the stock:\n",
    "$S_2(t,c,r,g) = F_{1-2}(c,r,g)\\cdot Sf(t,c,r,g)$\n",
    "2) Calculation of difference between inflow-driven stock (covering only the age-cohorts 2005-2017 due to data availability) and the 2015 reported stock and distribution of the difference to the years 1990-2005 (constant inflow assumed for these years)\n",
    "3) Calculation of material composition of the fleet $S_2$ with\n",
    "$S_2(t,c,r,g,m) = \\mu(c,r,g,m)\\cdot S_2(t,c,r,g)$\n",
    "4) Estimation of available future end-of-life vehicle scrap $F_{3-4}$ with\n",
    "$F_{3-4}(r,g,w,m) = \\sum_{t,c}EoL_eff(r,g,m,w)\\cdot M(t,c,r,g,m)$\n",
    "\n",
    "The remaining system variables are calculated by mass balance."
   ]
  },
  {
   "cell_type": "markdown",
   "id": "0f74a10f-1c0f-455a-83ea-3d04c35faa5f",
   "metadata": {},
   "source": [
    "## 1. Load sodym and other useful packages"
   ]
  },
  {
   "cell_type": "code",
   "execution_count": 1,
   "id": "42833a88-9941-4bcb-ae14-29fddc229e11",
   "metadata": {},
   "outputs": [],
   "source": [
    "from os.path import join\n",
    "\n",
    "import numpy as np\n",
    "import pandas as pd\n",
    "import plotly.express as px\n",
    "\n",
    "from sodym.data_reader import DataReader\n",
    "from sodym import (\n",
    "    DimensionDefinition,\n",
    "    Dimension,\n",
    "    DimensionSet,\n",
    "    ParameterDefinition,\n",
    "    Parameter,\n",
    "    Process,\n",
    "    FlowDefinition,\n",
    "    StockDefinition,\n",
    "    MFASystem,\n",
    ")\n",
    "from sodym.stocks import InflowDrivenDSM\n",
    "from sodym.survival_functions import NormalSurvival\n",
    "from sodym.flow_helper import make_empty_flows\n",
    "from sodym.stock_helper import make_empty_stocks"
   ]
  },
  {
   "cell_type": "markdown",
   "id": "0c79cd7e-1795-4988-9312-b7278938d757",
   "metadata": {},
   "source": [
    "## 2. Define the data requirements, flows, stocks and MFA system equations\n",
    "\n",
    "We define the dimensions that are relevant for our system and the model parameters, processes, stocks and flows. We further define a class with our system equations in the compute method."
   ]
  },
  {
   "cell_type": "code",
   "execution_count": 2,
   "id": "f8fa043c-f92c-45f1-8d6c-b15b7e6c6629",
   "metadata": {},
   "outputs": [],
   "source": [
    "dimension_definitions = [\n",
    "    DimensionDefinition(letter=\"t\", name=\"time\", dtype=int),\n",
    "    DimensionDefinition(letter=\"r\", name=\"region\", dtype=str),\n",
    "    DimensionDefinition(letter=\"m\", name=\"material\", dtype=str),\n",
    "    DimensionDefinition(letter=\"w\", name=\"waste\", dtype=str),\n",
    "]\n",
    "\n",
    "parameter_definitions = [\n",
    "    ParameterDefinition(name=\"vehicle lifetime\", dim_letters=(\"r\",)),\n",
    "    ParameterDefinition(name=\"vehicle material content\", dim_letters=(\"m\",)),\n",
    "    ParameterDefinition(name=\"vehicle new registration\", dim_letters=(\"t\", \"r\")),\n",
    "    ParameterDefinition(name=\"vehicle stock\", dim_letters=(\"r\",)),\n",
    "    ParameterDefinition(name=\"eol recovery rate\", dim_letters=(\"m\", \"w\")),\n",
    "]"
   ]
  },
  {
   "cell_type": "code",
   "execution_count": 3,
   "id": "cc5e4a5e-1dc3-4e6a-86d4-6b643055da6b",
   "metadata": {},
   "outputs": [],
   "source": [
    "process_names = [\"sysenv\", \"market\", \"use\", \"waste\", \"scrap\"]\n",
    "processes = {name: Process(name=name, id=index) for index, name in enumerate(process_names)}"
   ]
  },
  {
   "cell_type": "code",
   "execution_count": 4,
   "id": "5314d22c-a522-43db-be20-54fdbed58fab",
   "metadata": {
    "lines_to_next_cell": 1
   },
   "outputs": [],
   "source": [
    "flow_definitions = [\n",
    "    FlowDefinition(from_process_name=\"sysenv\", to_process_name=\"market\", dim_letters=(\"t\", \"r\")),\n",
    "    FlowDefinition(from_process_name=\"market\", to_process_name=\"use\", dim_letters=(\"t\", \"m\", \"r\")),\n",
    "    FlowDefinition(from_process_name=\"use\", to_process_name=\"waste\", dim_letters=(\"t\", \"m\", \"r\")),\n",
    "    FlowDefinition(from_process_name=\"waste\", to_process_name=\"scrap\", dim_letters=(\"t\", \"w\", \"m\")),\n",
    "    FlowDefinition(from_process_name=\"waste\", to_process_name=\"sysenv\", dim_letters=(\"t\", \"m\")),\n",
    "    FlowDefinition(\n",
    "        from_process_name=\"scrap\", to_process_name=\"sysenv\", dim_letters=(\"t\", \"w\", \"m\")\n",
    "    ),\n",
    "]\n",
    "stock_definitions = [\n",
    "    StockDefinition(\n",
    "        name=\"in use\",\n",
    "        process=\"use\",\n",
    "        dim_letters=(\"t\", \"r\"),\n",
    "    )\n",
    "]"
   ]
  },
  {
   "cell_type": "code",
   "execution_count": 5,
   "id": "5985b315-d592-4cce-8bcb-1b1aef0eeb5b",
   "metadata": {},
   "outputs": [],
   "source": [
    "class VehicleMFA(MFASystem):\n",
    "    \"\"\"We just need to define the compute method with our system equations,\n",
    "    as all the other things we need are inherited from the MFASystem class.\"\"\"\n",
    "\n",
    "    def compute(self):\n",
    "        stock_diff = self.compute_stock()\n",
    "        self.compute_flows()\n",
    "        return stock_diff\n",
    "\n",
    "    def compute_stock(self):\n",
    "        self.flows[\"sysenv => market\"][...] = self.parameters[\"vehicle new registration\"]\n",
    "        self.stocks[\"in use\"].inflow[...] = self.flows[\"sysenv => market\"]\n",
    "        survival_model = NormalSurvival(\n",
    "            dims=self.stocks[\"in use\"].inflow.dims,\n",
    "            lifetime_mean=self.parameters[\"vehicle lifetime\"],\n",
    "            lifetime_std=self.parameters[\"vehicle lifetime\"] * 0.3,\n",
    "        )\n",
    "        if not isinstance(self.stocks[\"in use\"], InflowDrivenDSM):\n",
    "            self.stocks[\"in use\"] = self.stocks[\"in use\"].to_stock_type(\n",
    "                InflowDrivenDSM, survival_model=survival_model\n",
    "            )\n",
    "        else:\n",
    "            self.stocks[\"in use\"].survival_model = survival_model\n",
    "        self.stocks[\"in use\"].compute()\n",
    "        stock_diff = self.get_new_array(dim_letters=(\"r\"))\n",
    "        stock_diff[...] = (\n",
    "            1000 * self.parameters[\"vehicle stock\"] - self.stocks[\"in use\"].stock[{\"t\": 2015}]\n",
    "        )\n",
    "        return (stock_diff * 1e-6).to_df()  # in millions\n",
    "\n",
    "    def compute_flows(self):\n",
    "        self.flows[\"market => use\"][...] = (\n",
    "            self.parameters[\"vehicle material content\"]\n",
    "            * self.parameters[\"vehicle new registration\"]\n",
    "            * 1e-9\n",
    "        )\n",
    "        self.flows[\"use => waste\"][...] = (\n",
    "            self.parameters[\"vehicle material content\"] * self.stocks[\"in use\"].outflow * 1e-9\n",
    "        )\n",
    "        self.flows[\"waste => scrap\"][...] = (\n",
    "            self.parameters[\"eol recovery rate\"] * self.flows[\"use => waste\"]\n",
    "        )\n",
    "        self.flows[\"scrap => sysenv\"][...] = self.flows[\"waste => scrap\"]\n",
    "        self.flows[\"waste => sysenv\"][...] = (\n",
    "            self.flows[\"use => waste\"] - self.flows[\"waste => scrap\"]\n",
    "        )"
   ]
  },
  {
   "cell_type": "markdown",
   "id": "48f46cc9-4637-41cb-980d-37b9930a4a86",
   "metadata": {},
   "source": [
    "## 3. Define our data reader\n",
    "Now that we have defined the MFA system and know what data we need, we can load the data.\n",
    "To do the data loading, we define a DataReader class. Such a class can be reused with different datasets of the same format by passing attributes, e.g. the directory where the data is stored, in the init function. In this example, we will also build upon this data reader in a following step."
   ]
  },
  {
   "cell_type": "code",
   "execution_count": 6,
   "id": "c06f9864-53b5-42da-ac24-eb4f89eb5859",
   "metadata": {},
   "outputs": [],
   "source": [
    "class CustomDataReader(DataReader):\n",
    "    \"\"\"The methods `read_dimensions` and `read_parameters` are already defined in the parent\n",
    "    DataReader class, and loop over the methods `read_dimension` and `read_parameter_values`\n",
    "    that we specify for our usecase here.\n",
    "    \"\"\"\n",
    "\n",
    "    def __init__(self, data_directory):\n",
    "        self.data_directory = data_directory\n",
    "\n",
    "    @property\n",
    "    def years(self):\n",
    "        return list(range(2012, 2018))\n",
    "\n",
    "    def read_dimension(self, dimension_definition: DimensionDefinition) -> Dimension:\n",
    "        if (dim_name := dimension_definition.name) == \"region\":\n",
    "            data = pd.read_excel(join(self.data_directory, \"vehicle_lifetime.xlsx\"), \"Data\")\n",
    "            other_data = pd.read_excel(join(self.data_directory, \"vehicle_stock.xlsx\"), \"Data\")\n",
    "            data = (set(data[dim_name].unique())).intersection(set(other_data[dim_name].unique()))\n",
    "            data = list(data)\n",
    "            data.sort()\n",
    "        elif (dim_name := dimension_definition.name) in [\"waste\", \"material\"]:\n",
    "            data = pd.read_excel(join(self.data_directory, \"eol_recovery_rate.xlsx\"), \"Data\")\n",
    "            data.columns = [x.lower() for x in data.columns]\n",
    "            data = list(data[dim_name].unique())\n",
    "            data.sort()\n",
    "        elif dimension_definition.name == \"time\":\n",
    "            data = self.years\n",
    "        return Dimension(\n",
    "            name=dimension_definition.name,\n",
    "            letter=dimension_definition.letter,\n",
    "            items=data,\n",
    "        )\n",
    "\n",
    "    def read_parameter_values(self, parameter: str, dims: DimensionSet) -> Parameter:\n",
    "        data = pd.read_excel(\n",
    "            join(self.data_directory, (parameter.replace(\" \", \"_\") + \".xlsx\")), \"Data\"\n",
    "        )\n",
    "        data = data.fillna(0)\n",
    "        if \"r\" in dims.letters:  # remove unwanted regions\n",
    "            data = data[data[\"region\"].isin(dims[\"r\"].items)]\n",
    "\n",
    "        if parameter == \"vehicle new registration\":\n",
    "            return self.vehicle_new_registration(data, dims)\n",
    "\n",
    "        data.columns = [x.lower() for x in data.columns]\n",
    "        data = data[[dim.name for dim in dims] + [\"value\"]]  # select only relevant information\n",
    "        data.sort_values([dim.name for dim in dims], inplace=True)  # sort to ensure correct order\n",
    "        if len(dims.dim_list) == 1:\n",
    "            return Parameter(dims=dims, values=data[\"value\"].values)\n",
    "        elif len(dims.dim_list) == 2:\n",
    "            multiindex = data.set_index([dim.name for dim in dims])\n",
    "            data = multiindex.unstack().values[:, :]\n",
    "            return Parameter(dims=dims, values=data)\n",
    "\n",
    "    def vehicle_new_registration(self, data, dims):\n",
    "        data.sort_values(\"region\", inplace=True)\n",
    "        data = data[self.years]\n",
    "        return Parameter(dims=dims, values=data.values.T)"
   ]
  },
  {
   "cell_type": "markdown",
   "id": "ad056f04-0a85-4049-9937-9f3349d18834",
   "metadata": {},
   "source": [
    "## 4. Put everything together\n",
    "We make an instance of our `CustomDataReader`, read in the data and use it to create an instance of our `VehicleMFA` class. Then we can run the calculations, and check what our estimate of vehicle stocks looks like compared to the data for 2015 in the `vehicle_stock.xlsx` file."
   ]
  },
  {
   "cell_type": "code",
   "execution_count": 7,
   "id": "e2e3230d-8754-4a5b-a151-4b9e99e0486e",
   "metadata": {},
   "outputs": [],
   "source": [
    "data_reader = CustomDataReader(data_directory=\"example5_data\")\n",
    "dimensions = data_reader.read_dimensions(dimension_definitions)\n",
    "parameters = data_reader.read_parameters(parameter_definitions, dims=dimensions)\n",
    "\n",
    "stocks = make_empty_stocks(\n",
    "    stock_definitions=stock_definitions, processes=processes, dims=dimensions\n",
    ")\n",
    "flows = make_empty_flows(processes=processes, dims=dimensions, flow_definitions=flow_definitions)\n",
    "\n",
    "vehicle_mfa = VehicleMFA(\n",
    "    dims=dimensions,\n",
    "    parameters=parameters,\n",
    "    flows=flows,\n",
    "    stocks=stocks,\n",
    "    processes=processes,\n",
    ")\n",
    "stock_diff = vehicle_mfa.compute_stock()  # compute 1st stock estimate and difference to data"
   ]
  },
  {
   "cell_type": "code",
   "execution_count": 8,
   "id": "55906a64-8b14-4015-aa5f-4383d019c1cd",
   "metadata": {
    "lines_to_next_cell": 1
   },
   "outputs": [
    {
     "data": {
      "text/html": [
       "<div>\n",
       "<style scoped>\n",
       "    .dataframe tbody tr th:only-of-type {\n",
       "        vertical-align: middle;\n",
       "    }\n",
       "\n",
       "    .dataframe tbody tr th {\n",
       "        vertical-align: top;\n",
       "    }\n",
       "\n",
       "    .dataframe thead th {\n",
       "        text-align: right;\n",
       "    }\n",
       "</style>\n",
       "<table border=\"1\" class=\"dataframe\">\n",
       "  <thead>\n",
       "    <tr style=\"text-align: right;\">\n",
       "      <th></th>\n",
       "      <th>value</th>\n",
       "    </tr>\n",
       "    <tr>\n",
       "      <th>region</th>\n",
       "      <th></th>\n",
       "    </tr>\n",
       "  </thead>\n",
       "  <tbody>\n",
       "    <tr>\n",
       "      <th>Albania</th>\n",
       "      <td>0.394095</td>\n",
       "    </tr>\n",
       "    <tr>\n",
       "      <th>Algeria</th>\n",
       "      <td>2.894486</td>\n",
       "    </tr>\n",
       "    <tr>\n",
       "      <th>Angola</th>\n",
       "      <td>0.664421</td>\n",
       "    </tr>\n",
       "    <tr>\n",
       "      <th>Argentina</th>\n",
       "      <td>8.222737</td>\n",
       "    </tr>\n",
       "    <tr>\n",
       "      <th>Australia</th>\n",
       "      <td>9.964460</td>\n",
       "    </tr>\n",
       "    <tr>\n",
       "      <th>...</th>\n",
       "      <td>...</td>\n",
       "    </tr>\n",
       "    <tr>\n",
       "      <th>Venezuela, RB</th>\n",
       "      <td>3.477503</td>\n",
       "    </tr>\n",
       "    <tr>\n",
       "      <th>Vietnam</th>\n",
       "      <td>1.699348</td>\n",
       "    </tr>\n",
       "    <tr>\n",
       "      <th>Yemen, Rep.</th>\n",
       "      <td>0.591214</td>\n",
       "    </tr>\n",
       "    <tr>\n",
       "      <th>Zambia</th>\n",
       "      <td>0.242313</td>\n",
       "    </tr>\n",
       "    <tr>\n",
       "      <th>Zimbabwe</th>\n",
       "      <td>0.818420</td>\n",
       "    </tr>\n",
       "  </tbody>\n",
       "</table>\n",
       "<p>129 rows × 1 columns</p>\n",
       "</div>"
      ],
      "text/plain": [
       "                  value\n",
       "region                 \n",
       "Albania        0.394095\n",
       "Algeria        2.894486\n",
       "Angola         0.664421\n",
       "Argentina      8.222737\n",
       "Australia      9.964460\n",
       "...                 ...\n",
       "Venezuela, RB  3.477503\n",
       "Vietnam        1.699348\n",
       "Yemen, Rep.    0.591214\n",
       "Zambia         0.242313\n",
       "Zimbabwe       0.818420\n",
       "\n",
       "[129 rows x 1 columns]"
      ]
     },
     "execution_count": 8,
     "metadata": {},
     "output_type": "execute_result"
    }
   ],
   "source": [
    "stock_diff"
   ]
  },
  {
   "cell_type": "markdown",
   "id": "4f90be3d-6663-4e6f-a10b-11f88404b44d",
   "metadata": {},
   "source": [
    "## 5. Improve the model\n",
    "\n",
    "We can see that the results from our inflow-driven dynamic stock model differ significantly from the data about vehicle stocks. One reason for this is the missing inflows for years before our model starts. In a next step, we extend the years back to 1990 and copy the inflow data (given by the `new_vehicle_registration` parameter) by region for each of these earlier years; assuming that the inflow stayed constant between 1990 and 2004.\n",
    "\n",
    "In addition to this and to answer our research questions, we will extend the timeseries out to 2050, with no more inflow afer 2017.\n",
    "\n",
    "To make these changes in the model dimensions and parameters, we build on the `CustomDataReader` class defined above, extending the time dimension to earlier years, as well as extending the data for the `vehicle_new_registration` parameter, which is our only time-dependent parameter."
   ]
  },
  {
   "cell_type": "code",
   "execution_count": 8,
   "id": "f4b55789-9955-4485-8597-c73176af20e5",
   "metadata": {},
   "outputs": [],
   "source": [
    "class AnotherCustomDataReader(CustomDataReader):\n",
    "    @property\n",
    "    def years(self):\n",
    "        return self.historical_years + self.future_years\n",
    "\n",
    "    @property\n",
    "    def historical_years(self):\n",
    "        return list(range(1990, 2018))\n",
    "\n",
    "    @property\n",
    "    def future_years(self):\n",
    "        return list(range(2018, 2051))\n",
    "\n",
    "    def vehicle_new_registration(self, data, dims):\n",
    "        data.sort_values(\"region\", inplace=True)\n",
    "        data.set_index(\"region\", inplace=True)\n",
    "        data_years = [k for k in data.keys() if isinstance(k, int)]\n",
    "        data = data[data_years]\n",
    "\n",
    "        repeated_values = np.tile(data[min(data_years)].values, (len(self.historical_years), 1))\n",
    "        historical_data = pd.DataFrame(\n",
    "            index=data.index, columns=self.historical_years, data=repeated_values.T\n",
    "        )\n",
    "        future_data = pd.DataFrame(index=data.index, columns=self.future_years, data=0)\n",
    "        data = data.combine_first(historical_data).combine_first(future_data)\n",
    "        return Parameter(dims=dims, values=data.values.T)"
   ]
  },
  {
   "cell_type": "code",
   "execution_count": 9,
   "id": "e60e50a7-1dcf-43b6-b803-3b5500164747",
   "metadata": {},
   "outputs": [],
   "source": [
    "data_reader_2 = AnotherCustomDataReader(data_directory=\"example5_data\")\n",
    "dimensions_2 = data_reader_2.read_dimensions(dimension_definitions)\n",
    "parameters_2 = data_reader_2.read_parameters(parameter_definitions, dims=dimensions_2)\n",
    "\n",
    "stocks_2 = make_empty_stocks(\n",
    "    stock_definitions=stock_definitions, processes=processes, dims=dimensions_2\n",
    ")\n",
    "flows_2 = make_empty_flows(\n",
    "    processes=processes, dims=dimensions_2, flow_definitions=flow_definitions\n",
    ")\n",
    "\n",
    "vehicle_mfa_2 = VehicleMFA(\n",
    "    dims=dimensions_2,\n",
    "    parameters=parameters_2,\n",
    "    flows=flows_2,\n",
    "    stocks=stocks_2,\n",
    "    processes=processes,\n",
    ")\n",
    "stock_diff_2 = (\n",
    "    vehicle_mfa_2.compute()\n",
    ")  # compute 2nd stock estimate and difference to data, as well as the MFA flows"
   ]
  },
  {
   "cell_type": "code",
   "execution_count": 10,
   "id": "aa1420b4-0f44-4fd6-afab-e5cf83cffa01",
   "metadata": {},
   "outputs": [
    {
     "data": {
      "text/html": [
       "<div>\n",
       "<style scoped>\n",
       "    .dataframe tbody tr th:only-of-type {\n",
       "        vertical-align: middle;\n",
       "    }\n",
       "\n",
       "    .dataframe tbody tr th {\n",
       "        vertical-align: top;\n",
       "    }\n",
       "\n",
       "    .dataframe thead th {\n",
       "        text-align: right;\n",
       "    }\n",
       "</style>\n",
       "<table border=\"1\" class=\"dataframe\">\n",
       "  <thead>\n",
       "    <tr style=\"text-align: right;\">\n",
       "      <th></th>\n",
       "      <th>value</th>\n",
       "    </tr>\n",
       "    <tr>\n",
       "      <th>region</th>\n",
       "      <th></th>\n",
       "    </tr>\n",
       "  </thead>\n",
       "  <tbody>\n",
       "    <tr>\n",
       "      <th>Albania</th>\n",
       "      <td>0.379986</td>\n",
       "    </tr>\n",
       "    <tr>\n",
       "      <th>Algeria</th>\n",
       "      <td>1.726759</td>\n",
       "    </tr>\n",
       "    <tr>\n",
       "      <th>Angola</th>\n",
       "      <td>0.568430</td>\n",
       "    </tr>\n",
       "    <tr>\n",
       "      <th>Argentina</th>\n",
       "      <td>3.467507</td>\n",
       "    </tr>\n",
       "    <tr>\n",
       "      <th>Australia</th>\n",
       "      <td>-0.208335</td>\n",
       "    </tr>\n",
       "    <tr>\n",
       "      <th>...</th>\n",
       "      <td>...</td>\n",
       "    </tr>\n",
       "    <tr>\n",
       "      <th>Venezuela, RB</th>\n",
       "      <td>1.814711</td>\n",
       "    </tr>\n",
       "    <tr>\n",
       "      <th>Vietnam</th>\n",
       "      <td>1.231802</td>\n",
       "    </tr>\n",
       "    <tr>\n",
       "      <th>Yemen, Rep.</th>\n",
       "      <td>0.540353</td>\n",
       "    </tr>\n",
       "    <tr>\n",
       "      <th>Zambia</th>\n",
       "      <td>0.211491</td>\n",
       "    </tr>\n",
       "    <tr>\n",
       "      <th>Zimbabwe</th>\n",
       "      <td>0.749819</td>\n",
       "    </tr>\n",
       "  </tbody>\n",
       "</table>\n",
       "<p>129 rows × 1 columns</p>\n",
       "</div>"
      ],
      "text/plain": [
       "                  value\n",
       "region                 \n",
       "Albania        0.379986\n",
       "Algeria        1.726759\n",
       "Angola         0.568430\n",
       "Argentina      3.467507\n",
       "Australia     -0.208335\n",
       "...                 ...\n",
       "Venezuela, RB  1.814711\n",
       "Vietnam        1.231802\n",
       "Yemen, Rep.    0.540353\n",
       "Zambia         0.211491\n",
       "Zimbabwe       0.749819\n",
       "\n",
       "[129 rows x 1 columns]"
      ]
     },
     "execution_count": 10,
     "metadata": {},
     "output_type": "execute_result"
    }
   ],
   "source": [
    "stock_diff_2[stock_diff_2 <= stock_diff]"
   ]
  },
  {
   "cell_type": "markdown",
   "id": "78bbda52-2d55-42b5-80b8-710e00e1647b",
   "metadata": {},
   "source": [
    "The stock values in 2015 have improved as compared to the data, but are still quite far away from the dataset."
   ]
  },
  {
   "cell_type": "markdown",
   "id": "e11fe25a-235a-434b-9ff1-52b22f1199a1",
   "metadata": {},
   "source": [
    "## 6. Answer research questions\n",
    "Approximately how big was the material stock embodied in the global passenger vehicle fleet in 2017?\n",
    "And when will this material become available for recycling?"
   ]
  },
  {
   "cell_type": "code",
   "execution_count": 11,
   "id": "2f102c17-2b62-4d83-b8b9-beacec17c30c",
   "metadata": {},
   "outputs": [
    {
     "data": {
      "application/vnd.plotly.v1+json": {
       "config": {
        "plotlyServerURL": "https://plot.ly"
       },
       "data": [
        {
         "alignmentgroup": "True",
         "hovertemplate": "material=%{x}<br>value=%{y}<extra></extra>",
         "legendgroup": "",
         "marker": {
          "color": "#636efa",
          "pattern": {
           "shape": ""
          }
         },
         "name": "",
         "offsetgroup": "",
         "orientation": "v",
         "showlegend": false,
         "textposition": "auto",
         "type": "bar",
         "x": [
          "Aluminium",
          "Antimony",
          "Arsenic",
          "Automotive steel",
          "Carbon black",
          "Cast iron",
          "Ceramics",
          "Cobalt",
          "Copper electric grade",
          "Cromium",
          "Glass",
          "Lead",
          "Magnesium",
          "Manganese",
          "Molybdene",
          "Neodymium",
          "Paladium",
          "Plastics",
          "Platinum",
          "Rhodium",
          "Rubber",
          "Silicon",
          "Tantalum",
          "Vanadium",
          "Zinc"
         ],
         "xaxis": "x",
         "y": [
          90.17887990800413,
          0.10814151685368267,
          0.004569359867057014,
          815.8555200645875,
          7.703053147985196,
          107.17343165055624,
          4.082109937968277,
          0.028672259252801303,
          20.810510748000944,
          5.618837901960254,
          28.073225107288085,
          10.674290294150406,
          0.22235240499026646,
          1.1237675803920515,
          1.1237675803920515,
          0.1928440662648086,
          0.004902031420640224,
          172.39177640271913,
          0.001017402747680047,
          0.000554946953280025,
          23.564047134407662,
          0.12921611459811716,
          0.004208347729040192,
          0.33713027411761526,
          0.09229722471294084
         ],
         "yaxis": "y"
        }
       ],
       "layout": {
        "barmode": "relative",
        "legend": {
         "tracegroupgap": 0
        },
        "margin": {
         "t": 60
        },
        "template": {
         "data": {
          "bar": [
           {
            "error_x": {
             "color": "#2a3f5f"
            },
            "error_y": {
             "color": "#2a3f5f"
            },
            "marker": {
             "line": {
              "color": "#E5ECF6",
              "width": 0.5
             },
             "pattern": {
              "fillmode": "overlay",
              "size": 10,
              "solidity": 0.2
             }
            },
            "type": "bar"
           }
          ],
          "barpolar": [
           {
            "marker": {
             "line": {
              "color": "#E5ECF6",
              "width": 0.5
             },
             "pattern": {
              "fillmode": "overlay",
              "size": 10,
              "solidity": 0.2
             }
            },
            "type": "barpolar"
           }
          ],
          "carpet": [
           {
            "aaxis": {
             "endlinecolor": "#2a3f5f",
             "gridcolor": "white",
             "linecolor": "white",
             "minorgridcolor": "white",
             "startlinecolor": "#2a3f5f"
            },
            "baxis": {
             "endlinecolor": "#2a3f5f",
             "gridcolor": "white",
             "linecolor": "white",
             "minorgridcolor": "white",
             "startlinecolor": "#2a3f5f"
            },
            "type": "carpet"
           }
          ],
          "choropleth": [
           {
            "colorbar": {
             "outlinewidth": 0,
             "ticks": ""
            },
            "type": "choropleth"
           }
          ],
          "contour": [
           {
            "colorbar": {
             "outlinewidth": 0,
             "ticks": ""
            },
            "colorscale": [
             [
              0,
              "#0d0887"
             ],
             [
              0.1111111111111111,
              "#46039f"
             ],
             [
              0.2222222222222222,
              "#7201a8"
             ],
             [
              0.3333333333333333,
              "#9c179e"
             ],
             [
              0.4444444444444444,
              "#bd3786"
             ],
             [
              0.5555555555555556,
              "#d8576b"
             ],
             [
              0.6666666666666666,
              "#ed7953"
             ],
             [
              0.7777777777777778,
              "#fb9f3a"
             ],
             [
              0.8888888888888888,
              "#fdca26"
             ],
             [
              1,
              "#f0f921"
             ]
            ],
            "type": "contour"
           }
          ],
          "contourcarpet": [
           {
            "colorbar": {
             "outlinewidth": 0,
             "ticks": ""
            },
            "type": "contourcarpet"
           }
          ],
          "heatmap": [
           {
            "colorbar": {
             "outlinewidth": 0,
             "ticks": ""
            },
            "colorscale": [
             [
              0,
              "#0d0887"
             ],
             [
              0.1111111111111111,
              "#46039f"
             ],
             [
              0.2222222222222222,
              "#7201a8"
             ],
             [
              0.3333333333333333,
              "#9c179e"
             ],
             [
              0.4444444444444444,
              "#bd3786"
             ],
             [
              0.5555555555555556,
              "#d8576b"
             ],
             [
              0.6666666666666666,
              "#ed7953"
             ],
             [
              0.7777777777777778,
              "#fb9f3a"
             ],
             [
              0.8888888888888888,
              "#fdca26"
             ],
             [
              1,
              "#f0f921"
             ]
            ],
            "type": "heatmap"
           }
          ],
          "heatmapgl": [
           {
            "colorbar": {
             "outlinewidth": 0,
             "ticks": ""
            },
            "colorscale": [
             [
              0,
              "#0d0887"
             ],
             [
              0.1111111111111111,
              "#46039f"
             ],
             [
              0.2222222222222222,
              "#7201a8"
             ],
             [
              0.3333333333333333,
              "#9c179e"
             ],
             [
              0.4444444444444444,
              "#bd3786"
             ],
             [
              0.5555555555555556,
              "#d8576b"
             ],
             [
              0.6666666666666666,
              "#ed7953"
             ],
             [
              0.7777777777777778,
              "#fb9f3a"
             ],
             [
              0.8888888888888888,
              "#fdca26"
             ],
             [
              1,
              "#f0f921"
             ]
            ],
            "type": "heatmapgl"
           }
          ],
          "histogram": [
           {
            "marker": {
             "pattern": {
              "fillmode": "overlay",
              "size": 10,
              "solidity": 0.2
             }
            },
            "type": "histogram"
           }
          ],
          "histogram2d": [
           {
            "colorbar": {
             "outlinewidth": 0,
             "ticks": ""
            },
            "colorscale": [
             [
              0,
              "#0d0887"
             ],
             [
              0.1111111111111111,
              "#46039f"
             ],
             [
              0.2222222222222222,
              "#7201a8"
             ],
             [
              0.3333333333333333,
              "#9c179e"
             ],
             [
              0.4444444444444444,
              "#bd3786"
             ],
             [
              0.5555555555555556,
              "#d8576b"
             ],
             [
              0.6666666666666666,
              "#ed7953"
             ],
             [
              0.7777777777777778,
              "#fb9f3a"
             ],
             [
              0.8888888888888888,
              "#fdca26"
             ],
             [
              1,
              "#f0f921"
             ]
            ],
            "type": "histogram2d"
           }
          ],
          "histogram2dcontour": [
           {
            "colorbar": {
             "outlinewidth": 0,
             "ticks": ""
            },
            "colorscale": [
             [
              0,
              "#0d0887"
             ],
             [
              0.1111111111111111,
              "#46039f"
             ],
             [
              0.2222222222222222,
              "#7201a8"
             ],
             [
              0.3333333333333333,
              "#9c179e"
             ],
             [
              0.4444444444444444,
              "#bd3786"
             ],
             [
              0.5555555555555556,
              "#d8576b"
             ],
             [
              0.6666666666666666,
              "#ed7953"
             ],
             [
              0.7777777777777778,
              "#fb9f3a"
             ],
             [
              0.8888888888888888,
              "#fdca26"
             ],
             [
              1,
              "#f0f921"
             ]
            ],
            "type": "histogram2dcontour"
           }
          ],
          "mesh3d": [
           {
            "colorbar": {
             "outlinewidth": 0,
             "ticks": ""
            },
            "type": "mesh3d"
           }
          ],
          "parcoords": [
           {
            "line": {
             "colorbar": {
              "outlinewidth": 0,
              "ticks": ""
             }
            },
            "type": "parcoords"
           }
          ],
          "pie": [
           {
            "automargin": true,
            "type": "pie"
           }
          ],
          "scatter": [
           {
            "fillpattern": {
             "fillmode": "overlay",
             "size": 10,
             "solidity": 0.2
            },
            "type": "scatter"
           }
          ],
          "scatter3d": [
           {
            "line": {
             "colorbar": {
              "outlinewidth": 0,
              "ticks": ""
             }
            },
            "marker": {
             "colorbar": {
              "outlinewidth": 0,
              "ticks": ""
             }
            },
            "type": "scatter3d"
           }
          ],
          "scattercarpet": [
           {
            "marker": {
             "colorbar": {
              "outlinewidth": 0,
              "ticks": ""
             }
            },
            "type": "scattercarpet"
           }
          ],
          "scattergeo": [
           {
            "marker": {
             "colorbar": {
              "outlinewidth": 0,
              "ticks": ""
             }
            },
            "type": "scattergeo"
           }
          ],
          "scattergl": [
           {
            "marker": {
             "colorbar": {
              "outlinewidth": 0,
              "ticks": ""
             }
            },
            "type": "scattergl"
           }
          ],
          "scattermapbox": [
           {
            "marker": {
             "colorbar": {
              "outlinewidth": 0,
              "ticks": ""
             }
            },
            "type": "scattermapbox"
           }
          ],
          "scatterpolar": [
           {
            "marker": {
             "colorbar": {
              "outlinewidth": 0,
              "ticks": ""
             }
            },
            "type": "scatterpolar"
           }
          ],
          "scatterpolargl": [
           {
            "marker": {
             "colorbar": {
              "outlinewidth": 0,
              "ticks": ""
             }
            },
            "type": "scatterpolargl"
           }
          ],
          "scatterternary": [
           {
            "marker": {
             "colorbar": {
              "outlinewidth": 0,
              "ticks": ""
             }
            },
            "type": "scatterternary"
           }
          ],
          "surface": [
           {
            "colorbar": {
             "outlinewidth": 0,
             "ticks": ""
            },
            "colorscale": [
             [
              0,
              "#0d0887"
             ],
             [
              0.1111111111111111,
              "#46039f"
             ],
             [
              0.2222222222222222,
              "#7201a8"
             ],
             [
              0.3333333333333333,
              "#9c179e"
             ],
             [
              0.4444444444444444,
              "#bd3786"
             ],
             [
              0.5555555555555556,
              "#d8576b"
             ],
             [
              0.6666666666666666,
              "#ed7953"
             ],
             [
              0.7777777777777778,
              "#fb9f3a"
             ],
             [
              0.8888888888888888,
              "#fdca26"
             ],
             [
              1,
              "#f0f921"
             ]
            ],
            "type": "surface"
           }
          ],
          "table": [
           {
            "cells": {
             "fill": {
              "color": "#EBF0F8"
             },
             "line": {
              "color": "white"
             }
            },
            "header": {
             "fill": {
              "color": "#C8D4E3"
             },
             "line": {
              "color": "white"
             }
            },
            "type": "table"
           }
          ]
         },
         "layout": {
          "annotationdefaults": {
           "arrowcolor": "#2a3f5f",
           "arrowhead": 0,
           "arrowwidth": 1
          },
          "autotypenumbers": "strict",
          "coloraxis": {
           "colorbar": {
            "outlinewidth": 0,
            "ticks": ""
           }
          },
          "colorscale": {
           "diverging": [
            [
             0,
             "#8e0152"
            ],
            [
             0.1,
             "#c51b7d"
            ],
            [
             0.2,
             "#de77ae"
            ],
            [
             0.3,
             "#f1b6da"
            ],
            [
             0.4,
             "#fde0ef"
            ],
            [
             0.5,
             "#f7f7f7"
            ],
            [
             0.6,
             "#e6f5d0"
            ],
            [
             0.7,
             "#b8e186"
            ],
            [
             0.8,
             "#7fbc41"
            ],
            [
             0.9,
             "#4d9221"
            ],
            [
             1,
             "#276419"
            ]
           ],
           "sequential": [
            [
             0,
             "#0d0887"
            ],
            [
             0.1111111111111111,
             "#46039f"
            ],
            [
             0.2222222222222222,
             "#7201a8"
            ],
            [
             0.3333333333333333,
             "#9c179e"
            ],
            [
             0.4444444444444444,
             "#bd3786"
            ],
            [
             0.5555555555555556,
             "#d8576b"
            ],
            [
             0.6666666666666666,
             "#ed7953"
            ],
            [
             0.7777777777777778,
             "#fb9f3a"
            ],
            [
             0.8888888888888888,
             "#fdca26"
            ],
            [
             1,
             "#f0f921"
            ]
           ],
           "sequentialminus": [
            [
             0,
             "#0d0887"
            ],
            [
             0.1111111111111111,
             "#46039f"
            ],
            [
             0.2222222222222222,
             "#7201a8"
            ],
            [
             0.3333333333333333,
             "#9c179e"
            ],
            [
             0.4444444444444444,
             "#bd3786"
            ],
            [
             0.5555555555555556,
             "#d8576b"
            ],
            [
             0.6666666666666666,
             "#ed7953"
            ],
            [
             0.7777777777777778,
             "#fb9f3a"
            ],
            [
             0.8888888888888888,
             "#fdca26"
            ],
            [
             1,
             "#f0f921"
            ]
           ]
          },
          "colorway": [
           "#636efa",
           "#EF553B",
           "#00cc96",
           "#ab63fa",
           "#FFA15A",
           "#19d3f3",
           "#FF6692",
           "#B6E880",
           "#FF97FF",
           "#FECB52"
          ],
          "font": {
           "color": "#2a3f5f"
          },
          "geo": {
           "bgcolor": "white",
           "lakecolor": "white",
           "landcolor": "#E5ECF6",
           "showlakes": true,
           "showland": true,
           "subunitcolor": "white"
          },
          "hoverlabel": {
           "align": "left"
          },
          "hovermode": "closest",
          "mapbox": {
           "style": "light"
          },
          "paper_bgcolor": "white",
          "plot_bgcolor": "#E5ECF6",
          "polar": {
           "angularaxis": {
            "gridcolor": "white",
            "linecolor": "white",
            "ticks": ""
           },
           "bgcolor": "#E5ECF6",
           "radialaxis": {
            "gridcolor": "white",
            "linecolor": "white",
            "ticks": ""
           }
          },
          "scene": {
           "xaxis": {
            "backgroundcolor": "#E5ECF6",
            "gridcolor": "white",
            "gridwidth": 2,
            "linecolor": "white",
            "showbackground": true,
            "ticks": "",
            "zerolinecolor": "white"
           },
           "yaxis": {
            "backgroundcolor": "#E5ECF6",
            "gridcolor": "white",
            "gridwidth": 2,
            "linecolor": "white",
            "showbackground": true,
            "ticks": "",
            "zerolinecolor": "white"
           },
           "zaxis": {
            "backgroundcolor": "#E5ECF6",
            "gridcolor": "white",
            "gridwidth": 2,
            "linecolor": "white",
            "showbackground": true,
            "ticks": "",
            "zerolinecolor": "white"
           }
          },
          "shapedefaults": {
           "line": {
            "color": "#2a3f5f"
           }
          },
          "ternary": {
           "aaxis": {
            "gridcolor": "white",
            "linecolor": "white",
            "ticks": ""
           },
           "baxis": {
            "gridcolor": "white",
            "linecolor": "white",
            "ticks": ""
           },
           "bgcolor": "#E5ECF6",
           "caxis": {
            "gridcolor": "white",
            "linecolor": "white",
            "ticks": ""
           }
          },
          "title": {
           "x": 0.05
          },
          "xaxis": {
           "automargin": true,
           "gridcolor": "white",
           "linecolor": "white",
           "ticks": "",
           "title": {
            "standoff": 15
           },
           "zerolinecolor": "white",
           "zerolinewidth": 2
          },
          "yaxis": {
           "automargin": true,
           "gridcolor": "white",
           "linecolor": "white",
           "ticks": "",
           "title": {
            "standoff": 15
           },
           "zerolinecolor": "white",
           "zerolinewidth": 2
          }
         }
        },
        "xaxis": {
         "anchor": "y",
         "domain": [
          0,
          1
         ],
         "title": {
          "text": "material"
         }
        },
        "yaxis": {
         "anchor": "x",
         "domain": [
          0,
          1
         ],
         "title": {
          "text": "value"
         }
        }
       }
      }
     },
     "metadata": {},
     "output_type": "display_data"
    }
   ],
   "source": [
    "stock_by_material_type = (\n",
    "    vehicle_mfa_2.stocks[\"in use\"].stock\n",
    "    * vehicle_mfa_2.parameters[\"vehicle material content\"]\n",
    "    * 1e-9\n",
    ")\n",
    "global_stock_by_material_type = stock_by_material_type.sum_nda_over(sum_over_dims=(\"r\"))\n",
    "global_stock_by_material_type_in_2017 = global_stock_by_material_type[{\"t\": 2017}]\n",
    "\n",
    "stock_df = global_stock_by_material_type_in_2017.to_df(index=False)\n",
    "fig = px.bar(stock_df, x=\"material\", y=\"value\")\n",
    "fig.show()"
   ]
  },
  {
   "cell_type": "code",
   "execution_count": 12,
   "id": "816b1168-5998-4aae-8ec0-92e3856d83e1",
   "metadata": {},
   "outputs": [
    {
     "data": {
      "application/vnd.plotly.v1+json": {
       "config": {
        "plotlyServerURL": "https://plot.ly"
       },
       "data": [
        {
         "hovertemplate": "variable=Al old cast<br>index=%{x}<br>value=%{y}<extra></extra>",
         "legendgroup": "Al old cast",
         "line": {
          "color": "#636efa",
          "dash": "solid"
         },
         "marker": {
          "symbol": "circle"
         },
         "mode": "lines",
         "name": "Al old cast",
         "orientation": "v",
         "showlegend": true,
         "type": "scatter",
         "x": [
          2018,
          2019,
          2020,
          2021,
          2022,
          2023,
          2024,
          2025,
          2026,
          2027,
          2028,
          2029,
          2030,
          2031,
          2032,
          2033,
          2034,
          2035,
          2036,
          2037,
          2038,
          2039,
          2040,
          2041,
          2042,
          2043,
          2044,
          2045,
          2046,
          2047,
          2048,
          2049,
          2050
         ],
         "xaxis": "x",
         "y": [
          4.063058292409369,
          4.1439533800726815,
          4.221970065458374,
          4.298607976669857,
          4.373608448058932,
          4.444332730308102,
          4.505333750111283,
          4.548317235243635,
          4.562636162160523,
          4.536364405088922,
          4.457870320538547,
          4.317684041946721,
          4.110350760953282,
          3.8359119725216497,
          3.5006779606509664,
          3.1170571794754975,
          2.7023828573194133,
          2.2768915678422226,
          1.8612087728713633,
          1.473821465519987,
          1.1290230117101379,
          0.8356923564479767,
          0.597055717857026,
          0.41134238630503933,
          0.27306034207140367,
          0.1745309783469495,
          0.10734404285076696,
          0.06349557716036701,
          0.03610512838140624,
          0.019727908726954384,
          0.010354523374282847,
          0.005218987645972788,
          0.002525438780317227
         ],
         "yaxis": "y"
        },
        {
         "hovertemplate": "variable=Copper wire scrap<br>index=%{x}<br>value=%{y}<extra></extra>",
         "legendgroup": "Copper wire scrap",
         "line": {
          "color": "#EF553B",
          "dash": "solid"
         },
         "marker": {
          "symbol": "circle"
         },
         "mode": "lines",
         "name": "Copper wire scrap",
         "orientation": "v",
         "showlegend": true,
         "type": "scatter",
         "x": [
          2018,
          2019,
          2020,
          2021,
          2022,
          2023,
          2024,
          2025,
          2026,
          2027,
          2028,
          2029,
          2030,
          2031,
          2032,
          2033,
          2034,
          2035,
          2036,
          2037,
          2038,
          2039,
          2040,
          2041,
          2042,
          2043,
          2044,
          2045,
          2046,
          2047,
          2048,
          2049,
          2050
         ],
         "xaxis": "x",
         "y": [
          0.716928517652799,
          0.7312024933405712,
          0.7449685736132177,
          0.7584913685441941,
          0.7717252364600653,
          0.7842045688215236,
          0.7949682270206949,
          0.8025526828817047,
          0.8050792641685354,
          0.800443600464506,
          0.786593282888126,
          0.7618573490980887,
          0.7252732956326453,
          0.6768484442973112,
          0.6176962476265788,
          0.5500061830998775,
          0.47683670688354,
          0.4017585717731107,
          0.32841115006149413,
          0.2600564802464471,
          0.19921663336542034,
          0.14745830337736576,
          0.1053507579645225,
          0.07258155459211027,
          0.0481816238365929,
          0.030796071969858993,
          0.018940906081419587,
          0.011203824000294295,
          0.0063707666263375365,
          0.0034809986325886836,
          0.001827060445476355,
          0.000920892787500908,
          0.0004456148425382477
         ],
         "yaxis": "y"
        },
        {
         "hovertemplate": "variable=Electronic waste<br>index=%{x}<br>value=%{y}<extra></extra>",
         "legendgroup": "Electronic waste",
         "line": {
          "color": "#00cc96",
          "dash": "solid"
         },
         "marker": {
          "symbol": "circle"
         },
         "mode": "lines",
         "name": "Electronic waste",
         "orientation": "v",
         "showlegend": true,
         "type": "scatter",
         "x": [
          2018,
          2019,
          2020,
          2021,
          2022,
          2023,
          2024,
          2025,
          2026,
          2027,
          2028,
          2029,
          2030,
          2031,
          2032,
          2033,
          2034,
          2035,
          2036,
          2037,
          2038,
          2039,
          2040,
          2041,
          2042,
          2043,
          2044,
          2045,
          2046,
          2047,
          2048,
          2049,
          2050
         ],
         "xaxis": "x",
         "y": [
          0.010465016272603545,
          0.010673373708762363,
          0.010874317387966072,
          0.011071709827406294,
          0.01126488479489468,
          0.011447045795633581,
          0.0116041630750185,
          0.011714873490422491,
          0.011751754035176528,
          0.011684087182899802,
          0.011481913890516227,
          0.01112084309579001,
          0.010586825121324287,
          0.009879966843623439,
          0.009016521345952147,
          0.008028448463756421,
          0.006960392527344809,
          0.005864475868568691,
          0.004793822459106587,
          0.0037960483235973926,
          0.002907968170617627,
          0.0021524510552696076,
          0.001537806586407508,
          0.0010594740356878187,
          0.0007033078822714606,
          0.0004495307221868969,
          0.00027648068877057243,
          0.00016354238615354954,
          9.299417553071808e-05,
          5.081218899510048e-05,
          2.6669628592177237e-05,
          1.344228576381922e-05,
          6.5046465074986e-06
         ],
         "yaxis": "y"
        },
        {
         "hovertemplate": "variable=Glass<br>index=%{x}<br>value=%{y}<extra></extra>",
         "legendgroup": "Glass",
         "line": {
          "color": "#ab63fa",
          "dash": "solid"
         },
         "marker": {
          "symbol": "circle"
         },
         "mode": "lines",
         "name": "Glass",
         "orientation": "v",
         "showlegend": true,
         "type": "scatter",
         "x": [
          2018,
          2019,
          2020,
          2021,
          2022,
          2023,
          2024,
          2025,
          2026,
          2027,
          2028,
          2029,
          2030,
          2031,
          2032,
          2033,
          2034,
          2035,
          2036,
          2037,
          2038,
          2039,
          2040,
          2041,
          2042,
          2043,
          2044,
          2045,
          2046,
          2047,
          2048,
          2049,
          2050
         ],
         "xaxis": "x",
         "y": [
          1.2991315549631937,
          1.324997135386014,
          1.3499423688786127,
          1.3744467499620217,
          1.3984275722900428,
          1.4210411161182641,
          1.4405457217645332,
          1.4542893596498314,
          1.4588677261048963,
          1.450467534387291,
          1.425369656193456,
          1.3805461747209553,
          1.3142529570637453,
          1.2265032709163726,
          1.1193147809230741,
          0.9966549946001091,
          0.8640660780314315,
          0.7280185195815602,
          0.5951071516076326,
          0.47124304758712077,
          0.3609964010441124,
          0.26720618617049596,
          0.19090396133088855,
          0.13152355577597383,
          0.08730893855417585,
          0.05580493435516658,
          0.034322429871429964,
          0.020302221123369,
          0.011544336359611385,
          0.006307846675126653,
          0.0033107789955329242,
          0.0016687310513149784,
          0.0008074895739909088
         ],
         "yaxis": "y"
        },
        {
         "hovertemplate": "variable=Lead acid batteries<br>index=%{x}<br>value=%{y}<extra></extra>",
         "legendgroup": "Lead acid batteries",
         "line": {
          "color": "#FFA15A",
          "dash": "solid"
         },
         "marker": {
          "symbol": "circle"
         },
         "mode": "lines",
         "name": "Lead acid batteries",
         "orientation": "v",
         "showlegend": true,
         "type": "scatter",
         "x": [
          2018,
          2019,
          2020,
          2021,
          2022,
          2023,
          2024,
          2025,
          2026,
          2027,
          2028,
          2029,
          2030,
          2031,
          2032,
          2033,
          2034,
          2035,
          2036,
          2037,
          2038,
          2039,
          2040,
          2041,
          2042,
          2043,
          2044,
          2045,
          2046,
          2047,
          2048,
          2049,
          2050
         ],
         "xaxis": "x",
         "y": [
          0.5488546191837455,
          0.5597822602210967,
          0.5703210748443914,
          0.5806736389834781,
          0.5908050110191083,
          0.6003587378443993,
          0.6085990064018165,
          0.6144053922977761,
          0.6163396518172054,
          0.6127907548570612,
          0.6021874511918001,
          0.5832505123112908,
          0.5552430802750916,
          0.5181707603934659,
          0.4728859717734103,
          0.4210648994160707,
          0.36504898706811095,
          0.30757187430103783,
          0.25141973329897643,
          0.1990898630999264,
          0.1525130703390408,
          0.11288875941305546,
          0.08065274113051764,
          0.0555658207541263,
          0.036886113679878145,
          0.023576362129812654,
          0.014500474647525758,
          0.00857724362146417,
          0.004877229186048895,
          0.002664927021069994,
          0.0013987315894626613,
          0.0007050023088043012,
          0.00034114665365062393
         ],
         "yaxis": "y"
        },
        {
         "hovertemplate": "variable=Shredder Light Fraction (SLF)/Automobile Shredder Residue (ASR)<br>index=%{x}<br>value=%{y}<extra></extra>",
         "legendgroup": "Shredder Light Fraction (SLF)/Automobile Shredder Residue (ASR)",
         "line": {
          "color": "#19d3f3",
          "dash": "solid"
         },
         "marker": {
          "symbol": "circle"
         },
         "mode": "lines",
         "name": "Shredder Light Fraction (SLF)/Automobile Shredder Residue (ASR)",
         "orientation": "v",
         "showlegend": true,
         "type": "scatter",
         "x": [
          2018,
          2019,
          2020,
          2021,
          2022,
          2023,
          2024,
          2025,
          2026,
          2027,
          2028,
          2029,
          2030,
          2031,
          2032,
          2033,
          2034,
          2035,
          2036,
          2037,
          2038,
          2039,
          2040,
          2041,
          2042,
          2043,
          2044,
          2045,
          2046,
          2047,
          2048,
          2049,
          2050
         ],
         "xaxis": "x",
         "y": [
          10.698931543424164,
          10.911946209427354,
          11.117381405310654,
          11.319185983702873,
          11.516678820715661,
          11.70291150550271,
          11.863540688739526,
          11.976725716330188,
          12.014430619345067,
          11.945251269651843,
          11.738558976130694,
          11.369417484662716,
          10.823463077814441,
          10.10080502100641,
          9.21805968832623,
          8.207901285209298,
          7.115972037270082,
          5.995559320833209,
          4.900974540821307,
          3.880898040839308,
          2.9729674161466106,
          2.200562893646736,
          1.5721798195453245,
          1.0831555235641557,
          0.7190283025236954,
          0.45957868559979814,
          0.28266061754524135,
          0.16719790474532722,
          0.09507279224638958,
          0.05194794900159884,
          0.027265751257667607,
          0.013742749311412892,
          0.006650039128948909
         ],
         "yaxis": "y"
        },
        {
         "hovertemplate": "variable=Steel shred<br>index=%{x}<br>value=%{y}<extra></extra>",
         "legendgroup": "Steel shred",
         "line": {
          "color": "#FF6692",
          "dash": "solid"
         },
         "marker": {
          "symbol": "circle"
         },
         "mode": "lines",
         "name": "Steel shred",
         "orientation": "v",
         "showlegend": true,
         "type": "scatter",
         "x": [
          2018,
          2019,
          2020,
          2021,
          2022,
          2023,
          2024,
          2025,
          2026,
          2027,
          2028,
          2029,
          2030,
          2031,
          2032,
          2033,
          2034,
          2035,
          2036,
          2037,
          2038,
          2039,
          2040,
          2041,
          2042,
          2043,
          2044,
          2045,
          2046,
          2047,
          2048,
          2049,
          2050
         ],
         "xaxis": "x",
         "y": [
          34.365750408492715,
          35.049969091031464,
          35.709841961344814,
          36.35805302281109,
          36.9924144556981,
          37.59060745630935,
          38.10656013784877,
          38.470118722402006,
          38.59122962781591,
          38.36902049830334,
          37.70510973845998,
          36.51940027675169,
          34.765754802527105,
          32.44452428430633,
          29.60908173062494,
          26.364379078433963,
          22.857022493703216,
          19.258174925486344,
          15.742288577569312,
          12.465728273050267,
          9.549388719911114,
          7.068368916495652,
          5.049956535984326,
          3.479174740515514,
          2.3095714820569038,
          1.4762003419017158,
          0.9079265713070716,
          0.5370518953205582,
          0.3053807602859221,
          0.16686061055501392,
          0.08757958667348986,
          0.044142715639000005,
          0.021360411923808498
         ],
         "yaxis": "y"
        }
       ],
       "layout": {
        "legend": {
         "title": {
          "text": "variable"
         },
         "tracegroupgap": 0
        },
        "template": {
         "data": {
          "bar": [
           {
            "error_x": {
             "color": "#2a3f5f"
            },
            "error_y": {
             "color": "#2a3f5f"
            },
            "marker": {
             "line": {
              "color": "#E5ECF6",
              "width": 0.5
             },
             "pattern": {
              "fillmode": "overlay",
              "size": 10,
              "solidity": 0.2
             }
            },
            "type": "bar"
           }
          ],
          "barpolar": [
           {
            "marker": {
             "line": {
              "color": "#E5ECF6",
              "width": 0.5
             },
             "pattern": {
              "fillmode": "overlay",
              "size": 10,
              "solidity": 0.2
             }
            },
            "type": "barpolar"
           }
          ],
          "carpet": [
           {
            "aaxis": {
             "endlinecolor": "#2a3f5f",
             "gridcolor": "white",
             "linecolor": "white",
             "minorgridcolor": "white",
             "startlinecolor": "#2a3f5f"
            },
            "baxis": {
             "endlinecolor": "#2a3f5f",
             "gridcolor": "white",
             "linecolor": "white",
             "minorgridcolor": "white",
             "startlinecolor": "#2a3f5f"
            },
            "type": "carpet"
           }
          ],
          "choropleth": [
           {
            "colorbar": {
             "outlinewidth": 0,
             "ticks": ""
            },
            "type": "choropleth"
           }
          ],
          "contour": [
           {
            "colorbar": {
             "outlinewidth": 0,
             "ticks": ""
            },
            "colorscale": [
             [
              0,
              "#0d0887"
             ],
             [
              0.1111111111111111,
              "#46039f"
             ],
             [
              0.2222222222222222,
              "#7201a8"
             ],
             [
              0.3333333333333333,
              "#9c179e"
             ],
             [
              0.4444444444444444,
              "#bd3786"
             ],
             [
              0.5555555555555556,
              "#d8576b"
             ],
             [
              0.6666666666666666,
              "#ed7953"
             ],
             [
              0.7777777777777778,
              "#fb9f3a"
             ],
             [
              0.8888888888888888,
              "#fdca26"
             ],
             [
              1,
              "#f0f921"
             ]
            ],
            "type": "contour"
           }
          ],
          "contourcarpet": [
           {
            "colorbar": {
             "outlinewidth": 0,
             "ticks": ""
            },
            "type": "contourcarpet"
           }
          ],
          "heatmap": [
           {
            "colorbar": {
             "outlinewidth": 0,
             "ticks": ""
            },
            "colorscale": [
             [
              0,
              "#0d0887"
             ],
             [
              0.1111111111111111,
              "#46039f"
             ],
             [
              0.2222222222222222,
              "#7201a8"
             ],
             [
              0.3333333333333333,
              "#9c179e"
             ],
             [
              0.4444444444444444,
              "#bd3786"
             ],
             [
              0.5555555555555556,
              "#d8576b"
             ],
             [
              0.6666666666666666,
              "#ed7953"
             ],
             [
              0.7777777777777778,
              "#fb9f3a"
             ],
             [
              0.8888888888888888,
              "#fdca26"
             ],
             [
              1,
              "#f0f921"
             ]
            ],
            "type": "heatmap"
           }
          ],
          "heatmapgl": [
           {
            "colorbar": {
             "outlinewidth": 0,
             "ticks": ""
            },
            "colorscale": [
             [
              0,
              "#0d0887"
             ],
             [
              0.1111111111111111,
              "#46039f"
             ],
             [
              0.2222222222222222,
              "#7201a8"
             ],
             [
              0.3333333333333333,
              "#9c179e"
             ],
             [
              0.4444444444444444,
              "#bd3786"
             ],
             [
              0.5555555555555556,
              "#d8576b"
             ],
             [
              0.6666666666666666,
              "#ed7953"
             ],
             [
              0.7777777777777778,
              "#fb9f3a"
             ],
             [
              0.8888888888888888,
              "#fdca26"
             ],
             [
              1,
              "#f0f921"
             ]
            ],
            "type": "heatmapgl"
           }
          ],
          "histogram": [
           {
            "marker": {
             "pattern": {
              "fillmode": "overlay",
              "size": 10,
              "solidity": 0.2
             }
            },
            "type": "histogram"
           }
          ],
          "histogram2d": [
           {
            "colorbar": {
             "outlinewidth": 0,
             "ticks": ""
            },
            "colorscale": [
             [
              0,
              "#0d0887"
             ],
             [
              0.1111111111111111,
              "#46039f"
             ],
             [
              0.2222222222222222,
              "#7201a8"
             ],
             [
              0.3333333333333333,
              "#9c179e"
             ],
             [
              0.4444444444444444,
              "#bd3786"
             ],
             [
              0.5555555555555556,
              "#d8576b"
             ],
             [
              0.6666666666666666,
              "#ed7953"
             ],
             [
              0.7777777777777778,
              "#fb9f3a"
             ],
             [
              0.8888888888888888,
              "#fdca26"
             ],
             [
              1,
              "#f0f921"
             ]
            ],
            "type": "histogram2d"
           }
          ],
          "histogram2dcontour": [
           {
            "colorbar": {
             "outlinewidth": 0,
             "ticks": ""
            },
            "colorscale": [
             [
              0,
              "#0d0887"
             ],
             [
              0.1111111111111111,
              "#46039f"
             ],
             [
              0.2222222222222222,
              "#7201a8"
             ],
             [
              0.3333333333333333,
              "#9c179e"
             ],
             [
              0.4444444444444444,
              "#bd3786"
             ],
             [
              0.5555555555555556,
              "#d8576b"
             ],
             [
              0.6666666666666666,
              "#ed7953"
             ],
             [
              0.7777777777777778,
              "#fb9f3a"
             ],
             [
              0.8888888888888888,
              "#fdca26"
             ],
             [
              1,
              "#f0f921"
             ]
            ],
            "type": "histogram2dcontour"
           }
          ],
          "mesh3d": [
           {
            "colorbar": {
             "outlinewidth": 0,
             "ticks": ""
            },
            "type": "mesh3d"
           }
          ],
          "parcoords": [
           {
            "line": {
             "colorbar": {
              "outlinewidth": 0,
              "ticks": ""
             }
            },
            "type": "parcoords"
           }
          ],
          "pie": [
           {
            "automargin": true,
            "type": "pie"
           }
          ],
          "scatter": [
           {
            "fillpattern": {
             "fillmode": "overlay",
             "size": 10,
             "solidity": 0.2
            },
            "type": "scatter"
           }
          ],
          "scatter3d": [
           {
            "line": {
             "colorbar": {
              "outlinewidth": 0,
              "ticks": ""
             }
            },
            "marker": {
             "colorbar": {
              "outlinewidth": 0,
              "ticks": ""
             }
            },
            "type": "scatter3d"
           }
          ],
          "scattercarpet": [
           {
            "marker": {
             "colorbar": {
              "outlinewidth": 0,
              "ticks": ""
             }
            },
            "type": "scattercarpet"
           }
          ],
          "scattergeo": [
           {
            "marker": {
             "colorbar": {
              "outlinewidth": 0,
              "ticks": ""
             }
            },
            "type": "scattergeo"
           }
          ],
          "scattergl": [
           {
            "marker": {
             "colorbar": {
              "outlinewidth": 0,
              "ticks": ""
             }
            },
            "type": "scattergl"
           }
          ],
          "scattermapbox": [
           {
            "marker": {
             "colorbar": {
              "outlinewidth": 0,
              "ticks": ""
             }
            },
            "type": "scattermapbox"
           }
          ],
          "scatterpolar": [
           {
            "marker": {
             "colorbar": {
              "outlinewidth": 0,
              "ticks": ""
             }
            },
            "type": "scatterpolar"
           }
          ],
          "scatterpolargl": [
           {
            "marker": {
             "colorbar": {
              "outlinewidth": 0,
              "ticks": ""
             }
            },
            "type": "scatterpolargl"
           }
          ],
          "scatterternary": [
           {
            "marker": {
             "colorbar": {
              "outlinewidth": 0,
              "ticks": ""
             }
            },
            "type": "scatterternary"
           }
          ],
          "surface": [
           {
            "colorbar": {
             "outlinewidth": 0,
             "ticks": ""
            },
            "colorscale": [
             [
              0,
              "#0d0887"
             ],
             [
              0.1111111111111111,
              "#46039f"
             ],
             [
              0.2222222222222222,
              "#7201a8"
             ],
             [
              0.3333333333333333,
              "#9c179e"
             ],
             [
              0.4444444444444444,
              "#bd3786"
             ],
             [
              0.5555555555555556,
              "#d8576b"
             ],
             [
              0.6666666666666666,
              "#ed7953"
             ],
             [
              0.7777777777777778,
              "#fb9f3a"
             ],
             [
              0.8888888888888888,
              "#fdca26"
             ],
             [
              1,
              "#f0f921"
             ]
            ],
            "type": "surface"
           }
          ],
          "table": [
           {
            "cells": {
             "fill": {
              "color": "#EBF0F8"
             },
             "line": {
              "color": "white"
             }
            },
            "header": {
             "fill": {
              "color": "#C8D4E3"
             },
             "line": {
              "color": "white"
             }
            },
            "type": "table"
           }
          ]
         },
         "layout": {
          "annotationdefaults": {
           "arrowcolor": "#2a3f5f",
           "arrowhead": 0,
           "arrowwidth": 1
          },
          "autotypenumbers": "strict",
          "coloraxis": {
           "colorbar": {
            "outlinewidth": 0,
            "ticks": ""
           }
          },
          "colorscale": {
           "diverging": [
            [
             0,
             "#8e0152"
            ],
            [
             0.1,
             "#c51b7d"
            ],
            [
             0.2,
             "#de77ae"
            ],
            [
             0.3,
             "#f1b6da"
            ],
            [
             0.4,
             "#fde0ef"
            ],
            [
             0.5,
             "#f7f7f7"
            ],
            [
             0.6,
             "#e6f5d0"
            ],
            [
             0.7,
             "#b8e186"
            ],
            [
             0.8,
             "#7fbc41"
            ],
            [
             0.9,
             "#4d9221"
            ],
            [
             1,
             "#276419"
            ]
           ],
           "sequential": [
            [
             0,
             "#0d0887"
            ],
            [
             0.1111111111111111,
             "#46039f"
            ],
            [
             0.2222222222222222,
             "#7201a8"
            ],
            [
             0.3333333333333333,
             "#9c179e"
            ],
            [
             0.4444444444444444,
             "#bd3786"
            ],
            [
             0.5555555555555556,
             "#d8576b"
            ],
            [
             0.6666666666666666,
             "#ed7953"
            ],
            [
             0.7777777777777778,
             "#fb9f3a"
            ],
            [
             0.8888888888888888,
             "#fdca26"
            ],
            [
             1,
             "#f0f921"
            ]
           ],
           "sequentialminus": [
            [
             0,
             "#0d0887"
            ],
            [
             0.1111111111111111,
             "#46039f"
            ],
            [
             0.2222222222222222,
             "#7201a8"
            ],
            [
             0.3333333333333333,
             "#9c179e"
            ],
            [
             0.4444444444444444,
             "#bd3786"
            ],
            [
             0.5555555555555556,
             "#d8576b"
            ],
            [
             0.6666666666666666,
             "#ed7953"
            ],
            [
             0.7777777777777778,
             "#fb9f3a"
            ],
            [
             0.8888888888888888,
             "#fdca26"
            ],
            [
             1,
             "#f0f921"
            ]
           ]
          },
          "colorway": [
           "#636efa",
           "#EF553B",
           "#00cc96",
           "#ab63fa",
           "#FFA15A",
           "#19d3f3",
           "#FF6692",
           "#B6E880",
           "#FF97FF",
           "#FECB52"
          ],
          "font": {
           "color": "#2a3f5f"
          },
          "geo": {
           "bgcolor": "white",
           "lakecolor": "white",
           "landcolor": "#E5ECF6",
           "showlakes": true,
           "showland": true,
           "subunitcolor": "white"
          },
          "hoverlabel": {
           "align": "left"
          },
          "hovermode": "closest",
          "mapbox": {
           "style": "light"
          },
          "paper_bgcolor": "white",
          "plot_bgcolor": "#E5ECF6",
          "polar": {
           "angularaxis": {
            "gridcolor": "white",
            "linecolor": "white",
            "ticks": ""
           },
           "bgcolor": "#E5ECF6",
           "radialaxis": {
            "gridcolor": "white",
            "linecolor": "white",
            "ticks": ""
           }
          },
          "scene": {
           "xaxis": {
            "backgroundcolor": "#E5ECF6",
            "gridcolor": "white",
            "gridwidth": 2,
            "linecolor": "white",
            "showbackground": true,
            "ticks": "",
            "zerolinecolor": "white"
           },
           "yaxis": {
            "backgroundcolor": "#E5ECF6",
            "gridcolor": "white",
            "gridwidth": 2,
            "linecolor": "white",
            "showbackground": true,
            "ticks": "",
            "zerolinecolor": "white"
           },
           "zaxis": {
            "backgroundcolor": "#E5ECF6",
            "gridcolor": "white",
            "gridwidth": 2,
            "linecolor": "white",
            "showbackground": true,
            "ticks": "",
            "zerolinecolor": "white"
           }
          },
          "shapedefaults": {
           "line": {
            "color": "#2a3f5f"
           }
          },
          "ternary": {
           "aaxis": {
            "gridcolor": "white",
            "linecolor": "white",
            "ticks": ""
           },
           "baxis": {
            "gridcolor": "white",
            "linecolor": "white",
            "ticks": ""
           },
           "bgcolor": "#E5ECF6",
           "caxis": {
            "gridcolor": "white",
            "linecolor": "white",
            "ticks": ""
           }
          },
          "title": {
           "x": 0.05
          },
          "xaxis": {
           "automargin": true,
           "gridcolor": "white",
           "linecolor": "white",
           "ticks": "",
           "title": {
            "standoff": 15
           },
           "zerolinecolor": "white",
           "zerolinewidth": 2
          },
          "yaxis": {
           "automargin": true,
           "gridcolor": "white",
           "linecolor": "white",
           "ticks": "",
           "title": {
            "standoff": 15
           },
           "zerolinecolor": "white",
           "zerolinewidth": 2
          }
         }
        },
        "title": {
         "text": "Scrap outflow"
        },
        "xaxis": {
         "anchor": "y",
         "domain": [
          0,
          1
         ],
         "title": {
          "text": "index"
         }
        },
        "yaxis": {
         "anchor": "x",
         "domain": [
          0,
          1
         ],
         "title": {
          "text": "value"
         }
        }
       }
      }
     },
     "metadata": {},
     "output_type": "display_data"
    },
    {
     "data": {
      "application/vnd.plotly.v1+json": {
       "config": {
        "plotlyServerURL": "https://plot.ly"
       },
       "data": [
        {
         "hovertemplate": "variable=Al old cast<br>index=%{x}<br>value=%{y}<extra></extra>",
         "legendgroup": "Al old cast",
         "line": {
          "color": "#636efa",
          "dash": "solid"
         },
         "marker": {
          "symbol": "circle"
         },
         "mode": "lines",
         "name": "Al old cast",
         "orientation": "v",
         "showlegend": true,
         "type": "scatter",
         "x": [
          2018,
          2019,
          2020,
          2021,
          2022,
          2023,
          2024,
          2025,
          2026,
          2027,
          2028,
          2029,
          2030,
          2031,
          2032,
          2033,
          2034,
          2035,
          2036,
          2037,
          2038,
          2039,
          2040,
          2041,
          2042,
          2043,
          2044,
          2045,
          2046,
          2047,
          2048,
          2049,
          2050
         ],
         "xaxis": "x",
         "y": [
          4.063058292409369,
          4.1439533800726815,
          4.221970065458374,
          4.298607976669857,
          4.373608448058932,
          4.444332730308102,
          4.505333750111283,
          4.548317235243635,
          4.562636162160523,
          4.536364405088922,
          4.457870320538547,
          4.317684041946721,
          4.110350760953282,
          3.8359119725216497,
          3.5006779606509664,
          3.1170571794754975,
          2.7023828573194133,
          2.2768915678422226,
          1.8612087728713633,
          1.473821465519987,
          1.1290230117101379,
          0.8356923564479767,
          0.597055717857026,
          0.41134238630503933,
          0.27306034207140367,
          0.1745309783469495,
          0.10734404285076696,
          0.06349557716036701,
          0.03610512838140624,
          0.019727908726954384,
          0.010354523374282847,
          0.005218987645972788,
          0.002525438780317227
         ],
         "yaxis": "y"
        },
        {
         "hovertemplate": "variable=Copper wire scrap<br>index=%{x}<br>value=%{y}<extra></extra>",
         "legendgroup": "Copper wire scrap",
         "line": {
          "color": "#EF553B",
          "dash": "solid"
         },
         "marker": {
          "symbol": "circle"
         },
         "mode": "lines",
         "name": "Copper wire scrap",
         "orientation": "v",
         "showlegend": true,
         "type": "scatter",
         "x": [
          2018,
          2019,
          2020,
          2021,
          2022,
          2023,
          2024,
          2025,
          2026,
          2027,
          2028,
          2029,
          2030,
          2031,
          2032,
          2033,
          2034,
          2035,
          2036,
          2037,
          2038,
          2039,
          2040,
          2041,
          2042,
          2043,
          2044,
          2045,
          2046,
          2047,
          2048,
          2049,
          2050
         ],
         "xaxis": "x",
         "y": [
          0.716928517652799,
          0.7312024933405712,
          0.7449685736132177,
          0.7584913685441941,
          0.7717252364600653,
          0.7842045688215236,
          0.7949682270206949,
          0.8025526828817047,
          0.8050792641685354,
          0.800443600464506,
          0.786593282888126,
          0.7618573490980887,
          0.7252732956326453,
          0.6768484442973112,
          0.6176962476265788,
          0.5500061830998775,
          0.47683670688354,
          0.4017585717731107,
          0.32841115006149413,
          0.2600564802464471,
          0.19921663336542034,
          0.14745830337736576,
          0.1053507579645225,
          0.07258155459211027,
          0.0481816238365929,
          0.030796071969858993,
          0.018940906081419587,
          0.011203824000294295,
          0.0063707666263375365,
          0.0034809986325886836,
          0.001827060445476355,
          0.000920892787500908,
          0.0004456148425382477
         ],
         "yaxis": "y"
        },
        {
         "hovertemplate": "variable=Electronic waste<br>index=%{x}<br>value=%{y}<extra></extra>",
         "legendgroup": "Electronic waste",
         "line": {
          "color": "#00cc96",
          "dash": "solid"
         },
         "marker": {
          "symbol": "circle"
         },
         "mode": "lines",
         "name": "Electronic waste",
         "orientation": "v",
         "showlegend": true,
         "type": "scatter",
         "x": [
          2018,
          2019,
          2020,
          2021,
          2022,
          2023,
          2024,
          2025,
          2026,
          2027,
          2028,
          2029,
          2030,
          2031,
          2032,
          2033,
          2034,
          2035,
          2036,
          2037,
          2038,
          2039,
          2040,
          2041,
          2042,
          2043,
          2044,
          2045,
          2046,
          2047,
          2048,
          2049,
          2050
         ],
         "xaxis": "x",
         "y": [
          0.010465016272603545,
          0.010673373708762363,
          0.010874317387966072,
          0.011071709827406294,
          0.01126488479489468,
          0.011447045795633581,
          0.0116041630750185,
          0.011714873490422491,
          0.011751754035176528,
          0.011684087182899802,
          0.011481913890516227,
          0.01112084309579001,
          0.010586825121324287,
          0.009879966843623439,
          0.009016521345952147,
          0.008028448463756421,
          0.006960392527344809,
          0.005864475868568691,
          0.004793822459106587,
          0.0037960483235973926,
          0.002907968170617627,
          0.0021524510552696076,
          0.001537806586407508,
          0.0010594740356878187,
          0.0007033078822714606,
          0.0004495307221868969,
          0.00027648068877057243,
          0.00016354238615354954,
          9.299417553071808e-05,
          5.081218899510048e-05,
          2.6669628592177237e-05,
          1.344228576381922e-05,
          6.5046465074986e-06
         ],
         "yaxis": "y"
        },
        {
         "hovertemplate": "variable=Glass<br>index=%{x}<br>value=%{y}<extra></extra>",
         "legendgroup": "Glass",
         "line": {
          "color": "#ab63fa",
          "dash": "solid"
         },
         "marker": {
          "symbol": "circle"
         },
         "mode": "lines",
         "name": "Glass",
         "orientation": "v",
         "showlegend": true,
         "type": "scatter",
         "x": [
          2018,
          2019,
          2020,
          2021,
          2022,
          2023,
          2024,
          2025,
          2026,
          2027,
          2028,
          2029,
          2030,
          2031,
          2032,
          2033,
          2034,
          2035,
          2036,
          2037,
          2038,
          2039,
          2040,
          2041,
          2042,
          2043,
          2044,
          2045,
          2046,
          2047,
          2048,
          2049,
          2050
         ],
         "xaxis": "x",
         "y": [
          1.2991315549631937,
          1.324997135386014,
          1.3499423688786127,
          1.3744467499620217,
          1.3984275722900428,
          1.4210411161182641,
          1.4405457217645332,
          1.4542893596498314,
          1.4588677261048963,
          1.450467534387291,
          1.425369656193456,
          1.3805461747209553,
          1.3142529570637453,
          1.2265032709163726,
          1.1193147809230741,
          0.9966549946001091,
          0.8640660780314315,
          0.7280185195815602,
          0.5951071516076326,
          0.47124304758712077,
          0.3609964010441124,
          0.26720618617049596,
          0.19090396133088855,
          0.13152355577597383,
          0.08730893855417585,
          0.05580493435516658,
          0.034322429871429964,
          0.020302221123369,
          0.011544336359611385,
          0.006307846675126653,
          0.0033107789955329242,
          0.0016687310513149784,
          0.0008074895739909088
         ],
         "yaxis": "y"
        },
        {
         "hovertemplate": "variable=Lead acid batteries<br>index=%{x}<br>value=%{y}<extra></extra>",
         "legendgroup": "Lead acid batteries",
         "line": {
          "color": "#FFA15A",
          "dash": "solid"
         },
         "marker": {
          "symbol": "circle"
         },
         "mode": "lines",
         "name": "Lead acid batteries",
         "orientation": "v",
         "showlegend": true,
         "type": "scatter",
         "x": [
          2018,
          2019,
          2020,
          2021,
          2022,
          2023,
          2024,
          2025,
          2026,
          2027,
          2028,
          2029,
          2030,
          2031,
          2032,
          2033,
          2034,
          2035,
          2036,
          2037,
          2038,
          2039,
          2040,
          2041,
          2042,
          2043,
          2044,
          2045,
          2046,
          2047,
          2048,
          2049,
          2050
         ],
         "xaxis": "x",
         "y": [
          0.5488546191837455,
          0.5597822602210967,
          0.5703210748443914,
          0.5806736389834781,
          0.5908050110191083,
          0.6003587378443993,
          0.6085990064018165,
          0.6144053922977761,
          0.6163396518172054,
          0.6127907548570612,
          0.6021874511918001,
          0.5832505123112908,
          0.5552430802750916,
          0.5181707603934659,
          0.4728859717734103,
          0.4210648994160707,
          0.36504898706811095,
          0.30757187430103783,
          0.25141973329897643,
          0.1990898630999264,
          0.1525130703390408,
          0.11288875941305546,
          0.08065274113051764,
          0.0555658207541263,
          0.036886113679878145,
          0.023576362129812654,
          0.014500474647525758,
          0.00857724362146417,
          0.004877229186048895,
          0.002664927021069994,
          0.0013987315894626613,
          0.0007050023088043012,
          0.00034114665365062393
         ],
         "yaxis": "y"
        },
        {
         "hovertemplate": "variable=Shredder Light Fraction (SLF)/Automobile Shredder Residue (ASR)<br>index=%{x}<br>value=%{y}<extra></extra>",
         "legendgroup": "Shredder Light Fraction (SLF)/Automobile Shredder Residue (ASR)",
         "line": {
          "color": "#19d3f3",
          "dash": "solid"
         },
         "marker": {
          "symbol": "circle"
         },
         "mode": "lines",
         "name": "Shredder Light Fraction (SLF)/Automobile Shredder Residue (ASR)",
         "orientation": "v",
         "showlegend": true,
         "type": "scatter",
         "x": [
          2018,
          2019,
          2020,
          2021,
          2022,
          2023,
          2024,
          2025,
          2026,
          2027,
          2028,
          2029,
          2030,
          2031,
          2032,
          2033,
          2034,
          2035,
          2036,
          2037,
          2038,
          2039,
          2040,
          2041,
          2042,
          2043,
          2044,
          2045,
          2046,
          2047,
          2048,
          2049,
          2050
         ],
         "xaxis": "x",
         "y": [
          10.698931543424164,
          10.911946209427354,
          11.117381405310654,
          11.319185983702873,
          11.516678820715661,
          11.70291150550271,
          11.863540688739526,
          11.976725716330188,
          12.014430619345067,
          11.945251269651843,
          11.738558976130694,
          11.369417484662716,
          10.823463077814441,
          10.10080502100641,
          9.21805968832623,
          8.207901285209298,
          7.115972037270082,
          5.995559320833209,
          4.900974540821307,
          3.880898040839308,
          2.9729674161466106,
          2.200562893646736,
          1.5721798195453245,
          1.0831555235641557,
          0.7190283025236954,
          0.45957868559979814,
          0.28266061754524135,
          0.16719790474532722,
          0.09507279224638958,
          0.05194794900159884,
          0.027265751257667607,
          0.013742749311412892,
          0.006650039128948909
         ],
         "yaxis": "y"
        },
        {
         "hovertemplate": "variable=Steel shred<br>index=%{x}<br>value=%{y}<extra></extra>",
         "legendgroup": "Steel shred",
         "line": {
          "color": "#FF6692",
          "dash": "solid"
         },
         "marker": {
          "symbol": "circle"
         },
         "mode": "lines",
         "name": "Steel shred",
         "orientation": "v",
         "showlegend": true,
         "type": "scatter",
         "x": [
          2018,
          2019,
          2020,
          2021,
          2022,
          2023,
          2024,
          2025,
          2026,
          2027,
          2028,
          2029,
          2030,
          2031,
          2032,
          2033,
          2034,
          2035,
          2036,
          2037,
          2038,
          2039,
          2040,
          2041,
          2042,
          2043,
          2044,
          2045,
          2046,
          2047,
          2048,
          2049,
          2050
         ],
         "xaxis": "x",
         "y": [
          34.365750408492715,
          35.049969091031464,
          35.709841961344814,
          36.35805302281109,
          36.9924144556981,
          37.59060745630935,
          38.10656013784877,
          38.470118722402006,
          38.59122962781591,
          38.36902049830334,
          37.70510973845998,
          36.51940027675169,
          34.765754802527105,
          32.44452428430633,
          29.60908173062494,
          26.364379078433963,
          22.857022493703216,
          19.258174925486344,
          15.742288577569312,
          12.465728273050267,
          9.549388719911114,
          7.068368916495652,
          5.049956535984326,
          3.479174740515514,
          2.3095714820569038,
          1.4762003419017158,
          0.9079265713070716,
          0.5370518953205582,
          0.3053807602859221,
          0.16686061055501392,
          0.08757958667348986,
          0.044142715639000005,
          0.021360411923808498
         ],
         "yaxis": "y"
        }
       ],
       "layout": {
        "legend": {
         "title": {
          "text": "variable"
         },
         "tracegroupgap": 0
        },
        "template": {
         "data": {
          "bar": [
           {
            "error_x": {
             "color": "#2a3f5f"
            },
            "error_y": {
             "color": "#2a3f5f"
            },
            "marker": {
             "line": {
              "color": "#E5ECF6",
              "width": 0.5
             },
             "pattern": {
              "fillmode": "overlay",
              "size": 10,
              "solidity": 0.2
             }
            },
            "type": "bar"
           }
          ],
          "barpolar": [
           {
            "marker": {
             "line": {
              "color": "#E5ECF6",
              "width": 0.5
             },
             "pattern": {
              "fillmode": "overlay",
              "size": 10,
              "solidity": 0.2
             }
            },
            "type": "barpolar"
           }
          ],
          "carpet": [
           {
            "aaxis": {
             "endlinecolor": "#2a3f5f",
             "gridcolor": "white",
             "linecolor": "white",
             "minorgridcolor": "white",
             "startlinecolor": "#2a3f5f"
            },
            "baxis": {
             "endlinecolor": "#2a3f5f",
             "gridcolor": "white",
             "linecolor": "white",
             "minorgridcolor": "white",
             "startlinecolor": "#2a3f5f"
            },
            "type": "carpet"
           }
          ],
          "choropleth": [
           {
            "colorbar": {
             "outlinewidth": 0,
             "ticks": ""
            },
            "type": "choropleth"
           }
          ],
          "contour": [
           {
            "colorbar": {
             "outlinewidth": 0,
             "ticks": ""
            },
            "colorscale": [
             [
              0,
              "#0d0887"
             ],
             [
              0.1111111111111111,
              "#46039f"
             ],
             [
              0.2222222222222222,
              "#7201a8"
             ],
             [
              0.3333333333333333,
              "#9c179e"
             ],
             [
              0.4444444444444444,
              "#bd3786"
             ],
             [
              0.5555555555555556,
              "#d8576b"
             ],
             [
              0.6666666666666666,
              "#ed7953"
             ],
             [
              0.7777777777777778,
              "#fb9f3a"
             ],
             [
              0.8888888888888888,
              "#fdca26"
             ],
             [
              1,
              "#f0f921"
             ]
            ],
            "type": "contour"
           }
          ],
          "contourcarpet": [
           {
            "colorbar": {
             "outlinewidth": 0,
             "ticks": ""
            },
            "type": "contourcarpet"
           }
          ],
          "heatmap": [
           {
            "colorbar": {
             "outlinewidth": 0,
             "ticks": ""
            },
            "colorscale": [
             [
              0,
              "#0d0887"
             ],
             [
              0.1111111111111111,
              "#46039f"
             ],
             [
              0.2222222222222222,
              "#7201a8"
             ],
             [
              0.3333333333333333,
              "#9c179e"
             ],
             [
              0.4444444444444444,
              "#bd3786"
             ],
             [
              0.5555555555555556,
              "#d8576b"
             ],
             [
              0.6666666666666666,
              "#ed7953"
             ],
             [
              0.7777777777777778,
              "#fb9f3a"
             ],
             [
              0.8888888888888888,
              "#fdca26"
             ],
             [
              1,
              "#f0f921"
             ]
            ],
            "type": "heatmap"
           }
          ],
          "heatmapgl": [
           {
            "colorbar": {
             "outlinewidth": 0,
             "ticks": ""
            },
            "colorscale": [
             [
              0,
              "#0d0887"
             ],
             [
              0.1111111111111111,
              "#46039f"
             ],
             [
              0.2222222222222222,
              "#7201a8"
             ],
             [
              0.3333333333333333,
              "#9c179e"
             ],
             [
              0.4444444444444444,
              "#bd3786"
             ],
             [
              0.5555555555555556,
              "#d8576b"
             ],
             [
              0.6666666666666666,
              "#ed7953"
             ],
             [
              0.7777777777777778,
              "#fb9f3a"
             ],
             [
              0.8888888888888888,
              "#fdca26"
             ],
             [
              1,
              "#f0f921"
             ]
            ],
            "type": "heatmapgl"
           }
          ],
          "histogram": [
           {
            "marker": {
             "pattern": {
              "fillmode": "overlay",
              "size": 10,
              "solidity": 0.2
             }
            },
            "type": "histogram"
           }
          ],
          "histogram2d": [
           {
            "colorbar": {
             "outlinewidth": 0,
             "ticks": ""
            },
            "colorscale": [
             [
              0,
              "#0d0887"
             ],
             [
              0.1111111111111111,
              "#46039f"
             ],
             [
              0.2222222222222222,
              "#7201a8"
             ],
             [
              0.3333333333333333,
              "#9c179e"
             ],
             [
              0.4444444444444444,
              "#bd3786"
             ],
             [
              0.5555555555555556,
              "#d8576b"
             ],
             [
              0.6666666666666666,
              "#ed7953"
             ],
             [
              0.7777777777777778,
              "#fb9f3a"
             ],
             [
              0.8888888888888888,
              "#fdca26"
             ],
             [
              1,
              "#f0f921"
             ]
            ],
            "type": "histogram2d"
           }
          ],
          "histogram2dcontour": [
           {
            "colorbar": {
             "outlinewidth": 0,
             "ticks": ""
            },
            "colorscale": [
             [
              0,
              "#0d0887"
             ],
             [
              0.1111111111111111,
              "#46039f"
             ],
             [
              0.2222222222222222,
              "#7201a8"
             ],
             [
              0.3333333333333333,
              "#9c179e"
             ],
             [
              0.4444444444444444,
              "#bd3786"
             ],
             [
              0.5555555555555556,
              "#d8576b"
             ],
             [
              0.6666666666666666,
              "#ed7953"
             ],
             [
              0.7777777777777778,
              "#fb9f3a"
             ],
             [
              0.8888888888888888,
              "#fdca26"
             ],
             [
              1,
              "#f0f921"
             ]
            ],
            "type": "histogram2dcontour"
           }
          ],
          "mesh3d": [
           {
            "colorbar": {
             "outlinewidth": 0,
             "ticks": ""
            },
            "type": "mesh3d"
           }
          ],
          "parcoords": [
           {
            "line": {
             "colorbar": {
              "outlinewidth": 0,
              "ticks": ""
             }
            },
            "type": "parcoords"
           }
          ],
          "pie": [
           {
            "automargin": true,
            "type": "pie"
           }
          ],
          "scatter": [
           {
            "fillpattern": {
             "fillmode": "overlay",
             "size": 10,
             "solidity": 0.2
            },
            "type": "scatter"
           }
          ],
          "scatter3d": [
           {
            "line": {
             "colorbar": {
              "outlinewidth": 0,
              "ticks": ""
             }
            },
            "marker": {
             "colorbar": {
              "outlinewidth": 0,
              "ticks": ""
             }
            },
            "type": "scatter3d"
           }
          ],
          "scattercarpet": [
           {
            "marker": {
             "colorbar": {
              "outlinewidth": 0,
              "ticks": ""
             }
            },
            "type": "scattercarpet"
           }
          ],
          "scattergeo": [
           {
            "marker": {
             "colorbar": {
              "outlinewidth": 0,
              "ticks": ""
             }
            },
            "type": "scattergeo"
           }
          ],
          "scattergl": [
           {
            "marker": {
             "colorbar": {
              "outlinewidth": 0,
              "ticks": ""
             }
            },
            "type": "scattergl"
           }
          ],
          "scattermapbox": [
           {
            "marker": {
             "colorbar": {
              "outlinewidth": 0,
              "ticks": ""
             }
            },
            "type": "scattermapbox"
           }
          ],
          "scatterpolar": [
           {
            "marker": {
             "colorbar": {
              "outlinewidth": 0,
              "ticks": ""
             }
            },
            "type": "scatterpolar"
           }
          ],
          "scatterpolargl": [
           {
            "marker": {
             "colorbar": {
              "outlinewidth": 0,
              "ticks": ""
             }
            },
            "type": "scatterpolargl"
           }
          ],
          "scatterternary": [
           {
            "marker": {
             "colorbar": {
              "outlinewidth": 0,
              "ticks": ""
             }
            },
            "type": "scatterternary"
           }
          ],
          "surface": [
           {
            "colorbar": {
             "outlinewidth": 0,
             "ticks": ""
            },
            "colorscale": [
             [
              0,
              "#0d0887"
             ],
             [
              0.1111111111111111,
              "#46039f"
             ],
             [
              0.2222222222222222,
              "#7201a8"
             ],
             [
              0.3333333333333333,
              "#9c179e"
             ],
             [
              0.4444444444444444,
              "#bd3786"
             ],
             [
              0.5555555555555556,
              "#d8576b"
             ],
             [
              0.6666666666666666,
              "#ed7953"
             ],
             [
              0.7777777777777778,
              "#fb9f3a"
             ],
             [
              0.8888888888888888,
              "#fdca26"
             ],
             [
              1,
              "#f0f921"
             ]
            ],
            "type": "surface"
           }
          ],
          "table": [
           {
            "cells": {
             "fill": {
              "color": "#EBF0F8"
             },
             "line": {
              "color": "white"
             }
            },
            "header": {
             "fill": {
              "color": "#C8D4E3"
             },
             "line": {
              "color": "white"
             }
            },
            "type": "table"
           }
          ]
         },
         "layout": {
          "annotationdefaults": {
           "arrowcolor": "#2a3f5f",
           "arrowhead": 0,
           "arrowwidth": 1
          },
          "autotypenumbers": "strict",
          "coloraxis": {
           "colorbar": {
            "outlinewidth": 0,
            "ticks": ""
           }
          },
          "colorscale": {
           "diverging": [
            [
             0,
             "#8e0152"
            ],
            [
             0.1,
             "#c51b7d"
            ],
            [
             0.2,
             "#de77ae"
            ],
            [
             0.3,
             "#f1b6da"
            ],
            [
             0.4,
             "#fde0ef"
            ],
            [
             0.5,
             "#f7f7f7"
            ],
            [
             0.6,
             "#e6f5d0"
            ],
            [
             0.7,
             "#b8e186"
            ],
            [
             0.8,
             "#7fbc41"
            ],
            [
             0.9,
             "#4d9221"
            ],
            [
             1,
             "#276419"
            ]
           ],
           "sequential": [
            [
             0,
             "#0d0887"
            ],
            [
             0.1111111111111111,
             "#46039f"
            ],
            [
             0.2222222222222222,
             "#7201a8"
            ],
            [
             0.3333333333333333,
             "#9c179e"
            ],
            [
             0.4444444444444444,
             "#bd3786"
            ],
            [
             0.5555555555555556,
             "#d8576b"
            ],
            [
             0.6666666666666666,
             "#ed7953"
            ],
            [
             0.7777777777777778,
             "#fb9f3a"
            ],
            [
             0.8888888888888888,
             "#fdca26"
            ],
            [
             1,
             "#f0f921"
            ]
           ],
           "sequentialminus": [
            [
             0,
             "#0d0887"
            ],
            [
             0.1111111111111111,
             "#46039f"
            ],
            [
             0.2222222222222222,
             "#7201a8"
            ],
            [
             0.3333333333333333,
             "#9c179e"
            ],
            [
             0.4444444444444444,
             "#bd3786"
            ],
            [
             0.5555555555555556,
             "#d8576b"
            ],
            [
             0.6666666666666666,
             "#ed7953"
            ],
            [
             0.7777777777777778,
             "#fb9f3a"
            ],
            [
             0.8888888888888888,
             "#fdca26"
            ],
            [
             1,
             "#f0f921"
            ]
           ]
          },
          "colorway": [
           "#636efa",
           "#EF553B",
           "#00cc96",
           "#ab63fa",
           "#FFA15A",
           "#19d3f3",
           "#FF6692",
           "#B6E880",
           "#FF97FF",
           "#FECB52"
          ],
          "font": {
           "color": "#2a3f5f"
          },
          "geo": {
           "bgcolor": "white",
           "lakecolor": "white",
           "landcolor": "#E5ECF6",
           "showlakes": true,
           "showland": true,
           "subunitcolor": "white"
          },
          "hoverlabel": {
           "align": "left"
          },
          "hovermode": "closest",
          "mapbox": {
           "style": "light"
          },
          "paper_bgcolor": "white",
          "plot_bgcolor": "#E5ECF6",
          "polar": {
           "angularaxis": {
            "gridcolor": "white",
            "linecolor": "white",
            "ticks": ""
           },
           "bgcolor": "#E5ECF6",
           "radialaxis": {
            "gridcolor": "white",
            "linecolor": "white",
            "ticks": ""
           }
          },
          "scene": {
           "xaxis": {
            "backgroundcolor": "#E5ECF6",
            "gridcolor": "white",
            "gridwidth": 2,
            "linecolor": "white",
            "showbackground": true,
            "ticks": "",
            "zerolinecolor": "white"
           },
           "yaxis": {
            "backgroundcolor": "#E5ECF6",
            "gridcolor": "white",
            "gridwidth": 2,
            "linecolor": "white",
            "showbackground": true,
            "ticks": "",
            "zerolinecolor": "white"
           },
           "zaxis": {
            "backgroundcolor": "#E5ECF6",
            "gridcolor": "white",
            "gridwidth": 2,
            "linecolor": "white",
            "showbackground": true,
            "ticks": "",
            "zerolinecolor": "white"
           }
          },
          "shapedefaults": {
           "line": {
            "color": "#2a3f5f"
           }
          },
          "ternary": {
           "aaxis": {
            "gridcolor": "white",
            "linecolor": "white",
            "ticks": ""
           },
           "baxis": {
            "gridcolor": "white",
            "linecolor": "white",
            "ticks": ""
           },
           "bgcolor": "#E5ECF6",
           "caxis": {
            "gridcolor": "white",
            "linecolor": "white",
            "ticks": ""
           }
          },
          "title": {
           "x": 0.05
          },
          "xaxis": {
           "automargin": true,
           "gridcolor": "white",
           "linecolor": "white",
           "ticks": "",
           "title": {
            "standoff": 15
           },
           "zerolinecolor": "white",
           "zerolinewidth": 2
          },
          "yaxis": {
           "automargin": true,
           "gridcolor": "white",
           "linecolor": "white",
           "ticks": "",
           "title": {
            "standoff": 15
           },
           "zerolinecolor": "white",
           "zerolinewidth": 2
          }
         }
        },
        "title": {
         "text": "Scrap outflow"
        },
        "xaxis": {
         "anchor": "y",
         "domain": [
          0,
          1
         ],
         "title": {
          "text": "index"
         }
        },
        "yaxis": {
         "anchor": "x",
         "domain": [
          0,
          1
         ],
         "title": {
          "text": "value"
         },
         "type": "log"
        }
       }
      }
     },
     "metadata": {},
     "output_type": "display_data"
    }
   ],
   "source": [
    "np.nan_to_num(vehicle_mfa_2.flows[\"scrap => sysenv\"].values, copy=False)\n",
    "scrap_outflow = vehicle_mfa_2.flows[\"scrap => sysenv\"].sum_nda_over(sum_over_dims=(\"r\", \"m\"))\n",
    "outflow_df = scrap_outflow.to_df(dim_to_columns=\"waste\")\n",
    "outflow_df = outflow_df[outflow_df.index > 2017]\n",
    "fig = px.line(outflow_df, title=\"Scrap outflow\")\n",
    "fig.show()\n",
    "fig.update_yaxes(type=\"log\")\n",
    "fig.show()"
   ]
  },
  {
   "cell_type": "code",
   "execution_count": null,
   "id": "1f7a1fa4-01ae-40bf-9904-c6fa7f70c0d4",
   "metadata": {},
   "outputs": [],
   "source": []
  }
 ],
 "metadata": {
  "kernelspec": {
   "display_name": ".venv",
   "language": "python",
   "name": "python3"
  },
  "language_info": {
   "codemirror_mode": {
    "name": "ipython",
    "version": 3
   },
   "file_extension": ".py",
   "mimetype": "text/x-python",
   "name": "python",
   "nbconvert_exporter": "python",
   "pygments_lexer": "ipython3",
   "version": "3.10.10"
  }
 },
 "nbformat": 4,
 "nbformat_minor": 5
}
