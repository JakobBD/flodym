{
 "cells": [
  {
   "cell_type": "markdown",
   "id": "795c267b-3f8a-47d1-b0d1-67ad80fffc76",
   "metadata": {},
   "source": [
    "# Example 2. Alloying elements in recycling.\n",
    "\n",
    "A recycling system with two end-of-life (EoL) products, two scrap types, one secondary material, and several types of losses are studied. Three chemical elements are considered: iron, copper, and manganese. A time horizon of 30 years [1980-2010], five processes, and time-dependent parameters are analysed. The processes have element-specific yield factors, meaning that the loss rates depend on the chemical element considered. These values are given below.\n",
    "\n",
    "The research questions are:\n",
    "\n",
    "* How much copper accumulates in the secondary steel assuming that all available scrap is remelted?\n",
    "* How much manganese is lost in the remelting process assuming that all available scrap is remelted?\n",
    "* What is more effective in reducing the copper concentraction of secondary steel: A reduction of the shredding yield factor for copper from EoL machines into steel scrap of 25% or an increase in the EoL buildings flow by 25%? (All other variables and parameters remaining equal)\n",
    "\n",
    "<img src=\"pictures/SteelAlloyElementsWasteMgt.png\" width=\"554\" height=\"490\" alt=\"Simple MFA system\">\n",
    "\n",
    "The model equations are as follows:\n",
    "* $F_{1\\_3}(t,e) = \\Gamma_1(e) \\cdot F_{0\\_1}(t,e) $ (shredder yield factor)\n",
    "* $F_{1\\_0}(t,e) = (1 - \\Gamma_1(e)) \\cdot F_{0\\_1}(t,e) $ (mass balance)\n",
    "\n",
    "* $F_{2\\_3}(t,e) = \\Gamma_2(e) \\cdot F_{0\\_2}(t,e) $ (demolition yield factor)\n",
    "* $F_{2\\_4}(t,e) = (1 - \\Gamma_2(e)) \\cdot F_{0\\_2}(t,e) $ (mass balance)\n",
    "\n",
    "* $F_{3\\_0}(t,e) = \\Gamma_3(e) \\cdot (F_{1\\_3}(t,e)+F_{2\\_3}(t,e)) $ (remelting yield factor)\n",
    "* $F_{3\\_5}(t,e) = (1 - \\Gamma_3(e)) \\cdot (F_{1\\_3}(t,e)+F_{2\\_3}(t,e)) $ (mass balance)\n",
    "\n",
    "Here the index letters t denote the model time and e the chemical element."
   ]
  },
  {
   "cell_type": "markdown",
   "id": "e7e096a2-d4b9-45c8-a51d-37a6ec2cea01",
   "metadata": {},
   "source": [
    "## 1. Load sodym and other useful packages"
   ]
  },
  {
   "cell_type": "code",
   "execution_count": 16,
   "id": "1e3701c3-5140-45db-9588-52841caa7562",
   "metadata": {},
   "outputs": [],
   "source": [
    "from copy import deepcopy\n",
    "import numpy as np\n",
    "import pandas as pd\n",
    "\n",
    "from sodym.data_reader import DataReader\n",
    "from sodym import (\n",
    "    DimensionDefinition, Dimension, DimensionSet, ParameterDefinition, Parameter, Process, FlowDefinition, Flow, StockDefinition, MFASystem, NamedDimArray\n",
    ")\n",
    "from sodym.flow_helper import make_empty_flows\n",
    "from sodym.stock_helper import make_empty_stocks\n",
    "from sodym.flow_naming import process_names_with_arrow\n",
    "from sodym.export.array_plotter import PlotlyArrayPlotter"
   ]
  },
  {
   "cell_type": "markdown",
   "id": "7161062d-7f58-45ce-b8df-0d4c5e310f44",
   "metadata": {},
   "source": [
    "## 2. Define the data requirements, flows, stocks and MFA system equations\n",
    "\n",
    "We define the dimensions that are relevant for our system and the model parameters, processes, stocks and flows. We further define a class with our system equations in the compute method."
   ]
  },
  {
   "cell_type": "code",
   "execution_count": 17,
   "id": "eb913be3-ae92-4e3a-8e1b-f09480928d66",
   "metadata": {},
   "outputs": [],
   "source": [
    "dimension_definitions = [\n",
    "    DimensionDefinition(letter='t', name='Time', dtype=int),\n",
    "    DimensionDefinition(letter='e', name='Material', dtype=str)\n",
    "]\n",
    "\n",
    "parameter_definitions = [\n",
    "    ParameterDefinition(name='eol machines', dim_letters=('t', )),\n",
    "    ParameterDefinition(name='eol buildings', dim_letters=('t', )),\n",
    "    ParameterDefinition(name='composition eol machines', dim_letters=('e', )),\n",
    "    ParameterDefinition(name='composition eol buildings', dim_letters=('e', )),\n",
    "    ParameterDefinition(name='shredder yield', dim_letters=('e', )),\n",
    "    ParameterDefinition(name='demolition yield', dim_letters=('e', )),\n",
    "    ParameterDefinition(name='remelting yield', dim_letters=('e', )),\n",
    "]"
   ]
  },
  {
   "cell_type": "code",
   "execution_count": 18,
   "id": "9b83df6a-0386-4a9c-88d5-c478aadd18a0",
   "metadata": {},
   "outputs": [],
   "source": [
    "process_names = ['sysenv', 'shredder', 'demolition', 'remelting', 'landfills', 'slag piles']\n",
    "processes = {name: Process(name=name, id=index) for index, name in enumerate(process_names)}"
   ]
  },
  {
   "cell_type": "code",
   "execution_count": 19,
   "id": "8bf61792-2f12-4094-a441-d591a8ff969e",
   "metadata": {},
   "outputs": [],
   "source": [
    "flow_definitions = [\n",
    "    FlowDefinition(from_process_name='sysenv', to_process_name='shredder', dim_letters=('t', 'e')),\n",
    "    FlowDefinition(from_process_name='sysenv', to_process_name='demolition', dim_letters=('t', 'e')),\n",
    "    FlowDefinition(from_process_name='shredder', to_process_name='remelting', dim_letters=('t', 'e')),  # scrap type 1\n",
    "    FlowDefinition(from_process_name='shredder', to_process_name='sysenv', dim_letters=('t', 'e')),  # shredder residue\n",
    "    FlowDefinition(from_process_name='demolition', to_process_name='remelting', dim_letters=('t', 'e')),  # scrap type 2\n",
    "    FlowDefinition(from_process_name='demolition', to_process_name='landfills', dim_letters=('t', 'e')),  # loss\n",
    "    FlowDefinition(from_process_name='remelting', to_process_name='slag piles', dim_letters=('t', 'e')),  # secondary steel\n",
    "    FlowDefinition(from_process_name='remelting', to_process_name='sysenv', dim_letters=('t', 'e')),  # slag\n",
    "]"
   ]
  },
  {
   "cell_type": "code",
   "execution_count": 20,
   "id": "1ea15908-23c4-424b-832d-d5507fd13021",
   "metadata": {},
   "outputs": [],
   "source": [
    "stock_definitions = [\n",
    "    StockDefinition(name='landfills', process='landfills', dim_letters=('t', 'e'),),\n",
    "    StockDefinition(name='slag piles', process='slag piles', dim_letters=('t', 'e'),),\n",
    "]"
   ]
  },
  {
   "cell_type": "markdown",
   "id": "f382cce6",
   "metadata": {},
   "source": [
    "\n",
    "We just need to define the compute method with our system equations, as all the other things we need are inherited from the MFASystem class.  The flow names are generated from the processes each flow connects, in this case with the naming function `process_names_with_arrow`, which is passed to the flow initialization below."
   ]
  },
  {
   "cell_type": "code",
   "execution_count": 21,
   "id": "fef3eb3c-7f88-41b0-86a2-d23bccc0783a",
   "metadata": {},
   "outputs": [],
   "source": [
    "class SimpleMFA(MFASystem):\n",
    "    def compute(self):\n",
    "        self.flows['sysenv => shredder'][...] = self.parameters['eol machines'] * self.parameters['composition eol machines']\n",
    "        self.flows['sysenv => demolition'][...] = self.parameters['eol buildings'] * self.parameters['composition eol buildings']\n",
    "        self.flows['shredder => remelting'][...] = self.flows['sysenv => shredder'] * self.parameters['shredder yield']\n",
    "        self.flows['shredder => sysenv'][...] = self.flows['sysenv => shredder'] * (1 - self.parameters['shredder yield'])\n",
    "        self.flows['demolition => remelting'][...] = self.flows['sysenv => demolition'] * self.parameters['demolition yield']\n",
    "        self.flows['demolition => landfills'][...] = self.flows['sysenv => demolition'] * (1 - self.parameters['demolition yield'])\n",
    "        self.flows['remelting => sysenv'][...] = (\n",
    "            self.flows['shredder => remelting'] + self.flows['demolition => remelting']) * self.parameters['remelting yield']\n",
    "        self.flows['remelting => slag piles'][...] = (\n",
    "            self.flows['shredder => remelting'] + self.flows['demolition => remelting']) * (1 - self.parameters['remelting yield'])\n",
    "        self.stocks['landfills'].inflow[...] = self.flows['demolition => landfills']\n",
    "        self.stocks['landfills'].compute()\n",
    "        self.stocks['slag piles'].inflow[...] = self.flows['shredder => remelting']\n",
    "        self.stocks['slag piles'].compute()\n"
   ]
  },
  {
   "cell_type": "markdown",
   "id": "ea62e42a-4ece-4d6b-91cb-998553bb7e84",
   "metadata": {},
   "source": [
    "## 3. Load data and initialise flows and stocks\n",
    "Now that we have defined the MFA system and know what data we need, we can load the data.\n",
    "Even though this is only a small system, we will load the data from excel files, as an example for more complex systems with larger datasets. To do this data loading, we define a DataReader class. Such a class can be reused with different datasets of the same format by passing attributes, e.g. data paths, in the init function.\n",
    "\n",
    "The methods `read_dimensions` and `read_parameters` are already defined in the parent DataReader class, and loop over the methods `read_dimension` and `read_parameter_values` that we specify for our usecase here."
   ]
  },
  {
   "cell_type": "code",
   "execution_count": 22,
   "id": "04779e5d-0e7f-442f-8eb5-7009f6ce5113",
   "metadata": {},
   "outputs": [],
   "source": [
    "class CustomDataReader(DataReader):\n",
    "\n",
    "    def __init__(self, path_to_time_parameters, path_to_element_parameters):\n",
    "        self.time_parameters = pd.read_excel(path_to_time_parameters, index_col=0)\n",
    "        self.element_parameters = pd.read_excel(path_to_element_parameters, index_col=0)\n",
    "\n",
    "    def read_dimension(self, dimension_definition: DimensionDefinition) -> Dimension:\n",
    "        if dimension_definition.letter == 't':\n",
    "            data = list(self.time_parameters.index)\n",
    "        elif dimension_definition.letter == 'e':\n",
    "            data = list(self.element_parameters.index)\n",
    "        return Dimension(name=dimension_definition.name, letter=dimension_definition.letter, items=data)\n",
    "\n",
    "    def read_parameter_values(self, parameter: str, dims: DimensionSet) -> Parameter:\n",
    "        if dims.letters == ('t', ):\n",
    "            data = self.time_parameters[parameter].values\n",
    "        elif dims.letters == ('e', ):\n",
    "            data = self.element_parameters[parameter].values\n",
    "        return Parameter(dims=dims, values=data)"
   ]
  },
  {
   "cell_type": "code",
   "execution_count": 23,
   "id": "1af6b660-40bb-48b6-a0a1-d41df72584f4",
   "metadata": {},
   "outputs": [],
   "source": [
    "data_reader = CustomDataReader(\n",
    "    path_to_time_parameters='example2_temporal_parameters.xlsx',\n",
    "    path_to_element_parameters='example2_material_parameters.xlsx'\n",
    ")\n",
    "dimensions = data_reader.read_dimensions(dimension_definitions)\n",
    "parameters = data_reader.read_parameters(parameter_definitions, dims=dimensions)"
   ]
  },
  {
   "cell_type": "code",
   "execution_count": 24,
   "id": "a1e675a2-4103-4c15-be04-cc353c25029b",
   "metadata": {},
   "outputs": [],
   "source": [
    "flows = make_empty_flows(processes=processes, flow_definitions=flow_definitions, dims=dimensions,\n",
    "                         naming=process_names_with_arrow)"
   ]
  },
  {
   "cell_type": "code",
   "execution_count": 25,
   "id": "12baa24e-b2a2-43e7-845b-a27353560553",
   "metadata": {},
   "outputs": [],
   "source": [
    "stocks = make_empty_stocks(stock_definitions, dims=dimensions, processes=processes)  # flow-driven stock objects"
   ]
  },
  {
   "cell_type": "markdown",
   "id": "7b1191fe-f13b-4fc1-94b8-870d55e89143",
   "metadata": {},
   "source": [
    "## 4. Put the pieces together\n",
    "Create a SimpleMFA instance by passing the loaded dimension and parameter data, as well as the initialised flow and stock objects. Solve the system equations by running the `compute` method."
   ]
  },
  {
   "cell_type": "code",
   "execution_count": 26,
   "id": "dc6579e3-e65b-4dcf-8bf7-b2bc4e90bb0e",
   "metadata": {},
   "outputs": [],
   "source": [
    "mfa_example = SimpleMFA(dims=dimensions, processes=processes, parameters=parameters, flows=flows, stocks=stocks)\n",
    "mfa_example.compute()"
   ]
  },
  {
   "cell_type": "markdown",
   "id": "ba341703-5841-4b0b-81b1-d6c72418c9d5",
   "metadata": {},
   "source": [
    "## 5. Results\n",
    "Here we answer the research questions from the beginning of the notebook.\n",
    "\n",
    "**How much copper accumulates in the secondary steel assuming that all available scrap is remelted?**\n",
    "\n",
    "Clicking on the `Fe` entry of the plot legend hides it and adjusts the y-axis to better display the trace elements `Mn` and `Cu`."
   ]
  },
  {
   "cell_type": "code",
   "execution_count": 27,
   "id": "e5877592",
   "metadata": {},
   "outputs": [
    {
     "data": {
      "application/vnd.plotly.v1+json": {
       "config": {
        "plotlyServerURL": "https://plot.ly"
       },
       "data": [
        {
         "line": {
          "color": "rgb(31, 119, 180)"
         },
         "name": "Fe",
         "showlegend": true,
         "type": "scatter",
         "x": [
          1980,
          1981,
          1982,
          1983,
          1984,
          1985,
          1986,
          1987,
          1988,
          1989,
          1990,
          1991,
          1992,
          1993,
          1994,
          1995,
          1996,
          1997,
          1998,
          1999,
          2000,
          2001,
          2002,
          2003,
          2004,
          2005,
          2006,
          2007,
          2008,
          2009,
          2010
         ],
         "xaxis": "x",
         "y": [
          114.91968,
          122.20415999999999,
          129.48863999999998,
          136.77311999999998,
          144.0576,
          151.34207999999998,
          158.62655999999998,
          165.91103999999999,
          173.19551999999996,
          180.47999999999996,
          187.76448,
          195.04896,
          202.33343999999997,
          209.61791999999997,
          216.90239999999997,
          224.18687999999997,
          231.47135999999998,
          238.75584,
          246.04031999999995,
          253.32479999999993,
          260.60928,
          267.89376,
          275.17824,
          282.46272,
          289.74719999999996,
          297.03168,
          304.31615999999997,
          311.60063999999994,
          318.88512,
          326.16959999999995,
          333.4540799999999
         ],
         "yaxis": "y"
        },
        {
         "line": {
          "color": "rgb(255, 127, 14)"
         },
         "name": "Cu",
         "showlegend": true,
         "type": "scatter",
         "x": [
          1980,
          1981,
          1982,
          1983,
          1984,
          1985,
          1986,
          1987,
          1988,
          1989,
          1990,
          1991,
          1992,
          1993,
          1994,
          1995,
          1996,
          1997,
          1998,
          1999,
          2000,
          2001,
          2002,
          2003,
          2004,
          2005,
          2006,
          2007,
          2008,
          2009,
          2010
         ],
         "xaxis": "x",
         "y": [
          0.34049999999999997,
          0.35519999999999996,
          0.3699,
          0.3846,
          0.3993,
          0.4139999999999999,
          0.4287,
          0.4434,
          0.45809999999999995,
          0.47280000000000005,
          0.4875,
          0.5022,
          0.5169,
          0.5316000000000001,
          0.5463,
          0.5609999999999999,
          0.5757000000000001,
          0.5904,
          0.6051,
          0.6198,
          0.6345000000000001,
          0.6492,
          0.6638999999999999,
          0.6786000000000001,
          0.6933,
          0.708,
          0.7227,
          0.7374,
          0.7521,
          0.7668,
          0.7815000000000001
         ],
         "yaxis": "y"
        },
        {
         "line": {
          "color": "rgb(44, 160, 44)"
         },
         "name": "Mn",
         "showlegend": true,
         "type": "scatter",
         "x": [
          1980,
          1981,
          1982,
          1983,
          1984,
          1985,
          1986,
          1987,
          1988,
          1989,
          1990,
          1991,
          1992,
          1993,
          1994,
          1995,
          1996,
          1997,
          1998,
          1999,
          2000,
          2001,
          2002,
          2003,
          2004,
          2005,
          2006,
          2007,
          2008,
          2009,
          2010
         ],
         "xaxis": "x",
         "y": [
          0.6415,
          0.672,
          0.7025000000000001,
          0.7330000000000001,
          0.7635000000000001,
          0.794,
          0.8245,
          0.855,
          0.8855000000000001,
          0.9159999999999999,
          0.9465000000000001,
          0.9770000000000001,
          1.0075,
          1.0380000000000003,
          1.0685,
          1.0990000000000002,
          1.1295000000000002,
          1.1600000000000001,
          1.1905000000000001,
          1.221,
          1.2515,
          1.282,
          1.3125,
          1.343,
          1.3735,
          1.4040000000000001,
          1.4345,
          1.465,
          1.4955,
          1.526,
          1.5565000000000002
         ],
         "yaxis": "y"
        }
       ],
       "layout": {
        "template": {
         "data": {
          "bar": [
           {
            "error_x": {
             "color": "#2a3f5f"
            },
            "error_y": {
             "color": "#2a3f5f"
            },
            "marker": {
             "line": {
              "color": "#E5ECF6",
              "width": 0.5
             },
             "pattern": {
              "fillmode": "overlay",
              "size": 10,
              "solidity": 0.2
             }
            },
            "type": "bar"
           }
          ],
          "barpolar": [
           {
            "marker": {
             "line": {
              "color": "#E5ECF6",
              "width": 0.5
             },
             "pattern": {
              "fillmode": "overlay",
              "size": 10,
              "solidity": 0.2
             }
            },
            "type": "barpolar"
           }
          ],
          "carpet": [
           {
            "aaxis": {
             "endlinecolor": "#2a3f5f",
             "gridcolor": "white",
             "linecolor": "white",
             "minorgridcolor": "white",
             "startlinecolor": "#2a3f5f"
            },
            "baxis": {
             "endlinecolor": "#2a3f5f",
             "gridcolor": "white",
             "linecolor": "white",
             "minorgridcolor": "white",
             "startlinecolor": "#2a3f5f"
            },
            "type": "carpet"
           }
          ],
          "choropleth": [
           {
            "colorbar": {
             "outlinewidth": 0,
             "ticks": ""
            },
            "type": "choropleth"
           }
          ],
          "contour": [
           {
            "colorbar": {
             "outlinewidth": 0,
             "ticks": ""
            },
            "colorscale": [
             [
              0,
              "#0d0887"
             ],
             [
              0.1111111111111111,
              "#46039f"
             ],
             [
              0.2222222222222222,
              "#7201a8"
             ],
             [
              0.3333333333333333,
              "#9c179e"
             ],
             [
              0.4444444444444444,
              "#bd3786"
             ],
             [
              0.5555555555555556,
              "#d8576b"
             ],
             [
              0.6666666666666666,
              "#ed7953"
             ],
             [
              0.7777777777777778,
              "#fb9f3a"
             ],
             [
              0.8888888888888888,
              "#fdca26"
             ],
             [
              1,
              "#f0f921"
             ]
            ],
            "type": "contour"
           }
          ],
          "contourcarpet": [
           {
            "colorbar": {
             "outlinewidth": 0,
             "ticks": ""
            },
            "type": "contourcarpet"
           }
          ],
          "heatmap": [
           {
            "colorbar": {
             "outlinewidth": 0,
             "ticks": ""
            },
            "colorscale": [
             [
              0,
              "#0d0887"
             ],
             [
              0.1111111111111111,
              "#46039f"
             ],
             [
              0.2222222222222222,
              "#7201a8"
             ],
             [
              0.3333333333333333,
              "#9c179e"
             ],
             [
              0.4444444444444444,
              "#bd3786"
             ],
             [
              0.5555555555555556,
              "#d8576b"
             ],
             [
              0.6666666666666666,
              "#ed7953"
             ],
             [
              0.7777777777777778,
              "#fb9f3a"
             ],
             [
              0.8888888888888888,
              "#fdca26"
             ],
             [
              1,
              "#f0f921"
             ]
            ],
            "type": "heatmap"
           }
          ],
          "heatmapgl": [
           {
            "colorbar": {
             "outlinewidth": 0,
             "ticks": ""
            },
            "colorscale": [
             [
              0,
              "#0d0887"
             ],
             [
              0.1111111111111111,
              "#46039f"
             ],
             [
              0.2222222222222222,
              "#7201a8"
             ],
             [
              0.3333333333333333,
              "#9c179e"
             ],
             [
              0.4444444444444444,
              "#bd3786"
             ],
             [
              0.5555555555555556,
              "#d8576b"
             ],
             [
              0.6666666666666666,
              "#ed7953"
             ],
             [
              0.7777777777777778,
              "#fb9f3a"
             ],
             [
              0.8888888888888888,
              "#fdca26"
             ],
             [
              1,
              "#f0f921"
             ]
            ],
            "type": "heatmapgl"
           }
          ],
          "histogram": [
           {
            "marker": {
             "pattern": {
              "fillmode": "overlay",
              "size": 10,
              "solidity": 0.2
             }
            },
            "type": "histogram"
           }
          ],
          "histogram2d": [
           {
            "colorbar": {
             "outlinewidth": 0,
             "ticks": ""
            },
            "colorscale": [
             [
              0,
              "#0d0887"
             ],
             [
              0.1111111111111111,
              "#46039f"
             ],
             [
              0.2222222222222222,
              "#7201a8"
             ],
             [
              0.3333333333333333,
              "#9c179e"
             ],
             [
              0.4444444444444444,
              "#bd3786"
             ],
             [
              0.5555555555555556,
              "#d8576b"
             ],
             [
              0.6666666666666666,
              "#ed7953"
             ],
             [
              0.7777777777777778,
              "#fb9f3a"
             ],
             [
              0.8888888888888888,
              "#fdca26"
             ],
             [
              1,
              "#f0f921"
             ]
            ],
            "type": "histogram2d"
           }
          ],
          "histogram2dcontour": [
           {
            "colorbar": {
             "outlinewidth": 0,
             "ticks": ""
            },
            "colorscale": [
             [
              0,
              "#0d0887"
             ],
             [
              0.1111111111111111,
              "#46039f"
             ],
             [
              0.2222222222222222,
              "#7201a8"
             ],
             [
              0.3333333333333333,
              "#9c179e"
             ],
             [
              0.4444444444444444,
              "#bd3786"
             ],
             [
              0.5555555555555556,
              "#d8576b"
             ],
             [
              0.6666666666666666,
              "#ed7953"
             ],
             [
              0.7777777777777778,
              "#fb9f3a"
             ],
             [
              0.8888888888888888,
              "#fdca26"
             ],
             [
              1,
              "#f0f921"
             ]
            ],
            "type": "histogram2dcontour"
           }
          ],
          "mesh3d": [
           {
            "colorbar": {
             "outlinewidth": 0,
             "ticks": ""
            },
            "type": "mesh3d"
           }
          ],
          "parcoords": [
           {
            "line": {
             "colorbar": {
              "outlinewidth": 0,
              "ticks": ""
             }
            },
            "type": "parcoords"
           }
          ],
          "pie": [
           {
            "automargin": true,
            "type": "pie"
           }
          ],
          "scatter": [
           {
            "fillpattern": {
             "fillmode": "overlay",
             "size": 10,
             "solidity": 0.2
            },
            "type": "scatter"
           }
          ],
          "scatter3d": [
           {
            "line": {
             "colorbar": {
              "outlinewidth": 0,
              "ticks": ""
             }
            },
            "marker": {
             "colorbar": {
              "outlinewidth": 0,
              "ticks": ""
             }
            },
            "type": "scatter3d"
           }
          ],
          "scattercarpet": [
           {
            "marker": {
             "colorbar": {
              "outlinewidth": 0,
              "ticks": ""
             }
            },
            "type": "scattercarpet"
           }
          ],
          "scattergeo": [
           {
            "marker": {
             "colorbar": {
              "outlinewidth": 0,
              "ticks": ""
             }
            },
            "type": "scattergeo"
           }
          ],
          "scattergl": [
           {
            "marker": {
             "colorbar": {
              "outlinewidth": 0,
              "ticks": ""
             }
            },
            "type": "scattergl"
           }
          ],
          "scattermapbox": [
           {
            "marker": {
             "colorbar": {
              "outlinewidth": 0,
              "ticks": ""
             }
            },
            "type": "scattermapbox"
           }
          ],
          "scatterpolar": [
           {
            "marker": {
             "colorbar": {
              "outlinewidth": 0,
              "ticks": ""
             }
            },
            "type": "scatterpolar"
           }
          ],
          "scatterpolargl": [
           {
            "marker": {
             "colorbar": {
              "outlinewidth": 0,
              "ticks": ""
             }
            },
            "type": "scatterpolargl"
           }
          ],
          "scatterternary": [
           {
            "marker": {
             "colorbar": {
              "outlinewidth": 0,
              "ticks": ""
             }
            },
            "type": "scatterternary"
           }
          ],
          "surface": [
           {
            "colorbar": {
             "outlinewidth": 0,
             "ticks": ""
            },
            "colorscale": [
             [
              0,
              "#0d0887"
             ],
             [
              0.1111111111111111,
              "#46039f"
             ],
             [
              0.2222222222222222,
              "#7201a8"
             ],
             [
              0.3333333333333333,
              "#9c179e"
             ],
             [
              0.4444444444444444,
              "#bd3786"
             ],
             [
              0.5555555555555556,
              "#d8576b"
             ],
             [
              0.6666666666666666,
              "#ed7953"
             ],
             [
              0.7777777777777778,
              "#fb9f3a"
             ],
             [
              0.8888888888888888,
              "#fdca26"
             ],
             [
              1,
              "#f0f921"
             ]
            ],
            "type": "surface"
           }
          ],
          "table": [
           {
            "cells": {
             "fill": {
              "color": "#EBF0F8"
             },
             "line": {
              "color": "white"
             }
            },
            "header": {
             "fill": {
              "color": "#C8D4E3"
             },
             "line": {
              "color": "white"
             }
            },
            "type": "table"
           }
          ]
         },
         "layout": {
          "annotationdefaults": {
           "arrowcolor": "#2a3f5f",
           "arrowhead": 0,
           "arrowwidth": 1
          },
          "autotypenumbers": "strict",
          "coloraxis": {
           "colorbar": {
            "outlinewidth": 0,
            "ticks": ""
           }
          },
          "colorscale": {
           "diverging": [
            [
             0,
             "#8e0152"
            ],
            [
             0.1,
             "#c51b7d"
            ],
            [
             0.2,
             "#de77ae"
            ],
            [
             0.3,
             "#f1b6da"
            ],
            [
             0.4,
             "#fde0ef"
            ],
            [
             0.5,
             "#f7f7f7"
            ],
            [
             0.6,
             "#e6f5d0"
            ],
            [
             0.7,
             "#b8e186"
            ],
            [
             0.8,
             "#7fbc41"
            ],
            [
             0.9,
             "#4d9221"
            ],
            [
             1,
             "#276419"
            ]
           ],
           "sequential": [
            [
             0,
             "#0d0887"
            ],
            [
             0.1111111111111111,
             "#46039f"
            ],
            [
             0.2222222222222222,
             "#7201a8"
            ],
            [
             0.3333333333333333,
             "#9c179e"
            ],
            [
             0.4444444444444444,
             "#bd3786"
            ],
            [
             0.5555555555555556,
             "#d8576b"
            ],
            [
             0.6666666666666666,
             "#ed7953"
            ],
            [
             0.7777777777777778,
             "#fb9f3a"
            ],
            [
             0.8888888888888888,
             "#fdca26"
            ],
            [
             1,
             "#f0f921"
            ]
           ],
           "sequentialminus": [
            [
             0,
             "#0d0887"
            ],
            [
             0.1111111111111111,
             "#46039f"
            ],
            [
             0.2222222222222222,
             "#7201a8"
            ],
            [
             0.3333333333333333,
             "#9c179e"
            ],
            [
             0.4444444444444444,
             "#bd3786"
            ],
            [
             0.5555555555555556,
             "#d8576b"
            ],
            [
             0.6666666666666666,
             "#ed7953"
            ],
            [
             0.7777777777777778,
             "#fb9f3a"
            ],
            [
             0.8888888888888888,
             "#fdca26"
            ],
            [
             1,
             "#f0f921"
            ]
           ]
          },
          "colorway": [
           "#636efa",
           "#EF553B",
           "#00cc96",
           "#ab63fa",
           "#FFA15A",
           "#19d3f3",
           "#FF6692",
           "#B6E880",
           "#FF97FF",
           "#FECB52"
          ],
          "font": {
           "color": "#2a3f5f"
          },
          "geo": {
           "bgcolor": "white",
           "lakecolor": "white",
           "landcolor": "#E5ECF6",
           "showlakes": true,
           "showland": true,
           "subunitcolor": "white"
          },
          "hoverlabel": {
           "align": "left"
          },
          "hovermode": "closest",
          "mapbox": {
           "style": "light"
          },
          "paper_bgcolor": "white",
          "plot_bgcolor": "#E5ECF6",
          "polar": {
           "angularaxis": {
            "gridcolor": "white",
            "linecolor": "white",
            "ticks": ""
           },
           "bgcolor": "#E5ECF6",
           "radialaxis": {
            "gridcolor": "white",
            "linecolor": "white",
            "ticks": ""
           }
          },
          "scene": {
           "xaxis": {
            "backgroundcolor": "#E5ECF6",
            "gridcolor": "white",
            "gridwidth": 2,
            "linecolor": "white",
            "showbackground": true,
            "ticks": "",
            "zerolinecolor": "white"
           },
           "yaxis": {
            "backgroundcolor": "#E5ECF6",
            "gridcolor": "white",
            "gridwidth": 2,
            "linecolor": "white",
            "showbackground": true,
            "ticks": "",
            "zerolinecolor": "white"
           },
           "zaxis": {
            "backgroundcolor": "#E5ECF6",
            "gridcolor": "white",
            "gridwidth": 2,
            "linecolor": "white",
            "showbackground": true,
            "ticks": "",
            "zerolinecolor": "white"
           }
          },
          "shapedefaults": {
           "line": {
            "color": "#2a3f5f"
           }
          },
          "ternary": {
           "aaxis": {
            "gridcolor": "white",
            "linecolor": "white",
            "ticks": ""
           },
           "baxis": {
            "gridcolor": "white",
            "linecolor": "white",
            "ticks": ""
           },
           "bgcolor": "#E5ECF6",
           "caxis": {
            "gridcolor": "white",
            "linecolor": "white",
            "ticks": ""
           }
          },
          "title": {
           "x": 0.05
          },
          "xaxis": {
           "automargin": true,
           "gridcolor": "white",
           "linecolor": "white",
           "ticks": "",
           "title": {
            "standoff": 15
           },
           "zerolinecolor": "white",
           "zerolinewidth": 2
          },
          "yaxis": {
           "automargin": true,
           "gridcolor": "white",
           "linecolor": "white",
           "ticks": "",
           "title": {
            "standoff": 15
           },
           "zerolinecolor": "white",
           "zerolinewidth": 2
          }
         }
        },
        "title": {
         "text": "GDP-per-capita"
        },
        "xaxis": {
         "anchor": "y",
         "domain": [
          0,
          1
         ],
         "title": {
          "text": "Time"
         }
        },
        "yaxis": {
         "anchor": "x",
         "domain": [
          0,
          1
         ],
         "title": {
          "text": "remelting => sysenv"
         }
        }
       }
      }
     },
     "metadata": {},
     "output_type": "display_data"
    }
   ],
   "source": [
    "remelted = mfa_example.flows['remelting => sysenv']\n",
    "\n",
    "plotter = PlotlyArrayPlotter(\n",
    "    array=remelted,\n",
    "    intra_line_dim='Time',\n",
    "    linecolor_dim='Material',\n",
    "    title=\"GDP-per-capita\")\n",
    "fig = plotter.plot(do_show=True)\n"
   ]
  },
  {
   "cell_type": "code",
   "execution_count": 28,
   "id": "ebbe470a-ec04-4432-9f55-7a0931f9062f",
   "metadata": {},
   "outputs": [
    {
     "data": {
      "application/vnd.plotly.v1+json": {
       "config": {
        "plotlyServerURL": "https://plot.ly"
       },
       "data": [
        {
         "line": {
          "color": "rgb(31, 119, 180)"
         },
         "name": "Fe",
         "showlegend": true,
         "type": "scatter",
         "x": [
          1980,
          1981,
          1982,
          1983,
          1984,
          1985,
          1986,
          1987,
          1988,
          1989,
          1990,
          1991,
          1992,
          1993,
          1994,
          1995,
          1996,
          1997,
          1998,
          1999,
          2000,
          2001,
          2002,
          2003,
          2004,
          2005,
          2006,
          2007,
          2008,
          2009,
          2010
         ],
         "xaxis": "x",
         "y": [
          0.9915273014161657,
          0.9916644594362993,
          0.9917862173891998,
          0.9918950310796839,
          0.9919928605072015,
          0.992081288977364,
          0.9921616094495014,
          0.9922348881737778,
          0.9923020122938627,
          0.9923637259386987,
          0.9924206579249475,
          0.9924733432603248,
          0.9925222400080371,
          0.9925677426393378,
          0.9926101926987899,
          0.9926498873927326,
          0.9926870865579284,
          0.992722018355948,
          0.9927548839570955,
          0.9927858614170562,
          0.9928151089040533,
          0.9928427674000212,
          0.9928689629731617,
          0.9928938086991929,
          0.9929174062930497,
          0.992939847500706,
          0.9929612152912736,
          0.9929815848820331,
          0.9930010246230905,
          0.993019596763587,
          0.9930373581175589
         ],
         "yaxis": "y"
        },
        {
         "line": {
          "color": "rgb(255, 127, 14)"
         },
         "name": "Cu",
         "showlegend": true,
         "type": "scatter",
         "x": [
          1980,
          1981,
          1982,
          1983,
          1984,
          1985,
          1986,
          1987,
          1988,
          1989,
          1990,
          1991,
          1992,
          1993,
          1994,
          1995,
          1996,
          1997,
          1998,
          1999,
          2000,
          2001,
          2002,
          2003,
          2004,
          2005,
          2006,
          2007,
          2008,
          2009,
          2010
         ],
         "xaxis": "x",
         "y": [
          0.0029378348959221293,
          0.0028823831855787356,
          0.002833157579014384,
          0.002789165217209686,
          0.0027496136906385053,
          0.002713862883585508,
          0.002681390064633573,
          0.0026517641587699837,
          0.0026246265020701378,
          0.002599676250131964,
          0.002576659178234413,
          0.002555358987739976,
          0.0025355904879596496,
          0.002517194197838964,
          0.002500032034091596,
          0.002483983838962044,
          0.0024689445628668684,
          0.002454821962207717,
          0.0024415347057036773,
          0.00242901080709939,
          0.002417186320454981,
          0.002406004248087353,
          0.00239541362179612,
          0.002385368726121707,
          0.0023758284386629844,
          0.0023667556673769605,
          0.0023581168686244054,
          0.002349881632759199,
          0.0023420223264698785,
          0.002334513783008345,
          0.0023273330329887476
         ],
         "yaxis": "y"
        },
        {
         "line": {
          "color": "rgb(44, 160, 44)"
         },
         "name": "Mn",
         "showlegend": true,
         "type": "scatter",
         "x": [
          1980,
          1981,
          1982,
          1983,
          1984,
          1985,
          1986,
          1987,
          1988,
          1989,
          1990,
          1991,
          1992,
          1993,
          1994,
          1995,
          1996,
          1997,
          1998,
          1999,
          2000,
          2001,
          2002,
          2003,
          2004,
          2005,
          2006,
          2007,
          2008,
          2009,
          2010
         ],
         "xaxis": "x",
         "y": [
          0.0055348636879120295,
          0.005453157378121933,
          0.005380625031785901,
          0.005315803703106345,
          0.0052575258021600275,
          0.005204848139050469,
          0.005157000485865129,
          0.005113347667452269,
          0.0050733612040670326,
          0.005036597811169371,
          0.0050026828968182,
          0.004971297751935398,
          0.0049421695040033796,
          0.00491506316282326,
          0.0048897752671185615,
          0.004866128768305325,
          0.004843968879204669,
          0.00482315968184443,
          0.00480358133720084,
          0.004785127775844394,
          0.004767704775491582,
          0.004751228351891538,
          0.004735623405042037,
          0.004720822574685311,
          0.004706765268287334,
          0.004693396831917024,
          0.004680667840101992,
          0.004668533485207793,
          0.004656953050439707,
          0.004645889453404713,
          0.004635308849452317
         ],
         "yaxis": "y"
        }
       ],
       "layout": {
        "template": {
         "data": {
          "bar": [
           {
            "error_x": {
             "color": "#2a3f5f"
            },
            "error_y": {
             "color": "#2a3f5f"
            },
            "marker": {
             "line": {
              "color": "#E5ECF6",
              "width": 0.5
             },
             "pattern": {
              "fillmode": "overlay",
              "size": 10,
              "solidity": 0.2
             }
            },
            "type": "bar"
           }
          ],
          "barpolar": [
           {
            "marker": {
             "line": {
              "color": "#E5ECF6",
              "width": 0.5
             },
             "pattern": {
              "fillmode": "overlay",
              "size": 10,
              "solidity": 0.2
             }
            },
            "type": "barpolar"
           }
          ],
          "carpet": [
           {
            "aaxis": {
             "endlinecolor": "#2a3f5f",
             "gridcolor": "white",
             "linecolor": "white",
             "minorgridcolor": "white",
             "startlinecolor": "#2a3f5f"
            },
            "baxis": {
             "endlinecolor": "#2a3f5f",
             "gridcolor": "white",
             "linecolor": "white",
             "minorgridcolor": "white",
             "startlinecolor": "#2a3f5f"
            },
            "type": "carpet"
           }
          ],
          "choropleth": [
           {
            "colorbar": {
             "outlinewidth": 0,
             "ticks": ""
            },
            "type": "choropleth"
           }
          ],
          "contour": [
           {
            "colorbar": {
             "outlinewidth": 0,
             "ticks": ""
            },
            "colorscale": [
             [
              0,
              "#0d0887"
             ],
             [
              0.1111111111111111,
              "#46039f"
             ],
             [
              0.2222222222222222,
              "#7201a8"
             ],
             [
              0.3333333333333333,
              "#9c179e"
             ],
             [
              0.4444444444444444,
              "#bd3786"
             ],
             [
              0.5555555555555556,
              "#d8576b"
             ],
             [
              0.6666666666666666,
              "#ed7953"
             ],
             [
              0.7777777777777778,
              "#fb9f3a"
             ],
             [
              0.8888888888888888,
              "#fdca26"
             ],
             [
              1,
              "#f0f921"
             ]
            ],
            "type": "contour"
           }
          ],
          "contourcarpet": [
           {
            "colorbar": {
             "outlinewidth": 0,
             "ticks": ""
            },
            "type": "contourcarpet"
           }
          ],
          "heatmap": [
           {
            "colorbar": {
             "outlinewidth": 0,
             "ticks": ""
            },
            "colorscale": [
             [
              0,
              "#0d0887"
             ],
             [
              0.1111111111111111,
              "#46039f"
             ],
             [
              0.2222222222222222,
              "#7201a8"
             ],
             [
              0.3333333333333333,
              "#9c179e"
             ],
             [
              0.4444444444444444,
              "#bd3786"
             ],
             [
              0.5555555555555556,
              "#d8576b"
             ],
             [
              0.6666666666666666,
              "#ed7953"
             ],
             [
              0.7777777777777778,
              "#fb9f3a"
             ],
             [
              0.8888888888888888,
              "#fdca26"
             ],
             [
              1,
              "#f0f921"
             ]
            ],
            "type": "heatmap"
           }
          ],
          "heatmapgl": [
           {
            "colorbar": {
             "outlinewidth": 0,
             "ticks": ""
            },
            "colorscale": [
             [
              0,
              "#0d0887"
             ],
             [
              0.1111111111111111,
              "#46039f"
             ],
             [
              0.2222222222222222,
              "#7201a8"
             ],
             [
              0.3333333333333333,
              "#9c179e"
             ],
             [
              0.4444444444444444,
              "#bd3786"
             ],
             [
              0.5555555555555556,
              "#d8576b"
             ],
             [
              0.6666666666666666,
              "#ed7953"
             ],
             [
              0.7777777777777778,
              "#fb9f3a"
             ],
             [
              0.8888888888888888,
              "#fdca26"
             ],
             [
              1,
              "#f0f921"
             ]
            ],
            "type": "heatmapgl"
           }
          ],
          "histogram": [
           {
            "marker": {
             "pattern": {
              "fillmode": "overlay",
              "size": 10,
              "solidity": 0.2
             }
            },
            "type": "histogram"
           }
          ],
          "histogram2d": [
           {
            "colorbar": {
             "outlinewidth": 0,
             "ticks": ""
            },
            "colorscale": [
             [
              0,
              "#0d0887"
             ],
             [
              0.1111111111111111,
              "#46039f"
             ],
             [
              0.2222222222222222,
              "#7201a8"
             ],
             [
              0.3333333333333333,
              "#9c179e"
             ],
             [
              0.4444444444444444,
              "#bd3786"
             ],
             [
              0.5555555555555556,
              "#d8576b"
             ],
             [
              0.6666666666666666,
              "#ed7953"
             ],
             [
              0.7777777777777778,
              "#fb9f3a"
             ],
             [
              0.8888888888888888,
              "#fdca26"
             ],
             [
              1,
              "#f0f921"
             ]
            ],
            "type": "histogram2d"
           }
          ],
          "histogram2dcontour": [
           {
            "colorbar": {
             "outlinewidth": 0,
             "ticks": ""
            },
            "colorscale": [
             [
              0,
              "#0d0887"
             ],
             [
              0.1111111111111111,
              "#46039f"
             ],
             [
              0.2222222222222222,
              "#7201a8"
             ],
             [
              0.3333333333333333,
              "#9c179e"
             ],
             [
              0.4444444444444444,
              "#bd3786"
             ],
             [
              0.5555555555555556,
              "#d8576b"
             ],
             [
              0.6666666666666666,
              "#ed7953"
             ],
             [
              0.7777777777777778,
              "#fb9f3a"
             ],
             [
              0.8888888888888888,
              "#fdca26"
             ],
             [
              1,
              "#f0f921"
             ]
            ],
            "type": "histogram2dcontour"
           }
          ],
          "mesh3d": [
           {
            "colorbar": {
             "outlinewidth": 0,
             "ticks": ""
            },
            "type": "mesh3d"
           }
          ],
          "parcoords": [
           {
            "line": {
             "colorbar": {
              "outlinewidth": 0,
              "ticks": ""
             }
            },
            "type": "parcoords"
           }
          ],
          "pie": [
           {
            "automargin": true,
            "type": "pie"
           }
          ],
          "scatter": [
           {
            "fillpattern": {
             "fillmode": "overlay",
             "size": 10,
             "solidity": 0.2
            },
            "type": "scatter"
           }
          ],
          "scatter3d": [
           {
            "line": {
             "colorbar": {
              "outlinewidth": 0,
              "ticks": ""
             }
            },
            "marker": {
             "colorbar": {
              "outlinewidth": 0,
              "ticks": ""
             }
            },
            "type": "scatter3d"
           }
          ],
          "scattercarpet": [
           {
            "marker": {
             "colorbar": {
              "outlinewidth": 0,
              "ticks": ""
             }
            },
            "type": "scattercarpet"
           }
          ],
          "scattergeo": [
           {
            "marker": {
             "colorbar": {
              "outlinewidth": 0,
              "ticks": ""
             }
            },
            "type": "scattergeo"
           }
          ],
          "scattergl": [
           {
            "marker": {
             "colorbar": {
              "outlinewidth": 0,
              "ticks": ""
             }
            },
            "type": "scattergl"
           }
          ],
          "scattermapbox": [
           {
            "marker": {
             "colorbar": {
              "outlinewidth": 0,
              "ticks": ""
             }
            },
            "type": "scattermapbox"
           }
          ],
          "scatterpolar": [
           {
            "marker": {
             "colorbar": {
              "outlinewidth": 0,
              "ticks": ""
             }
            },
            "type": "scatterpolar"
           }
          ],
          "scatterpolargl": [
           {
            "marker": {
             "colorbar": {
              "outlinewidth": 0,
              "ticks": ""
             }
            },
            "type": "scatterpolargl"
           }
          ],
          "scatterternary": [
           {
            "marker": {
             "colorbar": {
              "outlinewidth": 0,
              "ticks": ""
             }
            },
            "type": "scatterternary"
           }
          ],
          "surface": [
           {
            "colorbar": {
             "outlinewidth": 0,
             "ticks": ""
            },
            "colorscale": [
             [
              0,
              "#0d0887"
             ],
             [
              0.1111111111111111,
              "#46039f"
             ],
             [
              0.2222222222222222,
              "#7201a8"
             ],
             [
              0.3333333333333333,
              "#9c179e"
             ],
             [
              0.4444444444444444,
              "#bd3786"
             ],
             [
              0.5555555555555556,
              "#d8576b"
             ],
             [
              0.6666666666666666,
              "#ed7953"
             ],
             [
              0.7777777777777778,
              "#fb9f3a"
             ],
             [
              0.8888888888888888,
              "#fdca26"
             ],
             [
              1,
              "#f0f921"
             ]
            ],
            "type": "surface"
           }
          ],
          "table": [
           {
            "cells": {
             "fill": {
              "color": "#EBF0F8"
             },
             "line": {
              "color": "white"
             }
            },
            "header": {
             "fill": {
              "color": "#C8D4E3"
             },
             "line": {
              "color": "white"
             }
            },
            "type": "table"
           }
          ]
         },
         "layout": {
          "annotationdefaults": {
           "arrowcolor": "#2a3f5f",
           "arrowhead": 0,
           "arrowwidth": 1
          },
          "autotypenumbers": "strict",
          "coloraxis": {
           "colorbar": {
            "outlinewidth": 0,
            "ticks": ""
           }
          },
          "colorscale": {
           "diverging": [
            [
             0,
             "#8e0152"
            ],
            [
             0.1,
             "#c51b7d"
            ],
            [
             0.2,
             "#de77ae"
            ],
            [
             0.3,
             "#f1b6da"
            ],
            [
             0.4,
             "#fde0ef"
            ],
            [
             0.5,
             "#f7f7f7"
            ],
            [
             0.6,
             "#e6f5d0"
            ],
            [
             0.7,
             "#b8e186"
            ],
            [
             0.8,
             "#7fbc41"
            ],
            [
             0.9,
             "#4d9221"
            ],
            [
             1,
             "#276419"
            ]
           ],
           "sequential": [
            [
             0,
             "#0d0887"
            ],
            [
             0.1111111111111111,
             "#46039f"
            ],
            [
             0.2222222222222222,
             "#7201a8"
            ],
            [
             0.3333333333333333,
             "#9c179e"
            ],
            [
             0.4444444444444444,
             "#bd3786"
            ],
            [
             0.5555555555555556,
             "#d8576b"
            ],
            [
             0.6666666666666666,
             "#ed7953"
            ],
            [
             0.7777777777777778,
             "#fb9f3a"
            ],
            [
             0.8888888888888888,
             "#fdca26"
            ],
            [
             1,
             "#f0f921"
            ]
           ],
           "sequentialminus": [
            [
             0,
             "#0d0887"
            ],
            [
             0.1111111111111111,
             "#46039f"
            ],
            [
             0.2222222222222222,
             "#7201a8"
            ],
            [
             0.3333333333333333,
             "#9c179e"
            ],
            [
             0.4444444444444444,
             "#bd3786"
            ],
            [
             0.5555555555555556,
             "#d8576b"
            ],
            [
             0.6666666666666666,
             "#ed7953"
            ],
            [
             0.7777777777777778,
             "#fb9f3a"
            ],
            [
             0.8888888888888888,
             "#fdca26"
            ],
            [
             1,
             "#f0f921"
            ]
           ]
          },
          "colorway": [
           "#636efa",
           "#EF553B",
           "#00cc96",
           "#ab63fa",
           "#FFA15A",
           "#19d3f3",
           "#FF6692",
           "#B6E880",
           "#FF97FF",
           "#FECB52"
          ],
          "font": {
           "color": "#2a3f5f"
          },
          "geo": {
           "bgcolor": "white",
           "lakecolor": "white",
           "landcolor": "#E5ECF6",
           "showlakes": true,
           "showland": true,
           "subunitcolor": "white"
          },
          "hoverlabel": {
           "align": "left"
          },
          "hovermode": "closest",
          "mapbox": {
           "style": "light"
          },
          "paper_bgcolor": "white",
          "plot_bgcolor": "#E5ECF6",
          "polar": {
           "angularaxis": {
            "gridcolor": "white",
            "linecolor": "white",
            "ticks": ""
           },
           "bgcolor": "#E5ECF6",
           "radialaxis": {
            "gridcolor": "white",
            "linecolor": "white",
            "ticks": ""
           }
          },
          "scene": {
           "xaxis": {
            "backgroundcolor": "#E5ECF6",
            "gridcolor": "white",
            "gridwidth": 2,
            "linecolor": "white",
            "showbackground": true,
            "ticks": "",
            "zerolinecolor": "white"
           },
           "yaxis": {
            "backgroundcolor": "#E5ECF6",
            "gridcolor": "white",
            "gridwidth": 2,
            "linecolor": "white",
            "showbackground": true,
            "ticks": "",
            "zerolinecolor": "white"
           },
           "zaxis": {
            "backgroundcolor": "#E5ECF6",
            "gridcolor": "white",
            "gridwidth": 2,
            "linecolor": "white",
            "showbackground": true,
            "ticks": "",
            "zerolinecolor": "white"
           }
          },
          "shapedefaults": {
           "line": {
            "color": "#2a3f5f"
           }
          },
          "ternary": {
           "aaxis": {
            "gridcolor": "white",
            "linecolor": "white",
            "ticks": ""
           },
           "baxis": {
            "gridcolor": "white",
            "linecolor": "white",
            "ticks": ""
           },
           "bgcolor": "#E5ECF6",
           "caxis": {
            "gridcolor": "white",
            "linecolor": "white",
            "ticks": ""
           }
          },
          "title": {
           "x": 0.05
          },
          "xaxis": {
           "automargin": true,
           "gridcolor": "white",
           "linecolor": "white",
           "ticks": "",
           "title": {
            "standoff": 15
           },
           "zerolinecolor": "white",
           "zerolinewidth": 2
          },
          "yaxis": {
           "automargin": true,
           "gridcolor": "white",
           "linecolor": "white",
           "ticks": "",
           "title": {
            "standoff": 15
           },
           "zerolinecolor": "white",
           "zerolinewidth": 2
          }
         }
        },
        "title": {
         "text": "Share of copper and manganese in secondary steel"
        },
        "xaxis": {
         "anchor": "y",
         "domain": [
          0,
          1
         ],
         "title": {
          "text": "Time"
         }
        },
        "yaxis": {
         "anchor": "x",
         "domain": [
          0,
          1
         ]
        }
       }
      }
     },
     "metadata": {},
     "output_type": "display_data"
    }
   ],
   "source": [
    "remelted_shares = NamedDimArray(dims=remelted.dims)\n",
    "remelted_shares[...] = remelted / remelted.sum_nda_over(('e',))\n",
    "\n",
    "plotter = PlotlyArrayPlotter(\n",
    "    array=remelted_shares,\n",
    "    intra_line_dim='Time',\n",
    "    linecolor_dim='Material',\n",
    "    title=\"Share of copper and manganese in secondary steel\")\n",
    "fig = plotter.plot(do_show=True)\n"
   ]
  },
  {
   "cell_type": "markdown",
   "id": "755899c3-3f06-4f79-9c67-aa765a7ec5c4",
   "metadata": {},
   "source": [
    "The copper flow in the secondary steel increases linearly from 0.34 kt/yr in 1980 to 0.78 kt/yr in 2010. The concentration of copper declines in a hyperbolic curve from 0.294% in 1980 to 0.233% in 2010.\n",
    "\n",
    "That concentration is below 0.4% at all times, the latter being the treshold for construction grade steel, but above 0.04%, which is the threshold for automotive steel."
   ]
  },
  {
   "cell_type": "markdown",
   "id": "f9982f8c-fffa-4ec8-82cd-919d9fffa7a3",
   "metadata": {},
   "source": [
    "**How much manganese is lost in the remelting process assuming that all available scrap is remelted?**"
   ]
  },
  {
   "cell_type": "code",
   "execution_count": 29,
   "id": "5582ae7a-4d41-4a8b-8726-dff414c96cde",
   "metadata": {},
   "outputs": [
    {
     "data": {
      "application/vnd.plotly.v1+json": {
       "config": {
        "plotlyServerURL": "https://plot.ly"
       },
       "data": [
        {
         "line": {
          "color": "rgb(31, 119, 180)"
         },
         "showlegend": true,
         "type": "scatter",
         "x": [
          1980,
          1981,
          1982,
          1983,
          1984,
          1985,
          1986,
          1987,
          1988,
          1989,
          1990,
          1991,
          1992,
          1993,
          1994,
          1995,
          1996,
          1997,
          1998,
          1999,
          2000,
          2001,
          2002,
          2003,
          2004,
          2005,
          2006,
          2007,
          2008,
          2009,
          2010
         ],
         "xaxis": "x",
         "y": [
          0.6415,
          0.672,
          0.7025000000000001,
          0.7330000000000001,
          0.7635000000000001,
          0.794,
          0.8245,
          0.855,
          0.8855000000000001,
          0.9159999999999999,
          0.9465000000000001,
          0.9770000000000001,
          1.0075,
          1.0380000000000003,
          1.0685,
          1.0990000000000002,
          1.1295000000000002,
          1.1600000000000001,
          1.1905000000000001,
          1.221,
          1.2515,
          1.282,
          1.3125,
          1.343,
          1.3735,
          1.4040000000000001,
          1.4345,
          1.465,
          1.4955,
          1.526,
          1.5565000000000002
         ],
         "yaxis": "y"
        }
       ],
       "layout": {
        "template": {
         "data": {
          "bar": [
           {
            "error_x": {
             "color": "#2a3f5f"
            },
            "error_y": {
             "color": "#2a3f5f"
            },
            "marker": {
             "line": {
              "color": "#E5ECF6",
              "width": 0.5
             },
             "pattern": {
              "fillmode": "overlay",
              "size": 10,
              "solidity": 0.2
             }
            },
            "type": "bar"
           }
          ],
          "barpolar": [
           {
            "marker": {
             "line": {
              "color": "#E5ECF6",
              "width": 0.5
             },
             "pattern": {
              "fillmode": "overlay",
              "size": 10,
              "solidity": 0.2
             }
            },
            "type": "barpolar"
           }
          ],
          "carpet": [
           {
            "aaxis": {
             "endlinecolor": "#2a3f5f",
             "gridcolor": "white",
             "linecolor": "white",
             "minorgridcolor": "white",
             "startlinecolor": "#2a3f5f"
            },
            "baxis": {
             "endlinecolor": "#2a3f5f",
             "gridcolor": "white",
             "linecolor": "white",
             "minorgridcolor": "white",
             "startlinecolor": "#2a3f5f"
            },
            "type": "carpet"
           }
          ],
          "choropleth": [
           {
            "colorbar": {
             "outlinewidth": 0,
             "ticks": ""
            },
            "type": "choropleth"
           }
          ],
          "contour": [
           {
            "colorbar": {
             "outlinewidth": 0,
             "ticks": ""
            },
            "colorscale": [
             [
              0,
              "#0d0887"
             ],
             [
              0.1111111111111111,
              "#46039f"
             ],
             [
              0.2222222222222222,
              "#7201a8"
             ],
             [
              0.3333333333333333,
              "#9c179e"
             ],
             [
              0.4444444444444444,
              "#bd3786"
             ],
             [
              0.5555555555555556,
              "#d8576b"
             ],
             [
              0.6666666666666666,
              "#ed7953"
             ],
             [
              0.7777777777777778,
              "#fb9f3a"
             ],
             [
              0.8888888888888888,
              "#fdca26"
             ],
             [
              1,
              "#f0f921"
             ]
            ],
            "type": "contour"
           }
          ],
          "contourcarpet": [
           {
            "colorbar": {
             "outlinewidth": 0,
             "ticks": ""
            },
            "type": "contourcarpet"
           }
          ],
          "heatmap": [
           {
            "colorbar": {
             "outlinewidth": 0,
             "ticks": ""
            },
            "colorscale": [
             [
              0,
              "#0d0887"
             ],
             [
              0.1111111111111111,
              "#46039f"
             ],
             [
              0.2222222222222222,
              "#7201a8"
             ],
             [
              0.3333333333333333,
              "#9c179e"
             ],
             [
              0.4444444444444444,
              "#bd3786"
             ],
             [
              0.5555555555555556,
              "#d8576b"
             ],
             [
              0.6666666666666666,
              "#ed7953"
             ],
             [
              0.7777777777777778,
              "#fb9f3a"
             ],
             [
              0.8888888888888888,
              "#fdca26"
             ],
             [
              1,
              "#f0f921"
             ]
            ],
            "type": "heatmap"
           }
          ],
          "heatmapgl": [
           {
            "colorbar": {
             "outlinewidth": 0,
             "ticks": ""
            },
            "colorscale": [
             [
              0,
              "#0d0887"
             ],
             [
              0.1111111111111111,
              "#46039f"
             ],
             [
              0.2222222222222222,
              "#7201a8"
             ],
             [
              0.3333333333333333,
              "#9c179e"
             ],
             [
              0.4444444444444444,
              "#bd3786"
             ],
             [
              0.5555555555555556,
              "#d8576b"
             ],
             [
              0.6666666666666666,
              "#ed7953"
             ],
             [
              0.7777777777777778,
              "#fb9f3a"
             ],
             [
              0.8888888888888888,
              "#fdca26"
             ],
             [
              1,
              "#f0f921"
             ]
            ],
            "type": "heatmapgl"
           }
          ],
          "histogram": [
           {
            "marker": {
             "pattern": {
              "fillmode": "overlay",
              "size": 10,
              "solidity": 0.2
             }
            },
            "type": "histogram"
           }
          ],
          "histogram2d": [
           {
            "colorbar": {
             "outlinewidth": 0,
             "ticks": ""
            },
            "colorscale": [
             [
              0,
              "#0d0887"
             ],
             [
              0.1111111111111111,
              "#46039f"
             ],
             [
              0.2222222222222222,
              "#7201a8"
             ],
             [
              0.3333333333333333,
              "#9c179e"
             ],
             [
              0.4444444444444444,
              "#bd3786"
             ],
             [
              0.5555555555555556,
              "#d8576b"
             ],
             [
              0.6666666666666666,
              "#ed7953"
             ],
             [
              0.7777777777777778,
              "#fb9f3a"
             ],
             [
              0.8888888888888888,
              "#fdca26"
             ],
             [
              1,
              "#f0f921"
             ]
            ],
            "type": "histogram2d"
           }
          ],
          "histogram2dcontour": [
           {
            "colorbar": {
             "outlinewidth": 0,
             "ticks": ""
            },
            "colorscale": [
             [
              0,
              "#0d0887"
             ],
             [
              0.1111111111111111,
              "#46039f"
             ],
             [
              0.2222222222222222,
              "#7201a8"
             ],
             [
              0.3333333333333333,
              "#9c179e"
             ],
             [
              0.4444444444444444,
              "#bd3786"
             ],
             [
              0.5555555555555556,
              "#d8576b"
             ],
             [
              0.6666666666666666,
              "#ed7953"
             ],
             [
              0.7777777777777778,
              "#fb9f3a"
             ],
             [
              0.8888888888888888,
              "#fdca26"
             ],
             [
              1,
              "#f0f921"
             ]
            ],
            "type": "histogram2dcontour"
           }
          ],
          "mesh3d": [
           {
            "colorbar": {
             "outlinewidth": 0,
             "ticks": ""
            },
            "type": "mesh3d"
           }
          ],
          "parcoords": [
           {
            "line": {
             "colorbar": {
              "outlinewidth": 0,
              "ticks": ""
             }
            },
            "type": "parcoords"
           }
          ],
          "pie": [
           {
            "automargin": true,
            "type": "pie"
           }
          ],
          "scatter": [
           {
            "fillpattern": {
             "fillmode": "overlay",
             "size": 10,
             "solidity": 0.2
            },
            "type": "scatter"
           }
          ],
          "scatter3d": [
           {
            "line": {
             "colorbar": {
              "outlinewidth": 0,
              "ticks": ""
             }
            },
            "marker": {
             "colorbar": {
              "outlinewidth": 0,
              "ticks": ""
             }
            },
            "type": "scatter3d"
           }
          ],
          "scattercarpet": [
           {
            "marker": {
             "colorbar": {
              "outlinewidth": 0,
              "ticks": ""
             }
            },
            "type": "scattercarpet"
           }
          ],
          "scattergeo": [
           {
            "marker": {
             "colorbar": {
              "outlinewidth": 0,
              "ticks": ""
             }
            },
            "type": "scattergeo"
           }
          ],
          "scattergl": [
           {
            "marker": {
             "colorbar": {
              "outlinewidth": 0,
              "ticks": ""
             }
            },
            "type": "scattergl"
           }
          ],
          "scattermapbox": [
           {
            "marker": {
             "colorbar": {
              "outlinewidth": 0,
              "ticks": ""
             }
            },
            "type": "scattermapbox"
           }
          ],
          "scatterpolar": [
           {
            "marker": {
             "colorbar": {
              "outlinewidth": 0,
              "ticks": ""
             }
            },
            "type": "scatterpolar"
           }
          ],
          "scatterpolargl": [
           {
            "marker": {
             "colorbar": {
              "outlinewidth": 0,
              "ticks": ""
             }
            },
            "type": "scatterpolargl"
           }
          ],
          "scatterternary": [
           {
            "marker": {
             "colorbar": {
              "outlinewidth": 0,
              "ticks": ""
             }
            },
            "type": "scatterternary"
           }
          ],
          "surface": [
           {
            "colorbar": {
             "outlinewidth": 0,
             "ticks": ""
            },
            "colorscale": [
             [
              0,
              "#0d0887"
             ],
             [
              0.1111111111111111,
              "#46039f"
             ],
             [
              0.2222222222222222,
              "#7201a8"
             ],
             [
              0.3333333333333333,
              "#9c179e"
             ],
             [
              0.4444444444444444,
              "#bd3786"
             ],
             [
              0.5555555555555556,
              "#d8576b"
             ],
             [
              0.6666666666666666,
              "#ed7953"
             ],
             [
              0.7777777777777778,
              "#fb9f3a"
             ],
             [
              0.8888888888888888,
              "#fdca26"
             ],
             [
              1,
              "#f0f921"
             ]
            ],
            "type": "surface"
           }
          ],
          "table": [
           {
            "cells": {
             "fill": {
              "color": "#EBF0F8"
             },
             "line": {
              "color": "white"
             }
            },
            "header": {
             "fill": {
              "color": "#C8D4E3"
             },
             "line": {
              "color": "white"
             }
            },
            "type": "table"
           }
          ]
         },
         "layout": {
          "annotationdefaults": {
           "arrowcolor": "#2a3f5f",
           "arrowhead": 0,
           "arrowwidth": 1
          },
          "autotypenumbers": "strict",
          "coloraxis": {
           "colorbar": {
            "outlinewidth": 0,
            "ticks": ""
           }
          },
          "colorscale": {
           "diverging": [
            [
             0,
             "#8e0152"
            ],
            [
             0.1,
             "#c51b7d"
            ],
            [
             0.2,
             "#de77ae"
            ],
            [
             0.3,
             "#f1b6da"
            ],
            [
             0.4,
             "#fde0ef"
            ],
            [
             0.5,
             "#f7f7f7"
            ],
            [
             0.6,
             "#e6f5d0"
            ],
            [
             0.7,
             "#b8e186"
            ],
            [
             0.8,
             "#7fbc41"
            ],
            [
             0.9,
             "#4d9221"
            ],
            [
             1,
             "#276419"
            ]
           ],
           "sequential": [
            [
             0,
             "#0d0887"
            ],
            [
             0.1111111111111111,
             "#46039f"
            ],
            [
             0.2222222222222222,
             "#7201a8"
            ],
            [
             0.3333333333333333,
             "#9c179e"
            ],
            [
             0.4444444444444444,
             "#bd3786"
            ],
            [
             0.5555555555555556,
             "#d8576b"
            ],
            [
             0.6666666666666666,
             "#ed7953"
            ],
            [
             0.7777777777777778,
             "#fb9f3a"
            ],
            [
             0.8888888888888888,
             "#fdca26"
            ],
            [
             1,
             "#f0f921"
            ]
           ],
           "sequentialminus": [
            [
             0,
             "#0d0887"
            ],
            [
             0.1111111111111111,
             "#46039f"
            ],
            [
             0.2222222222222222,
             "#7201a8"
            ],
            [
             0.3333333333333333,
             "#9c179e"
            ],
            [
             0.4444444444444444,
             "#bd3786"
            ],
            [
             0.5555555555555556,
             "#d8576b"
            ],
            [
             0.6666666666666666,
             "#ed7953"
            ],
            [
             0.7777777777777778,
             "#fb9f3a"
            ],
            [
             0.8888888888888888,
             "#fdca26"
            ],
            [
             1,
             "#f0f921"
            ]
           ]
          },
          "colorway": [
           "#636efa",
           "#EF553B",
           "#00cc96",
           "#ab63fa",
           "#FFA15A",
           "#19d3f3",
           "#FF6692",
           "#B6E880",
           "#FF97FF",
           "#FECB52"
          ],
          "font": {
           "color": "#2a3f5f"
          },
          "geo": {
           "bgcolor": "white",
           "lakecolor": "white",
           "landcolor": "#E5ECF6",
           "showlakes": true,
           "showland": true,
           "subunitcolor": "white"
          },
          "hoverlabel": {
           "align": "left"
          },
          "hovermode": "closest",
          "mapbox": {
           "style": "light"
          },
          "paper_bgcolor": "white",
          "plot_bgcolor": "#E5ECF6",
          "polar": {
           "angularaxis": {
            "gridcolor": "white",
            "linecolor": "white",
            "ticks": ""
           },
           "bgcolor": "#E5ECF6",
           "radialaxis": {
            "gridcolor": "white",
            "linecolor": "white",
            "ticks": ""
           }
          },
          "scene": {
           "xaxis": {
            "backgroundcolor": "#E5ECF6",
            "gridcolor": "white",
            "gridwidth": 2,
            "linecolor": "white",
            "showbackground": true,
            "ticks": "",
            "zerolinecolor": "white"
           },
           "yaxis": {
            "backgroundcolor": "#E5ECF6",
            "gridcolor": "white",
            "gridwidth": 2,
            "linecolor": "white",
            "showbackground": true,
            "ticks": "",
            "zerolinecolor": "white"
           },
           "zaxis": {
            "backgroundcolor": "#E5ECF6",
            "gridcolor": "white",
            "gridwidth": 2,
            "linecolor": "white",
            "showbackground": true,
            "ticks": "",
            "zerolinecolor": "white"
           }
          },
          "shapedefaults": {
           "line": {
            "color": "#2a3f5f"
           }
          },
          "ternary": {
           "aaxis": {
            "gridcolor": "white",
            "linecolor": "white",
            "ticks": ""
           },
           "baxis": {
            "gridcolor": "white",
            "linecolor": "white",
            "ticks": ""
           },
           "bgcolor": "#E5ECF6",
           "caxis": {
            "gridcolor": "white",
            "linecolor": "white",
            "ticks": ""
           }
          },
          "title": {
           "x": 0.05
          },
          "xaxis": {
           "automargin": true,
           "gridcolor": "white",
           "linecolor": "white",
           "ticks": "",
           "title": {
            "standoff": 15
           },
           "zerolinecolor": "white",
           "zerolinewidth": 2
          },
          "yaxis": {
           "automargin": true,
           "gridcolor": "white",
           "linecolor": "white",
           "ticks": "",
           "title": {
            "standoff": 15
           },
           "zerolinecolor": "white",
           "zerolinewidth": 2
          }
         }
        },
        "title": {
         "text": "Manganese lost in the remelting process"
        },
        "xaxis": {
         "anchor": "y",
         "domain": [
          0,
          1
         ],
         "title": {
          "text": "Time"
         }
        },
        "yaxis": {
         "anchor": "x",
         "domain": [
          0,
          1
         ],
         "title": {
          "text": "kt/yr"
         }
        }
       }
      }
     },
     "metadata": {},
     "output_type": "display_data"
    }
   ],
   "source": [
    "manganese_to_slag = mfa_example.flows['remelting => slag piles']['Mn']\n",
    "\n",
    "plotter = PlotlyArrayPlotter(\n",
    "    array=manganese_to_slag,\n",
    "    intra_line_dim='Time',\n",
    "    ylabel='kt/yr',\n",
    "    title='Manganese lost in the remelting process')\n",
    "fig = plotter.plot(do_show=True)"
   ]
  },
  {
   "cell_type": "markdown",
   "id": "cc2933dc-bd51-42bb-8bed-3d651deeafed",
   "metadata": {},
   "source": [
    "**What is more effective in reducing the copper concentraction of secondary steel: A reduction of the shredding yield factor for copper from EoL machines into steel scrap of 25% or an increase in the EoL buildings flow by 25%? (All other variables and parameters remaining equal)**\n",
    "\n",
    "To answer this we change the parameter values and recalculate the entire system.\n",
    "In case a, we update the shredder yield, and in case b we increase the EoL buildings flow.\n",
    "We could load new datasets for the parameters, but since we are only changing one value, we will just update that value.\n"
   ]
  },
  {
   "cell_type": "code",
   "execution_count": 30,
   "id": "4f1076e6-2fa7-4291-9d20-b2a282f4bb77",
   "metadata": {},
   "outputs": [],
   "source": [
    "parameters_a = deepcopy(parameters)\n",
    "parameters_a['shredder yield'].set_values(np.array([0.92, 0.075, 0.92]))\n",
    "\n",
    "mfa_example_a = SimpleMFA(dims=dimensions, processes=processes, parameters=parameters_a, flows=deepcopy(flows), stocks=deepcopy(stocks))\n",
    "mfa_example_a.compute()"
   ]
  },
  {
   "cell_type": "code",
   "execution_count": 31,
   "id": "44bdaf4c-7982-4e0e-938c-a1d45c95324a",
   "metadata": {},
   "outputs": [],
   "source": [
    "parameters_b = deepcopy(parameters)\n",
    "parameters_b['eol buildings'][...] = 1.25 * parameters_b['eol buildings']\n",
    "\n",
    "mfa_example_b = SimpleMFA(dims=dimensions, processes=processes, parameters=parameters_b, flows=deepcopy(flows), stocks=deepcopy(stocks))\n",
    "mfa_example_b.compute()"
   ]
  },
  {
   "cell_type": "code",
   "execution_count": 34,
   "id": "cbf5d351-2158-4983-b231-720bfc9d809d",
   "metadata": {},
   "outputs": [
    {
     "data": {
      "application/vnd.plotly.v1+json": {
       "config": {
        "plotlyServerURL": "https://plot.ly"
       },
       "data": [
        {
         "line": {
          "color": "rgb(31, 119, 180)"
         },
         "name": "Standard",
         "showlegend": true,
         "type": "scatter",
         "x": [
          1980,
          1981,
          1982,
          1983,
          1984,
          1985,
          1986,
          1987,
          1988,
          1989,
          1990,
          1991,
          1992,
          1993,
          1994,
          1995,
          1996,
          1997,
          1998,
          1999,
          2000,
          2001,
          2002,
          2003,
          2004,
          2005,
          2006,
          2007,
          2008,
          2009,
          2010
         ],
         "xaxis": "x",
         "y": [
          0.9915273014161657,
          0.9916644594362993,
          0.9917862173891998,
          0.9918950310796839,
          0.9919928605072015,
          0.992081288977364,
          0.9921616094495014,
          0.9922348881737778,
          0.9923020122938627,
          0.9923637259386987,
          0.9924206579249475,
          0.9924733432603248,
          0.9925222400080371,
          0.9925677426393378,
          0.9926101926987899,
          0.9926498873927326,
          0.9926870865579284,
          0.992722018355948,
          0.9927548839570955,
          0.9927858614170562,
          0.9928151089040533,
          0.9928427674000212,
          0.9928689629731617,
          0.9928938086991929,
          0.9929174062930497,
          0.992939847500706,
          0.9929612152912736,
          0.9929815848820331,
          0.9930010246230905,
          0.993019596763587,
          0.9930373581175589
         ],
         "yaxis": "y"
        },
        {
         "line": {
          "color": "rgb(31, 119, 180)"
         },
         "name": "Standard",
         "showlegend": false,
         "type": "scatter",
         "x": [
          1980,
          1981,
          1982,
          1983,
          1984,
          1985,
          1986,
          1987,
          1988,
          1989,
          1990,
          1991,
          1992,
          1993,
          1994,
          1995,
          1996,
          1997,
          1998,
          1999,
          2000,
          2001,
          2002,
          2003,
          2004,
          2005,
          2006,
          2007,
          2008,
          2009,
          2010
         ],
         "xaxis": "x2",
         "y": [
          0.0029378348959221293,
          0.0028823831855787356,
          0.002833157579014384,
          0.002789165217209686,
          0.0027496136906385053,
          0.002713862883585508,
          0.002681390064633573,
          0.0026517641587699837,
          0.0026246265020701378,
          0.002599676250131964,
          0.002576659178234413,
          0.002555358987739976,
          0.0025355904879596496,
          0.002517194197838964,
          0.002500032034091596,
          0.002483983838962044,
          0.0024689445628668684,
          0.002454821962207717,
          0.0024415347057036773,
          0.00242901080709939,
          0.002417186320454981,
          0.002406004248087353,
          0.00239541362179612,
          0.002385368726121707,
          0.0023758284386629844,
          0.0023667556673769605,
          0.0023581168686244054,
          0.002349881632759199,
          0.0023420223264698785,
          0.002334513783008345,
          0.0023273330329887476
         ],
         "yaxis": "y2"
        },
        {
         "line": {
          "color": "rgb(31, 119, 180)"
         },
         "name": "Standard",
         "showlegend": false,
         "type": "scatter",
         "x": [
          1980,
          1981,
          1982,
          1983,
          1984,
          1985,
          1986,
          1987,
          1988,
          1989,
          1990,
          1991,
          1992,
          1993,
          1994,
          1995,
          1996,
          1997,
          1998,
          1999,
          2000,
          2001,
          2002,
          2003,
          2004,
          2005,
          2006,
          2007,
          2008,
          2009,
          2010
         ],
         "xaxis": "x3",
         "y": [
          0.0055348636879120295,
          0.005453157378121933,
          0.005380625031785901,
          0.005315803703106345,
          0.0052575258021600275,
          0.005204848139050469,
          0.005157000485865129,
          0.005113347667452269,
          0.0050733612040670326,
          0.005036597811169371,
          0.0050026828968182,
          0.004971297751935398,
          0.0049421695040033796,
          0.00491506316282326,
          0.0048897752671185615,
          0.004866128768305325,
          0.004843968879204669,
          0.00482315968184443,
          0.00480358133720084,
          0.004785127775844394,
          0.004767704775491582,
          0.004751228351891538,
          0.004735623405042037,
          0.004720822574685311,
          0.004706765268287334,
          0.004693396831917024,
          0.004680667840101992,
          0.004668533485207793,
          0.004656953050439707,
          0.004645889453404713,
          0.004635308849452317
         ],
         "yaxis": "y3"
        },
        {
         "line": {
          "color": "rgb(255, 127, 14)"
         },
         "name": "Updated shredder yield",
         "showlegend": true,
         "type": "scatter",
         "x": [
          1980,
          1981,
          1982,
          1983,
          1984,
          1985,
          1986,
          1987,
          1988,
          1989,
          1990,
          1991,
          1992,
          1993,
          1994,
          1995,
          1996,
          1997,
          1998,
          1999,
          2000,
          2001,
          2002,
          2003,
          2004,
          2005,
          2006,
          2007,
          2008,
          2009,
          2010
         ],
         "xaxis": "x",
         "y": [
          0.9920248044873968,
          0.9921475252039111,
          0.9922564638631981,
          0.9923538187047135,
          0.99244134407566,
          0.9925204570909018,
          0.9925923149487438,
          0.9926578719082695,
          0.992717921907934,
          0.9927731308768506,
          0.9928240615343762,
          0.9928711926393671,
          0.9929149340862276,
          0.9929556388569065,
          0.9929936125671588,
          0.993029121153675,
          0.993062397111208,
          0.9930936445890677,
          0.9931230435831465,
          0.993150753405364,
          0.9931769155717829,
          0.993201656219949,
          0.9932250881426129,
          0.9932473125070348,
          0.9932684203151495,
          0.9932884936490489,
          0.9933076067377279,
          0.9933258268743114,
          0.9933432152076634,
          0.9933598274279968,
          0.9933757143626801
         ],
         "yaxis": "y"
        },
        {
         "line": {
          "color": "rgb(255, 127, 14)"
         },
         "name": "Updated shredder yield",
         "showlegend": false,
         "type": "scatter",
         "x": [
          1980,
          1981,
          1982,
          1983,
          1984,
          1985,
          1986,
          1987,
          1988,
          1989,
          1990,
          1991,
          1992,
          1993,
          1994,
          1995,
          1996,
          1997,
          1998,
          1999,
          2000,
          2001,
          2002,
          2003,
          2004,
          2005,
          2006,
          2007,
          2008,
          2009,
          2010
         ],
         "xaxis": "x2",
         "y": [
          0.002437554683124149,
          0.0023966610419824874,
          0.0023603599302723516,
          0.0023279188391067437,
          0.002298753175705036,
          0.0022723907216155447,
          0.0022484458691467393,
          0.002226600635079272,
          0.002206590459074847,
          0.002188193436739867,
          0.0021712220557772864,
          0.0021555167816487714,
          0.0021409410271899148,
          0.002127377169903397,
          0.002114723370903618,
          0.002102891013371109,
          0.00209180262418425,
          0.002081390175638717,
          0.0020715936885586897,
          0.0020623600761902976,
          0.0020536421818085084,
          0.0020453979731985764,
          0.002037589864967915,
          0.002030184145631454,
          0.0020231504910470004,
          0.0020164615493888614,
          0.002010092585682145,
          0.0020040211761584823,
          0.001998226944472467,
          0.001992691333239328,
          0.001987397405496442
         ],
         "yaxis": "y2"
        },
        {
         "line": {
          "color": "rgb(255, 127, 14)"
         },
         "name": "Updated shredder yield",
         "showlegend": false,
         "type": "scatter",
         "x": [
          1980,
          1981,
          1982,
          1983,
          1984,
          1985,
          1986,
          1987,
          1988,
          1989,
          1990,
          1991,
          1992,
          1993,
          1994,
          1995,
          1996,
          1997,
          1998,
          1999,
          2000,
          2001,
          2002,
          2003,
          2004,
          2005,
          2006,
          2007,
          2008,
          2009,
          2010
         ],
         "xaxis": "x3",
         "y": [
          0.005537640829479033,
          0.0054558137541064755,
          0.005383176206529754,
          0.005318262456179659,
          0.0052599027486350345,
          0.005207152187482663,
          0.005159239182109474,
          0.0051155274566512905,
          0.005075487632991175,
          0.005038675686409548,
          0.005004716409846459,
          0.0049732905789841774,
          0.004944124886582636,
          0.004916983973190218,
          0.004891664061937578,
          0.004867987832953869,
          0.004845800264607724,
          0.00482496523529359,
          0.004805362728294843,
          0.004786886518445686,
          0.004769442246408441,
          0.004752945806852592,
          0.004737321992419093,
          0.00472250334733358,
          0.004708429193803626,
          0.004695044801562126,
          0.0046823006765900005,
          0.004670151949530227,
          0.004658557847864024,
          0.0046474812387638925,
          0.004636888231823441
         ],
         "yaxis": "y3"
        },
        {
         "line": {
          "color": "rgb(44, 160, 44)"
         },
         "name": "Increased buildings demolition",
         "showlegend": true,
         "type": "scatter",
         "x": [
          1980,
          1981,
          1982,
          1983,
          1984,
          1985,
          1986,
          1987,
          1988,
          1989,
          1990,
          1991,
          1992,
          1993,
          1994,
          1995,
          1996,
          1997,
          1998,
          1999,
          2000,
          2001,
          2002,
          2003,
          2004,
          2005,
          2006,
          2007,
          2008,
          2009,
          2010
         ],
         "xaxis": "x",
         "y": [
          0.9923921732735093,
          0.9925063365147422,
          0.9926075683886573,
          0.9926979482505277,
          0.992779132323487,
          0.9928524561181374,
          0.9929190084768749,
          0.9929796860097041,
          0.9930352337236663,
          0.9930862757654736,
          0.9931333389747897,
          0.9931768711360593,
          0.993217255270696,
          0.9932548209368511,
          0.9932898532430764,
          0.9933226000978753,
          0.9933532780852258,
          0.9933820772606012,
          0.993409165092003,
          0.9934346897186954,
          0.9934587826615946,
          0.9934815610900154,
          0.9935031297272509,
          0.9935235824603837,
          0.993543003706534,
          0.9935614695774828,
          0.9935790488765474,
          0.9935958039552418,
          0.9936117914521995,
          0.9936270629328153,
          0.9936416654448311
         ],
         "yaxis": "y"
        },
        {
         "line": {
          "color": "rgb(44, 160, 44)"
         },
         "name": "Increased buildings demolition",
         "showlegend": false,
         "type": "scatter",
         "x": [
          1980,
          1981,
          1982,
          1983,
          1984,
          1985,
          1986,
          1987,
          1988,
          1989,
          1990,
          1991,
          1992,
          1993,
          1994,
          1995,
          1996,
          1997,
          1998,
          1999,
          2000,
          2001,
          2002,
          2003,
          2004,
          2005,
          2006,
          2007,
          2008,
          2009,
          2010
         ],
         "xaxis": "x2",
         "y": [
          0.0025881752575656935,
          0.002542020122207617,
          0.002501093018240993,
          0.002464553281691585,
          0.002431731316969025,
          0.0024020871895729344,
          0.0023751806906618135,
          0.0023506493291597227,
          0.002328191905657469,
          0.0023075560834512456,
          0.002288528866170829,
          0.0022709292187349924,
          0.0022546022891529235,
          0.002239414840132715,
          0.002225251604941806,
          0.0022120123564808615,
          0.002199609531864226,
          0.0021879662934338314,
          0.0021770149354363552,
          0.002166695566546348,
          0.0021569550140823645,
          0.002147745907581471,
          0.002139025908391303,
          0.002130757058838731,
          0.002122905229868095,
          0.002115439650195239,
          0.00210833250327943,
          0.0021015585809842194,
          0.00209509498483765,
          0.0020889208674305638,
          0.002083017207799116
         ],
         "yaxis": "y2"
        },
        {
         "line": {
          "color": "rgb(44, 160, 44)"
         },
         "name": "Increased buildings demolition",
         "showlegend": false,
         "type": "scatter",
         "x": [
          1980,
          1981,
          1982,
          1983,
          1984,
          1985,
          1986,
          1987,
          1988,
          1989,
          1990,
          1991,
          1992,
          1993,
          1994,
          1995,
          1996,
          1997,
          1998,
          1999,
          2000,
          2001,
          2002,
          2003,
          2004,
          2005,
          2006,
          2007,
          2008,
          2009,
          2010
         ],
         "xaxis": "x3",
         "y": [
          0.005019651468925029,
          0.004951643363050254,
          0.004891338593101767,
          0.004837498467780724,
          0.004789136359543957,
          0.004745456692289643,
          0.00470581083246341,
          0.004669664661136136,
          0.004636574370676211,
          0.004606168151075161,
          0.0045781321590393905,
          0.004552199645205573,
          0.004528142440151075,
          0.004505764223016168,
          0.00448489515198171,
          0.004465387545643886,
          0.0044471123829099785,
          0.004429956445964796,
          0.004413819972560768,
          0.004398614714758189,
          0.004384262324322972,
          0.00437069300240319,
          0.004357844364357779,
          0.004345660480777519,
          0.004334091063597763,
          0.004323090772322066,
          0.004312618620173272,
          0.004302637463773965,
          0.004293113562962985,
          0.00428401619975417,
          0.004275317347369721
         ],
         "yaxis": "y3"
        }
       ],
       "layout": {
        "annotations": [
         {
          "font": {
           "size": 16
          },
          "showarrow": false,
          "text": "Material=Fe",
          "x": 0.225,
          "xanchor": "center",
          "xref": "paper",
          "y": 1,
          "yanchor": "bottom",
          "yref": "paper"
         },
         {
          "font": {
           "size": 16
          },
          "showarrow": false,
          "text": "Material=Cu",
          "x": 0.775,
          "xanchor": "center",
          "xref": "paper",
          "y": 1,
          "yanchor": "bottom",
          "yref": "paper"
         },
         {
          "font": {
           "size": 16
          },
          "showarrow": false,
          "text": "Material=Mn",
          "x": 0.225,
          "xanchor": "center",
          "xref": "paper",
          "y": 0.375,
          "yanchor": "bottom",
          "yref": "paper"
         }
        ],
        "template": {
         "data": {
          "bar": [
           {
            "error_x": {
             "color": "#2a3f5f"
            },
            "error_y": {
             "color": "#2a3f5f"
            },
            "marker": {
             "line": {
              "color": "#E5ECF6",
              "width": 0.5
             },
             "pattern": {
              "fillmode": "overlay",
              "size": 10,
              "solidity": 0.2
             }
            },
            "type": "bar"
           }
          ],
          "barpolar": [
           {
            "marker": {
             "line": {
              "color": "#E5ECF6",
              "width": 0.5
             },
             "pattern": {
              "fillmode": "overlay",
              "size": 10,
              "solidity": 0.2
             }
            },
            "type": "barpolar"
           }
          ],
          "carpet": [
           {
            "aaxis": {
             "endlinecolor": "#2a3f5f",
             "gridcolor": "white",
             "linecolor": "white",
             "minorgridcolor": "white",
             "startlinecolor": "#2a3f5f"
            },
            "baxis": {
             "endlinecolor": "#2a3f5f",
             "gridcolor": "white",
             "linecolor": "white",
             "minorgridcolor": "white",
             "startlinecolor": "#2a3f5f"
            },
            "type": "carpet"
           }
          ],
          "choropleth": [
           {
            "colorbar": {
             "outlinewidth": 0,
             "ticks": ""
            },
            "type": "choropleth"
           }
          ],
          "contour": [
           {
            "colorbar": {
             "outlinewidth": 0,
             "ticks": ""
            },
            "colorscale": [
             [
              0,
              "#0d0887"
             ],
             [
              0.1111111111111111,
              "#46039f"
             ],
             [
              0.2222222222222222,
              "#7201a8"
             ],
             [
              0.3333333333333333,
              "#9c179e"
             ],
             [
              0.4444444444444444,
              "#bd3786"
             ],
             [
              0.5555555555555556,
              "#d8576b"
             ],
             [
              0.6666666666666666,
              "#ed7953"
             ],
             [
              0.7777777777777778,
              "#fb9f3a"
             ],
             [
              0.8888888888888888,
              "#fdca26"
             ],
             [
              1,
              "#f0f921"
             ]
            ],
            "type": "contour"
           }
          ],
          "contourcarpet": [
           {
            "colorbar": {
             "outlinewidth": 0,
             "ticks": ""
            },
            "type": "contourcarpet"
           }
          ],
          "heatmap": [
           {
            "colorbar": {
             "outlinewidth": 0,
             "ticks": ""
            },
            "colorscale": [
             [
              0,
              "#0d0887"
             ],
             [
              0.1111111111111111,
              "#46039f"
             ],
             [
              0.2222222222222222,
              "#7201a8"
             ],
             [
              0.3333333333333333,
              "#9c179e"
             ],
             [
              0.4444444444444444,
              "#bd3786"
             ],
             [
              0.5555555555555556,
              "#d8576b"
             ],
             [
              0.6666666666666666,
              "#ed7953"
             ],
             [
              0.7777777777777778,
              "#fb9f3a"
             ],
             [
              0.8888888888888888,
              "#fdca26"
             ],
             [
              1,
              "#f0f921"
             ]
            ],
            "type": "heatmap"
           }
          ],
          "heatmapgl": [
           {
            "colorbar": {
             "outlinewidth": 0,
             "ticks": ""
            },
            "colorscale": [
             [
              0,
              "#0d0887"
             ],
             [
              0.1111111111111111,
              "#46039f"
             ],
             [
              0.2222222222222222,
              "#7201a8"
             ],
             [
              0.3333333333333333,
              "#9c179e"
             ],
             [
              0.4444444444444444,
              "#bd3786"
             ],
             [
              0.5555555555555556,
              "#d8576b"
             ],
             [
              0.6666666666666666,
              "#ed7953"
             ],
             [
              0.7777777777777778,
              "#fb9f3a"
             ],
             [
              0.8888888888888888,
              "#fdca26"
             ],
             [
              1,
              "#f0f921"
             ]
            ],
            "type": "heatmapgl"
           }
          ],
          "histogram": [
           {
            "marker": {
             "pattern": {
              "fillmode": "overlay",
              "size": 10,
              "solidity": 0.2
             }
            },
            "type": "histogram"
           }
          ],
          "histogram2d": [
           {
            "colorbar": {
             "outlinewidth": 0,
             "ticks": ""
            },
            "colorscale": [
             [
              0,
              "#0d0887"
             ],
             [
              0.1111111111111111,
              "#46039f"
             ],
             [
              0.2222222222222222,
              "#7201a8"
             ],
             [
              0.3333333333333333,
              "#9c179e"
             ],
             [
              0.4444444444444444,
              "#bd3786"
             ],
             [
              0.5555555555555556,
              "#d8576b"
             ],
             [
              0.6666666666666666,
              "#ed7953"
             ],
             [
              0.7777777777777778,
              "#fb9f3a"
             ],
             [
              0.8888888888888888,
              "#fdca26"
             ],
             [
              1,
              "#f0f921"
             ]
            ],
            "type": "histogram2d"
           }
          ],
          "histogram2dcontour": [
           {
            "colorbar": {
             "outlinewidth": 0,
             "ticks": ""
            },
            "colorscale": [
             [
              0,
              "#0d0887"
             ],
             [
              0.1111111111111111,
              "#46039f"
             ],
             [
              0.2222222222222222,
              "#7201a8"
             ],
             [
              0.3333333333333333,
              "#9c179e"
             ],
             [
              0.4444444444444444,
              "#bd3786"
             ],
             [
              0.5555555555555556,
              "#d8576b"
             ],
             [
              0.6666666666666666,
              "#ed7953"
             ],
             [
              0.7777777777777778,
              "#fb9f3a"
             ],
             [
              0.8888888888888888,
              "#fdca26"
             ],
             [
              1,
              "#f0f921"
             ]
            ],
            "type": "histogram2dcontour"
           }
          ],
          "mesh3d": [
           {
            "colorbar": {
             "outlinewidth": 0,
             "ticks": ""
            },
            "type": "mesh3d"
           }
          ],
          "parcoords": [
           {
            "line": {
             "colorbar": {
              "outlinewidth": 0,
              "ticks": ""
             }
            },
            "type": "parcoords"
           }
          ],
          "pie": [
           {
            "automargin": true,
            "type": "pie"
           }
          ],
          "scatter": [
           {
            "fillpattern": {
             "fillmode": "overlay",
             "size": 10,
             "solidity": 0.2
            },
            "type": "scatter"
           }
          ],
          "scatter3d": [
           {
            "line": {
             "colorbar": {
              "outlinewidth": 0,
              "ticks": ""
             }
            },
            "marker": {
             "colorbar": {
              "outlinewidth": 0,
              "ticks": ""
             }
            },
            "type": "scatter3d"
           }
          ],
          "scattercarpet": [
           {
            "marker": {
             "colorbar": {
              "outlinewidth": 0,
              "ticks": ""
             }
            },
            "type": "scattercarpet"
           }
          ],
          "scattergeo": [
           {
            "marker": {
             "colorbar": {
              "outlinewidth": 0,
              "ticks": ""
             }
            },
            "type": "scattergeo"
           }
          ],
          "scattergl": [
           {
            "marker": {
             "colorbar": {
              "outlinewidth": 0,
              "ticks": ""
             }
            },
            "type": "scattergl"
           }
          ],
          "scattermapbox": [
           {
            "marker": {
             "colorbar": {
              "outlinewidth": 0,
              "ticks": ""
             }
            },
            "type": "scattermapbox"
           }
          ],
          "scatterpolar": [
           {
            "marker": {
             "colorbar": {
              "outlinewidth": 0,
              "ticks": ""
             }
            },
            "type": "scatterpolar"
           }
          ],
          "scatterpolargl": [
           {
            "marker": {
             "colorbar": {
              "outlinewidth": 0,
              "ticks": ""
             }
            },
            "type": "scatterpolargl"
           }
          ],
          "scatterternary": [
           {
            "marker": {
             "colorbar": {
              "outlinewidth": 0,
              "ticks": ""
             }
            },
            "type": "scatterternary"
           }
          ],
          "surface": [
           {
            "colorbar": {
             "outlinewidth": 0,
             "ticks": ""
            },
            "colorscale": [
             [
              0,
              "#0d0887"
             ],
             [
              0.1111111111111111,
              "#46039f"
             ],
             [
              0.2222222222222222,
              "#7201a8"
             ],
             [
              0.3333333333333333,
              "#9c179e"
             ],
             [
              0.4444444444444444,
              "#bd3786"
             ],
             [
              0.5555555555555556,
              "#d8576b"
             ],
             [
              0.6666666666666666,
              "#ed7953"
             ],
             [
              0.7777777777777778,
              "#fb9f3a"
             ],
             [
              0.8888888888888888,
              "#fdca26"
             ],
             [
              1,
              "#f0f921"
             ]
            ],
            "type": "surface"
           }
          ],
          "table": [
           {
            "cells": {
             "fill": {
              "color": "#EBF0F8"
             },
             "line": {
              "color": "white"
             }
            },
            "header": {
             "fill": {
              "color": "#C8D4E3"
             },
             "line": {
              "color": "white"
             }
            },
            "type": "table"
           }
          ]
         },
         "layout": {
          "annotationdefaults": {
           "arrowcolor": "#2a3f5f",
           "arrowhead": 0,
           "arrowwidth": 1
          },
          "autotypenumbers": "strict",
          "coloraxis": {
           "colorbar": {
            "outlinewidth": 0,
            "ticks": ""
           }
          },
          "colorscale": {
           "diverging": [
            [
             0,
             "#8e0152"
            ],
            [
             0.1,
             "#c51b7d"
            ],
            [
             0.2,
             "#de77ae"
            ],
            [
             0.3,
             "#f1b6da"
            ],
            [
             0.4,
             "#fde0ef"
            ],
            [
             0.5,
             "#f7f7f7"
            ],
            [
             0.6,
             "#e6f5d0"
            ],
            [
             0.7,
             "#b8e186"
            ],
            [
             0.8,
             "#7fbc41"
            ],
            [
             0.9,
             "#4d9221"
            ],
            [
             1,
             "#276419"
            ]
           ],
           "sequential": [
            [
             0,
             "#0d0887"
            ],
            [
             0.1111111111111111,
             "#46039f"
            ],
            [
             0.2222222222222222,
             "#7201a8"
            ],
            [
             0.3333333333333333,
             "#9c179e"
            ],
            [
             0.4444444444444444,
             "#bd3786"
            ],
            [
             0.5555555555555556,
             "#d8576b"
            ],
            [
             0.6666666666666666,
             "#ed7953"
            ],
            [
             0.7777777777777778,
             "#fb9f3a"
            ],
            [
             0.8888888888888888,
             "#fdca26"
            ],
            [
             1,
             "#f0f921"
            ]
           ],
           "sequentialminus": [
            [
             0,
             "#0d0887"
            ],
            [
             0.1111111111111111,
             "#46039f"
            ],
            [
             0.2222222222222222,
             "#7201a8"
            ],
            [
             0.3333333333333333,
             "#9c179e"
            ],
            [
             0.4444444444444444,
             "#bd3786"
            ],
            [
             0.5555555555555556,
             "#d8576b"
            ],
            [
             0.6666666666666666,
             "#ed7953"
            ],
            [
             0.7777777777777778,
             "#fb9f3a"
            ],
            [
             0.8888888888888888,
             "#fdca26"
            ],
            [
             1,
             "#f0f921"
            ]
           ]
          },
          "colorway": [
           "#636efa",
           "#EF553B",
           "#00cc96",
           "#ab63fa",
           "#FFA15A",
           "#19d3f3",
           "#FF6692",
           "#B6E880",
           "#FF97FF",
           "#FECB52"
          ],
          "font": {
           "color": "#2a3f5f"
          },
          "geo": {
           "bgcolor": "white",
           "lakecolor": "white",
           "landcolor": "#E5ECF6",
           "showlakes": true,
           "showland": true,
           "subunitcolor": "white"
          },
          "hoverlabel": {
           "align": "left"
          },
          "hovermode": "closest",
          "mapbox": {
           "style": "light"
          },
          "paper_bgcolor": "white",
          "plot_bgcolor": "#E5ECF6",
          "polar": {
           "angularaxis": {
            "gridcolor": "white",
            "linecolor": "white",
            "ticks": ""
           },
           "bgcolor": "#E5ECF6",
           "radialaxis": {
            "gridcolor": "white",
            "linecolor": "white",
            "ticks": ""
           }
          },
          "scene": {
           "xaxis": {
            "backgroundcolor": "#E5ECF6",
            "gridcolor": "white",
            "gridwidth": 2,
            "linecolor": "white",
            "showbackground": true,
            "ticks": "",
            "zerolinecolor": "white"
           },
           "yaxis": {
            "backgroundcolor": "#E5ECF6",
            "gridcolor": "white",
            "gridwidth": 2,
            "linecolor": "white",
            "showbackground": true,
            "ticks": "",
            "zerolinecolor": "white"
           },
           "zaxis": {
            "backgroundcolor": "#E5ECF6",
            "gridcolor": "white",
            "gridwidth": 2,
            "linecolor": "white",
            "showbackground": true,
            "ticks": "",
            "zerolinecolor": "white"
           }
          },
          "shapedefaults": {
           "line": {
            "color": "#2a3f5f"
           }
          },
          "ternary": {
           "aaxis": {
            "gridcolor": "white",
            "linecolor": "white",
            "ticks": ""
           },
           "baxis": {
            "gridcolor": "white",
            "linecolor": "white",
            "ticks": ""
           },
           "bgcolor": "#E5ECF6",
           "caxis": {
            "gridcolor": "white",
            "linecolor": "white",
            "ticks": ""
           }
          },
          "title": {
           "x": 0.05
          },
          "xaxis": {
           "automargin": true,
           "gridcolor": "white",
           "linecolor": "white",
           "ticks": "",
           "title": {
            "standoff": 15
           },
           "zerolinecolor": "white",
           "zerolinewidth": 2
          },
          "yaxis": {
           "automargin": true,
           "gridcolor": "white",
           "linecolor": "white",
           "ticks": "",
           "title": {
            "standoff": 15
           },
           "zerolinecolor": "white",
           "zerolinewidth": 2
          }
         }
        },
        "title": {
         "text": "Material concentration in secondary steel"
        },
        "xaxis": {
         "anchor": "y",
         "domain": [
          0,
          0.45
         ],
         "title": {
          "text": "Time"
         }
        },
        "xaxis2": {
         "anchor": "y2",
         "domain": [
          0.55,
          1
         ],
         "title": {
          "text": "Time"
         }
        },
        "xaxis3": {
         "anchor": "y3",
         "domain": [
          0,
          0.45
         ],
         "title": {
          "text": "Time"
         }
        },
        "xaxis4": {
         "anchor": "y4",
         "domain": [
          0.55,
          1
         ]
        },
        "yaxis": {
         "anchor": "x",
         "domain": [
          0.625,
          1
         ]
        },
        "yaxis2": {
         "anchor": "x2",
         "domain": [
          0.625,
          1
         ]
        },
        "yaxis3": {
         "anchor": "x3",
         "domain": [
          0,
          0.375
         ]
        },
        "yaxis4": {
         "anchor": "x4",
         "domain": [
          0,
          0.375
         ]
        }
       }
      }
     },
     "metadata": {},
     "output_type": "display_data"
    }
   ],
   "source": [
    "flow_a = mfa_example_a.flows['remelting => sysenv']\n",
    "shares_shredder = flow_a / flow_a.sum_nda_over(('e'))\n",
    "\n",
    "flow_b = mfa_example_b.flows['remelting => sysenv']\n",
    "shares_demolition = flow_b / flow_b.sum_nda_over(('e'))\n",
    "\n",
    "plotter = PlotlyArrayPlotter(\n",
    "    array=remelted_shares,\n",
    "    intra_line_dim='Time',\n",
    "    subplot_dim='Material',\n",
    "    line_label='Standard',\n",
    "    title='Material concentration in secondary steel')\n",
    "fig = plotter.plot()\n",
    "plotter = PlotlyArrayPlotter(\n",
    "    array=shares_shredder,\n",
    "    intra_line_dim='Time',\n",
    "    subplot_dim='Material',\n",
    "    line_label='Updated shredder yield',\n",
    "    fig=fig)\n",
    "fig = plotter.plot()\n",
    "plotter = PlotlyArrayPlotter(\n",
    "    array=shares_demolition,\n",
    "    intra_line_dim='Time',\n",
    "    subplot_dim='Material',\n",
    "    line_label='Increased buildings demolition',\n",
    "    fig=fig)\n",
    "fig = plotter.plot(do_show=True)"
   ]
  },
  {
   "cell_type": "markdown",
   "id": "d2c90918-5900-4bff-a8f3-1fc93cee49c1",
   "metadata": {},
   "source": [
    "We can see that both measures reduce the copper concentration in the secondary steel. For the first year, the copper concentration is reduced from 0.294% to 0.244% if the Cu-yield into steel scrap of the shredder is reduced and to 0.259% if the EoL building flow treated is increased by 25%. The yield measure thus has a slightly higher impact on the copper contentration than the increase of a copper-poor scrap flow for dilution. In both cases the impact is not high enough to bring the copper concentration to values below 0.04%, which is necessary for automotive applications."
   ]
  },
  {
   "cell_type": "code",
   "execution_count": null,
   "id": "a729211d-f805-48b0-a31a-d3af60900ff6",
   "metadata": {},
   "outputs": [],
   "source": []
  }
 ],
 "metadata": {
  "kernelspec": {
   "display_name": ".venv",
   "language": "python",
   "name": "python3"
  },
  "language_info": {
   "codemirror_mode": {
    "name": "ipython",
    "version": 3
   },
   "file_extension": ".py",
   "mimetype": "text/x-python",
   "name": "python",
   "nbconvert_exporter": "python",
   "pygments_lexer": "ipython3",
   "version": "3.10.10"
  }
 },
 "nbformat": 4,
 "nbformat_minor": 5
}
