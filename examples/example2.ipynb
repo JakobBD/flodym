{
 "cells": [
  {
   "cell_type": "markdown",
   "id": "795c267b-3f8a-47d1-b0d1-67ad80fffc76",
   "metadata": {},
   "source": [
    "# Example 2. Alloying elements in recycling.\n",
    "*ODYM example by Stefan Pauliuk, adapted for flodym*\n",
    "\n",
    "A recycling system with two end-of-life (EoL) products, two scrap types, one secondary material, and several types of losses are studied. Three chemical elements are considered: iron, copper, and manganese. A time horizon of 30 years [1980-2010], five processes, and time-dependent parameters are analysed. The processes have element-specific yield factors, meaning that the loss rates depend on the chemical element considered. These values are given below.\n",
    "\n",
    "The research questions are:\n",
    "\n",
    "* How much copper accumulates in the secondary steel assuming that all available scrap is remelted?\n",
    "* How much manganese is lost in the remelting process assuming that all available scrap is remelted?\n",
    "* What is more effective in reducing the copper concentraction of secondary steel: A reduction of the shredding yield factor for copper from EoL machines into steel scrap of 25% or an increase in the EoL buildings flow by 25%? (All other variables and parameters remaining equal)\n",
    "\n",
    "<img src=\"pictures/SteelAlloyElementsWasteMgt.png\" width=\"554\" height=\"490\" alt=\"Simple MFA system\">\n",
    "\n",
    "The model equations are as follows:\n",
    "* $F_{1\\_3}(t,e) = \\Gamma_1(e) \\cdot F_{0\\_1}(t,e)$ (shredder yield factor)\n",
    "* $F_{1\\_0}(t,e) = (1 - \\Gamma_1(e)) \\cdot F_{0\\_1}(t,e)$ (mass balance)\n",
    "\n",
    "* $F_{2\\_3}(t,e) = \\Gamma_2(e) \\cdot F_{0\\_2}(t,e)$ (demolition yield factor)\n",
    "* $F_{2\\_4}(t,e) = (1 - \\Gamma_2(e)) \\cdot F_{0\\_2}(t,e)$ (mass balance)\n",
    "\n",
    "* $F_{3\\_0}(t,e) = \\Gamma_3(e) \\cdot (F_{1\\_3}(t,e)+F_{2\\_3}(t,e))$ (remelting yield factor)\n",
    "* $F_{3\\_5}(t,e) = (1 - \\Gamma_3(e)) \\cdot (F_{1\\_3}(t,e)+F_{2\\_3}(t,e))$ (mass balance)\n",
    "\n",
    "Here the index letters t denote the model time and e the chemical element."
   ]
  },
  {
   "cell_type": "markdown",
   "id": "e7e096a2-d4b9-45c8-a51d-37a6ec2cea01",
   "metadata": {},
   "source": [
    "## 1. Load flodym and other useful packages"
   ]
  },
  {
   "cell_type": "code",
   "execution_count": 1,
   "id": "1e3701c3-5140-45db-9588-52841caa7562",
   "metadata": {},
   "outputs": [],
   "source": [
    "import os\n",
    "from copy import deepcopy\n",
    "import numpy as np\n",
    "import plotly.io as pio\n",
    "\n",
    "from flodym import (\n",
    "    MFADefinition,\n",
    "    DimensionDefinition,\n",
    "    ParameterDefinition,\n",
    "    FlowDefinition,\n",
    "    StockDefinition,\n",
    "    MFASystem,\n",
    "    SimpleFlowDrivenStock,\n",
    ")\n",
    "from flodym.export import PlotlyArrayPlotter\n",
    "\n",
    "# needed only for correct rendering on the readthedocs homepage\n",
    "pio.renderers.default = \"browser\""
   ]
  },
  {
   "cell_type": "markdown",
   "id": "7161062d-7f58-45ce-b8df-0d4c5e310f44",
   "metadata": {},
   "source": [
    "## 2. Define the data requirements, flows, stocks and MFA system equations\n",
    "\n",
    "We define the dimensions that are relevant for our system and the model parameters, processes, stocks and flows.\n",
    "We put it all together in an MFADefinition object."
   ]
  },
  {
   "cell_type": "code",
   "execution_count": 2,
   "id": "eb913be3-ae92-4e3a-8e1b-f09480928d66",
   "metadata": {},
   "outputs": [],
   "source": [
    "dimension_definitions = [\n",
    "    DimensionDefinition(letter=\"t\", name=\"Time\", dtype=int),\n",
    "    DimensionDefinition(letter=\"e\", name=\"Material\", dtype=str),\n",
    "]\n",
    "\n",
    "parameter_definitions = [\n",
    "    ParameterDefinition(name=\"eol machines\", dim_letters=(\"t\",)),\n",
    "    ParameterDefinition(name=\"eol buildings\", dim_letters=(\"t\",)),\n",
    "    ParameterDefinition(name=\"composition eol machines\", dim_letters=(\"e\",)),\n",
    "    ParameterDefinition(name=\"composition eol buildings\", dim_letters=(\"e\",)),\n",
    "    ParameterDefinition(name=\"shredder yield\", dim_letters=(\"e\",)),\n",
    "    ParameterDefinition(name=\"demolition yield\", dim_letters=(\"e\",)),\n",
    "    ParameterDefinition(name=\"remelting yield\", dim_letters=(\"e\",)),\n",
    "]"
   ]
  },
  {
   "cell_type": "code",
   "execution_count": 3,
   "id": "9b83df6a-0386-4a9c-88d5-c478aadd18a0",
   "metadata": {},
   "outputs": [],
   "source": [
    "process_names = [\n",
    "    \"sysenv\",\n",
    "    \"shredder\",\n",
    "    \"demolition\",\n",
    "    \"remelting\",\n",
    "    \"landfills\",\n",
    "    \"slag piles\",\n",
    "]"
   ]
  },
  {
   "cell_type": "code",
   "execution_count": 4,
   "id": "8bf61792-2f12-4094-a441-d591a8ff969e",
   "metadata": {},
   "outputs": [],
   "source": [
    "flow_definitions = [\n",
    "    FlowDefinition(from_process_name=\"sysenv\", to_process_name=\"shredder\", dim_letters=(\"t\", \"e\")),\n",
    "    FlowDefinition(\n",
    "        from_process_name=\"sysenv\", to_process_name=\"demolition\", dim_letters=(\"t\", \"e\")\n",
    "    ),\n",
    "    FlowDefinition(\n",
    "        from_process_name=\"shredder\",\n",
    "        to_process_name=\"remelting\",\n",
    "        dim_letters=(\"t\", \"e\"),\n",
    "    ),  # scrap type 1\n",
    "    FlowDefinition(\n",
    "        from_process_name=\"shredder\", to_process_name=\"sysenv\", dim_letters=(\"t\", \"e\")\n",
    "    ),  # shredder residue\n",
    "    FlowDefinition(\n",
    "        from_process_name=\"demolition\",\n",
    "        to_process_name=\"remelting\",\n",
    "        dim_letters=(\"t\", \"e\"),\n",
    "    ),  # scrap type 2\n",
    "    FlowDefinition(\n",
    "        from_process_name=\"demolition\",\n",
    "        to_process_name=\"landfills\",\n",
    "        dim_letters=(\"t\", \"e\"),\n",
    "    ),  # loss\n",
    "    FlowDefinition(\n",
    "        from_process_name=\"remelting\",\n",
    "        to_process_name=\"slag piles\",\n",
    "        dim_letters=(\"t\", \"e\"),\n",
    "    ),  # secondary steel\n",
    "    FlowDefinition(\n",
    "        from_process_name=\"remelting\", to_process_name=\"sysenv\", dim_letters=(\"t\", \"e\")\n",
    "    ),  # slag\n",
    "]"
   ]
  },
  {
   "cell_type": "code",
   "execution_count": 5,
   "id": "579ab49d",
   "metadata": {},
   "outputs": [],
   "source": [
    "stock_definitions = [\n",
    "    StockDefinition(\n",
    "        name=\"landfills\",\n",
    "        process=\"landfills\",\n",
    "        dim_letters=(\"t\", \"e\"),\n",
    "        subclass=SimpleFlowDrivenStock,\n",
    "    ),\n",
    "    StockDefinition(\n",
    "        name=\"slag piles\",\n",
    "        process=\"slag piles\",\n",
    "        dim_letters=(\"t\", \"e\"),\n",
    "        subclass=SimpleFlowDrivenStock,\n",
    "    ),\n",
    "]"
   ]
  },
  {
   "cell_type": "code",
   "execution_count": 6,
   "id": "1ea15908-23c4-424b-832d-d5507fd13021",
   "metadata": {},
   "outputs": [],
   "source": [
    "mfa_definition = MFADefinition(\n",
    "    dimensions=dimension_definitions,\n",
    "    parameters=parameter_definitions,\n",
    "    processes=process_names,\n",
    "    flows=flow_definitions,\n",
    "    stocks=stock_definitions,\n",
    ")"
   ]
  },
  {
   "cell_type": "markdown",
   "id": "f382cce6",
   "metadata": {
    "lines_to_next_cell": 2
   },
   "source": [
    "We define a MFASystem subclass with our system equations in the compute method.\n",
    "We just need to define the compute method with our system equations, as all the other things we need are inherited from the MFASystem class.  The flow names are generated from the processes each flow connects, in this case with the naming function `process_names_with_arrow`, which is passed to the flow initialization below."
   ]
  },
  {
   "cell_type": "code",
   "execution_count": 7,
   "id": "fef3eb3c-7f88-41b0-86a2-d23bccc0783a",
   "metadata": {},
   "outputs": [],
   "source": [
    "class SimpleMFA(MFASystem):\n",
    "    def compute(self):\n",
    "        self.flows[\"sysenv => shredder\"][...] = (\n",
    "            self.parameters[\"eol machines\"] * self.parameters[\"composition eol machines\"]\n",
    "        )\n",
    "        self.flows[\"sysenv => demolition\"][...] = (\n",
    "            self.parameters[\"eol buildings\"] * self.parameters[\"composition eol buildings\"]\n",
    "        )\n",
    "        self.flows[\"shredder => remelting\"][...] = (\n",
    "            self.flows[\"sysenv => shredder\"] * self.parameters[\"shredder yield\"]\n",
    "        )\n",
    "        self.flows[\"shredder => sysenv\"][...] = self.flows[\"sysenv => shredder\"] * (\n",
    "            1 - self.parameters[\"shredder yield\"]\n",
    "        )\n",
    "        self.flows[\"demolition => remelting\"][...] = (\n",
    "            self.flows[\"sysenv => demolition\"] * self.parameters[\"demolition yield\"]\n",
    "        )\n",
    "        self.flows[\"demolition => landfills\"][...] = self.flows[\"sysenv => demolition\"] * (\n",
    "            1 - self.parameters[\"demolition yield\"]\n",
    "        )\n",
    "        self.flows[\"remelting => sysenv\"][...] = (\n",
    "            self.flows[\"shredder => remelting\"] + self.flows[\"demolition => remelting\"]\n",
    "        ) * self.parameters[\"remelting yield\"]\n",
    "        self.flows[\"remelting => slag piles\"][...] = (\n",
    "            self.flows[\"shredder => remelting\"] + self.flows[\"demolition => remelting\"]\n",
    "        ) * (1 - self.parameters[\"remelting yield\"])\n",
    "        self.stocks[\"landfills\"].inflow[...] = self.flows[\"demolition => landfills\"]\n",
    "        self.stocks[\"landfills\"].compute()\n",
    "        self.stocks[\"slag piles\"].inflow[...] = self.flows[\"shredder => remelting\"]\n",
    "        self.stocks[\"slag piles\"].compute()"
   ]
  },
  {
   "cell_type": "markdown",
   "id": "7b1191fe-f13b-4fc1-94b8-870d55e89143",
   "metadata": {},
   "source": [
    "## 4. Initialize the MFA system, load data and compute\n",
    "We now have all the necessary information.\n",
    "We load the data (dimension items and parameter values) from excel files and initialize the MFA system in one step.\n",
    "We then execute the compute method to calculate the system."
   ]
  },
  {
   "cell_type": "code",
   "execution_count": 8,
   "id": "dc6579e3-e65b-4dcf-8bf7-b2bc4e90bb0e",
   "metadata": {},
   "outputs": [],
   "source": [
    "dimension_file = os.path.join(\"input_data\", \"example2_dimensions.xlsx\")\n",
    "parameter_file = os.path.join(\"input_data\", \"example2_parameters.xlsx\")\n",
    "\n",
    "mfa_example = SimpleMFA.from_excel(\n",
    "    definition=mfa_definition,\n",
    "    dimension_files={d.name: dimension_file for d in dimension_definitions},\n",
    "    parameter_files={p.name: parameter_file for p in parameter_definitions},\n",
    "    dimension_sheets={d.name: d.name for d in dimension_definitions},\n",
    "    parameter_sheets={p.name: p.name for p in parameter_definitions},\n",
    ")\n",
    "mfa_example.compute()"
   ]
  },
  {
   "cell_type": "markdown",
   "id": "ba341703-5841-4b0b-81b1-d6c72418c9d5",
   "metadata": {},
   "source": [
    "## 5. Results\n",
    "Here we answer the research questions from the beginning of the notebook.\n",
    "\n",
    "**How much copper accumulates in the secondary steel assuming that all available scrap is remelted?**\n",
    "\n",
    "Clicking on the `Fe` entry of the plot legend hides it and adjusts the y-axis to better display the trace elements `Mn` and `Cu`."
   ]
  },
  {
   "cell_type": "code",
   "execution_count": null,
   "id": "e5877592",
   "metadata": {
    "lines_to_next_cell": 2
   },
   "outputs": [],
   "source": [
    "remelted = mfa_example.flows[\"remelting => sysenv\"]\n",
    "\n",
    "plotter = PlotlyArrayPlotter(\n",
    "    array=remelted,\n",
    "    intra_line_dim=\"Time\",\n",
    "    linecolor_dim=\"Material\",\n",
    "    title=\"GDP-per-capita\",\n",
    ")\n",
    "fig = plotter.plot(do_show=True)"
   ]
  },
  {
   "cell_type": "code",
   "execution_count": 10,
   "id": "ebbe470a-ec04-4432-9f55-7a0931f9062f",
   "metadata": {
    "lines_to_next_cell": 2
   },
   "outputs": [],
   "source": [
    "remelted_shares = remelted.get_shares_over((\"e\",))\n",
    "\n",
    "plotter = PlotlyArrayPlotter(\n",
    "    array=remelted_shares,\n",
    "    intra_line_dim=\"Time\",\n",
    "    linecolor_dim=\"Material\",\n",
    "    title=\"Share of copper and manganese in secondary steel\",\n",
    ")\n",
    "fig = plotter.plot(do_show=True)"
   ]
  },
  {
   "cell_type": "markdown",
   "id": "755899c3-3f06-4f79-9c67-aa765a7ec5c4",
   "metadata": {},
   "source": [
    "The copper flow in the secondary steel increases linearly from 0.34 kt/yr in 1980 to 0.78 kt/yr in 2010. The concentration of copper declines in a hyperbolic curve from 0.294% in 1980 to 0.233% in 2010.\n",
    "\n",
    "That concentration is below 0.4% at all times, the latter being the treshold for construction grade steel, but above 0.04%, which is the threshold for automotive steel."
   ]
  },
  {
   "cell_type": "markdown",
   "id": "f9982f8c-fffa-4ec8-82cd-919d9fffa7a3",
   "metadata": {},
   "source": [
    "**How much manganese is lost in the remelting process assuming that all available scrap is remelted?**"
   ]
  },
  {
   "cell_type": "code",
   "execution_count": 11,
   "id": "5582ae7a-4d41-4a8b-8726-dff414c96cde",
   "metadata": {},
   "outputs": [],
   "source": [
    "manganese_to_slag = mfa_example.flows[\"remelting => slag piles\"][\"Mn\"]\n",
    "\n",
    "plotter = PlotlyArrayPlotter(\n",
    "    array=manganese_to_slag,\n",
    "    intra_line_dim=\"Time\",\n",
    "    ylabel=\"kt/yr\",\n",
    "    title=\"Manganese lost in the remelting process\",\n",
    ")\n",
    "fig = plotter.plot(do_show=True)"
   ]
  },
  {
   "cell_type": "markdown",
   "id": "cc2933dc-bd51-42bb-8bed-3d651deeafed",
   "metadata": {},
   "source": [
    "**What is more effective in reducing the copper concentraction of secondary steel: A reduction of the shredding yield factor for copper from EoL machines into steel scrap of 25% or an increase in the EoL buildings flow by 25%? (All other variables and parameters remaining equal)**\n",
    "\n",
    "To answer this we change the parameter values and recalculate the entire system.\n",
    "In case a, we update the shredder yield, and in case b we increase the EoL buildings flow.\n",
    "We could load new datasets for the parameters, but since we are only changing one value, we will just update that value.\n"
   ]
  },
  {
   "cell_type": "code",
   "execution_count": 12,
   "id": "4f1076e6-2fa7-4291-9d20-b2a282f4bb77",
   "metadata": {},
   "outputs": [],
   "source": [
    "mfa_example_a = deepcopy(mfa_example)\n",
    "mfa_example_a.parameters[\"shredder yield\"].set_values(np.array([0.92, 0.075, 0.92]))\n",
    "mfa_example_a.compute()\n",
    "shares_shredder = mfa_example_a.flows[\"remelting => sysenv\"].get_shares_over((\"e\"))"
   ]
  },
  {
   "cell_type": "code",
   "execution_count": 13,
   "id": "44bdaf4c-7982-4e0e-938c-a1d45c95324a",
   "metadata": {},
   "outputs": [],
   "source": [
    "mfa_example_b = deepcopy(mfa_example)\n",
    "mfa_example_b.parameters[\"eol buildings\"][...] *= 1.25\n",
    "mfa_example_b.compute()\n",
    "shares_demolition = mfa_example_b.flows[\"remelting => sysenv\"].get_shares_over((\"e\"))"
   ]
  },
  {
   "cell_type": "code",
   "execution_count": 14,
   "id": "cbf5d351-2158-4983-b231-720bfc9d809d",
   "metadata": {},
   "outputs": [],
   "source": [
    "plotter = PlotlyArrayPlotter(\n",
    "    array=remelted_shares,\n",
    "    intra_line_dim=\"Time\",\n",
    "    subplot_dim=\"Material\",\n",
    "    line_label=\"Standard\",\n",
    "    title=\"Material concentration in secondary steel\",\n",
    ")\n",
    "fig = plotter.plot()\n",
    "plotter = PlotlyArrayPlotter(\n",
    "    array=shares_shredder,\n",
    "    intra_line_dim=\"Time\",\n",
    "    subplot_dim=\"Material\",\n",
    "    line_label=\"Updated shredder yield\",\n",
    "    fig=fig,\n",
    ")\n",
    "fig = plotter.plot()\n",
    "plotter = PlotlyArrayPlotter(\n",
    "    array=shares_demolition,\n",
    "    intra_line_dim=\"Time\",\n",
    "    subplot_dim=\"Material\",\n",
    "    line_label=\"Increased buildings demolition\",\n",
    "    fig=fig,\n",
    ")\n",
    "fig = plotter.plot(do_show=True)"
   ]
  },
  {
   "cell_type": "markdown",
   "id": "d2c90918-5900-4bff-a8f3-1fc93cee49c1",
   "metadata": {},
   "source": [
    "We can see that both measures reduce the copper concentration in the secondary steel. For the first year, the copper concentration is reduced from 0.294% to 0.244% if the Cu-yield into steel scrap of the shredder is reduced and to 0.259% if the EoL building flow treated is increased by 25%. The yield measure thus has a slightly higher impact on the copper contentration than the increase of a copper-poor scrap flow for dilution. In both cases the impact is not high enough to bring the copper concentration to values below 0.04%, which is necessary for automotive applications."
   ]
  },
  {
   "cell_type": "code",
   "execution_count": null,
   "id": "a729211d-f805-48b0-a31a-d3af60900ff6",
   "metadata": {},
   "outputs": [],
   "source": []
  }
 ],
 "metadata": {
  "kernelspec": {
   "display_name": ".venv",
   "language": "python",
   "name": "python3"
  },
  "language_info": {
   "codemirror_mode": {
    "name": "ipython",
    "version": 3
   },
   "file_extension": ".py",
   "mimetype": "text/x-python",
   "name": "python",
   "nbconvert_exporter": "python",
   "pygments_lexer": "ipython3",
   "version": "3.10.10"
  }
 },
 "nbformat": 4,
 "nbformat_minor": 5
}
