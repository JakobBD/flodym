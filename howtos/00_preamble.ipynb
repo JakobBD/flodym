{
 "cells": [
  {
   "cell_type": "markdown",
   "id": "7bd377a1",
   "metadata": {},
   "source": [
    "# About the HOWTOs\n",
    "\n",
    "## Scope\n",
    "\n",
    "These HOWTOs are introducing the different possibilities of working with the sodym package, ordered by topic.\n",
    "They may be good for a first overview. For reference during implementation, please refer to the API documentation.\n",
    "For more application-oriented examples, please refer to the examples folder.\n",
    "They are more compact examples of whole MFA's dealing with actual research questions,\n",
    "but less structured and comprehensive in terms of alternative ways of sodym usage.\n",
    "\n",
    "## sodym Design: Different levels of integration\n",
    "\n",
    "The sodym packages is designed both for flexibility and convenience.\n",
    "Since this is often a contradiction, it offers different levels of integration.\n",
    "For example, you can use the sodym data read-in and system-setup routines, or you can create the necessary objects yourself and pass them to the class constructor.\n",
    "\n",
    "The following HOWTOs will outline the different ways to initialize and work with different sodym objects,\n",
    "either in convenient pre-coded or more customized ways.\n"
   ]
  }
 ],
 "metadata": {
  "jupytext": {
   "cell_metadata_filter": "-all",
   "main_language": "python",
   "notebook_metadata_filter": "-all"
  },
  "language_info": {
   "name": "python"
  }
 },
 "nbformat": 4,
 "nbformat_minor": 5
}
