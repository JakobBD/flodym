{
 "cells": [
  {
   "cell_type": "markdown",
   "id": "121985a0",
   "metadata": {},
   "source": [
    "# Data input\n",
    "## From file: CSV & Excel\n",
    "\n",
    "TODO\n",
    "\n",
    "## Mix & match\n",
    "\n",
    "TODO\n",
    "\n",
    "## Own subclass\n",
    "\n",
    "TODO\n",
    "\n",
    "## Own data input: make_empty_... functions\n",
    "\n",
    "TODO\n"
   ]
  }
 ],
 "metadata": {
  "jupytext": {
   "cell_metadata_filter": "-all",
   "main_language": "python",
   "notebook_metadata_filter": "-all"
  },
  "language_info": {
   "name": "python"
  }
 },
 "nbformat": 4,
 "nbformat_minor": 5
}
