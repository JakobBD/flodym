{
 "cells": [
  {
   "cell_type": "markdown",
   "id": "121985a0",
   "metadata": {},
   "source": [
    "# Data input\n",
    "\n",
    "Before, we have covered how to initialize the attributes of an MFASystem directly with their attributes.\n",
    "You can, of course, write your own data input routines and do this.\n",
    "\n",
    "Here, we will discuss how to directly read data into flodym objects.\n",
    "\n",
    "There are lots of different methods with different levels of integration vs customizability.\n",
    "\n",
    "## From DataFrame\n",
    "\n",
    "FlodymArray objects provide the `from_df()` method.\n",
    "\n",
    "You can create your own data read-in to a csv file, and use this method."
   ]
  },
  {
   "cell_type": "code",
   "execution_count": 1,
   "id": "d3bd2ac2",
   "metadata": {},
   "outputs": [
    {
     "name": "stdout",
     "output_type": "stream",
     "text": [
      "Shape: (2, 3)\n",
      "Values: [1. 2. 3. 4. 5. 6.]\n"
     ]
    }
   ],
   "source": [
    "import pandas as pd\n",
    "from flodym import Dimension, DimensionSet, FlodymArray\n",
    "\n",
    "dims = DimensionSet(\n",
    "    dim_list=[\n",
    "        Dimension(letter=\"t\", name=\"Time\", dtype=int, items=[2010, 2020]),\n",
    "        Dimension(letter=\"e\", name=\"Material\", dtype=str, items=[\"Fe\", \"Cu\", \"Mn\"]),\n",
    "    ]\n",
    ")\n",
    "df = pd.DataFrame(\n",
    "    {\n",
    "        \"Time\": [2020, 2020, 2020, 2010, 2010, 2010],\n",
    "        \"Material\": [\"Mn\", \"Cu\", \"Fe\", \"Fe\", \"Cu\", \"Mn\"],\n",
    "        \"value\": [6.0, 5.0, 4.0, 1.0, 2.0, 3.0],\n",
    "    }\n",
    ")\n",
    "my_array = FlodymArray.from_df(dims=dims, df=df)\n",
    "\n",
    "print(\"Shape:\", my_array.shape)\n",
    "print(\"Values:\", my_array.values.flatten())"
   ]
  },
  {
   "cell_type": "markdown",
   "id": "fab7dd02",
   "metadata": {},
   "source": [
    "Notice how the entries were re-ordered according to the order of items in the dims.\n",
    "the `from_df()` methods performs lots of checks and can handle different input data formats.\n",
    "\n",
    "For details on allowed formats, see the API reference of the method.\n",
    "\n",
    "NB: `Dimension` objects also have `from_np()` and `from_df` methods, which can be combined with numpy and pandas read functions.\n",
    "Refer to the API reference for usage."
   ]
  },
  {
   "cell_type": "markdown",
   "id": "cbe5b5f0",
   "metadata": {},
   "source": [
    "\n",
    "## From file: CSV & Excel\n",
    "\n",
    "DimensionSets can be loaded using a `DimensionReader`.\n",
    "\n",
    "Why would you put the items of the dimension in an external file instead of putting them in the code directly?\n",
    "In order to change them later together with the other input data.\n",
    "Like this, you can easily switch between different regional resolutions, temporal scope, and so on, without changing the code.\n",
    "\n",
    "\n",
    "There are two dimension readers implemented, an `ExcelDimensionReader` and a `CSVDimensionReader`\n",
    "We only show the `ExcelDimensionReader` here. For the  `CSVDimensionReader`, refer to the API reference.\n",
    "\n",
    "When working with reader, the information needed in addition to the data (for dimensions, everything apart from the items) is given in a definition object:"
   ]
  },
  {
   "cell_type": "code",
   "execution_count": 2,
   "id": "50b59b7e",
   "metadata": {
    "lines_to_next_cell": 2
   },
   "outputs": [],
   "source": [
    "from flodym import ExcelDimensionReader, DimensionDefinition\n",
    "\n",
    "dimension_definitions = [\n",
    "    DimensionDefinition(name=\"Time\", letter=\"t\", dtype=int),\n",
    "    DimensionDefinition(name=\"Material\", letter=\"e\", dtype=str),\n",
    "]"
   ]
  },
  {
   "cell_type": "markdown",
   "id": "60626927",
   "metadata": {},
   "source": [
    "We initialize the reader with dictionaries containing the paths and sheet names for each dimension.\n",
    "Here, we've put everything in the same file, and named the sheets the same as the dimensions."
   ]
  },
  {
   "cell_type": "code",
   "execution_count": 3,
   "id": "53db6271",
   "metadata": {},
   "outputs": [],
   "source": [
    "\n",
    "dimension_file = \"../examples/input_data/example2_dimensions.xlsx\"\n",
    "dimension_files = {d.name: dimension_file for d in dimension_definitions}\n",
    "dimension_sheets = {d.name: d.name for d in dimension_definitions}\n",
    "reader = ExcelDimensionReader(\n",
    "    dimension_files=dimension_files,\n",
    "    dimension_sheets=dimension_sheets,\n",
    ")"
   ]
  },
  {
   "cell_type": "markdown",
   "id": "9ca92537",
   "metadata": {},
   "source": [
    "Every DimensionReader has a `read_dimensions` method, which takes the list of definitions as input and returns the DimensionSet:"
   ]
  },
  {
   "cell_type": "code",
   "execution_count": 4,
   "id": "0b4c2da9",
   "metadata": {},
   "outputs": [],
   "source": [
    "\n",
    "dims = reader.read_dimensions(dimension_definitions)"
   ]
  },
  {
   "cell_type": "markdown",
   "id": "f4c39b3b",
   "metadata": {},
   "source": [
    "ParameterReader objects work exactly the same: First, we create the definitions:"
   ]
  },
  {
   "cell_type": "code",
   "execution_count": 5,
   "id": "c3d6d36b",
   "metadata": {},
   "outputs": [],
   "source": [
    "from flodym import ExcelParameterReader, ParameterDefinition\n",
    "\n",
    "parameter_definitions = [\n",
    "    ParameterDefinition(name=\"eol machines\", dim_letters=(\"t\",)),\n",
    "    ParameterDefinition(name=\"eol buildings\", dim_letters=(\"t\",)),\n",
    "    ParameterDefinition(name=\"composition eol machines\", dim_letters=(\"e\",)),\n",
    "    ParameterDefinition(name=\"composition eol buildings\", dim_letters=(\"e\",)),\n",
    "    ParameterDefinition(name=\"shredder yield\", dim_letters=(\"e\",)),\n",
    "    ParameterDefinition(name=\"demolition yield\", dim_letters=(\"e\",)),\n",
    "    ParameterDefinition(name=\"remelting yield\", dim_letters=(\"e\",)),\n",
    "]"
   ]
  },
  {
   "cell_type": "markdown",
   "id": "76aa0625",
   "metadata": {},
   "source": [
    "We initialize the reader with dictionaries for file names and sheets names:"
   ]
  },
  {
   "cell_type": "code",
   "execution_count": 6,
   "id": "72fc878c",
   "metadata": {},
   "outputs": [],
   "source": [
    "parameter_file = \"../examples/input_data/example2_parameters.xlsx\"\n",
    "parameter_files = {p.name: parameter_file for p in parameter_definitions}\n",
    "parameter_sheets = {p.name: p.name for p in parameter_definitions}\n",
    "reader = ExcelParameterReader(\n",
    "    parameter_files=parameter_files,\n",
    "    parameter_sheets=parameter_sheets,\n",
    ")"
   ]
  },
  {
   "cell_type": "markdown",
   "id": "b5c8c1e1",
   "metadata": {},
   "source": [
    "Every ParameterReader has a `read_parameters()` method. Apart from the definitions, it also takes the DimensionSet object as input, as it needs information on the dimensions."
   ]
  },
  {
   "cell_type": "code",
   "execution_count": 7,
   "id": "afc342bf",
   "metadata": {},
   "outputs": [],
   "source": [
    "parameters = reader.read_parameters(parameter_definitions=parameter_definitions, dims=dims)"
   ]
  },
  {
   "cell_type": "markdown",
   "id": "4da4fc52",
   "metadata": {},
   "source": [
    "You can specify for csv and excel readers whether or not to throw an error if items are missing or not via the `allow_missing_values` argument.\n",
    "Setting it to False is good for avoiding errors such as typos in the input data. Setting it to True is necessary for sparse data.\n",
    "The default is False.\n",
    "\n",
    "Similarly, you can specify whether or not to throw an error if there are unknown dimension items in the input data via the `allow_excess_values` argument.\n",
    "Setting it to False is good for avoiding errors such as typos in the input data.\n",
    "Setting it to True is necessary if you'd like to be able to run the model with a subset of the items in the input data, e.g. a shorter time period, without changing the input data.\n",
    "The default is False."
   ]
  },
  {
   "cell_type": "markdown",
   "id": "f8431b73",
   "metadata": {},
   "source": [
    "## MFASystem `from_excel()` and `from_csv`\n",
    "\n",
    "If you wish to do your dat input using either excel or csv files as shown above, you can list all definitions, combine that into an MFADefinition object, and pass that into the `MFASystem.from_excel()` or `from_csv()` class methods together with the dictionaries for file paths (and sheet names for excel).\n",
    "\n",
    "It's a very clean, easy and quick way, but not very customizable.\n",
    "This method is used in example 2 and therefore not repeated here."
   ]
  },
  {
   "cell_type": "markdown",
   "id": "5d639700",
   "metadata": {},
   "source": [
    "\n",
    "## Write your own customized subclasses\n",
    "\n",
    "### of `DimensionReader` and `ParameterReader`\n",
    "\n",
    "There are parent classes of `DimensionReader` and `ParameterReader` that you can write your own subclasses for.\n",
    "- In a subclass of the `DimensionReader`, you will have to provide the function `read_dimension` (singular, not plural!), which takes a `DimensionDefinition` object and returns a `DimensionObject`.\n",
    "- In a subclass of the `ParameterReader`, you will have to provide the function `read_parameter_values`, which takes a parameter name and the correct `DimensionSet` according to the letters given in the definition, and returns a `Parameter`.\n",
    "For both, you can provide additional information (such as file paths) in the `__init__` method.\n",
    "\n",
    "### of `DataReader`\n",
    "\n",
    "There is also a combined `DataReader` class, which contains the methods described above for both dimension and parameter reading.\n",
    "If you have your own custom subclass of this, you can pass it to the `MFASystem.from_data_reader()`.\n",
    "This method is elegant, but required writing your own subclass, which may not be straightforward as other methods. It is shown in Example 5, so it is not demonstrated here.\n",
    "\n",
    "###  Using `CompoundDataReader`\n",
    "\n",
    "As a final note, there is also a `CompoundDataReader`, which combines a `DimensionReader` and a `ParameterReader` into an integrated `DataReader`. You don't need a subclass, just pass the other reader instances at initialization. It's useful if you want to mix different methods without re-implementing them. Endless possibilities!"
   ]
  }
 ],
 "metadata": {
  "jupytext": {
   "cell_metadata_filter": "-all",
   "main_language": "python",
   "notebook_metadata_filter": "-all"
  },
  "kernelspec": {
   "display_name": ".venv",
   "language": "python",
   "name": "python3"
  },
  "language_info": {
   "codemirror_mode": {
    "name": "ipython",
    "version": 3
   },
   "file_extension": ".py",
   "mimetype": "text/x-python",
   "name": "python",
   "nbconvert_exporter": "python",
   "pygments_lexer": "ipython3",
   "version": "3.10.10"
  }
 },
 "nbformat": 4,
 "nbformat_minor": 5
}
