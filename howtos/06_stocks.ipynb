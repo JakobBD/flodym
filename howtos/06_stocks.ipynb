{
 "cells": [
  {
   "cell_type": "markdown",
   "id": "ed886fb5",
   "metadata": {},
   "source": [
    "# Stocks \n",
    "\n",
    "This HOWTO is a placeholder. Content is coming soon!"
   ]
  }
 ],
 "metadata": {
  "jupytext": {
   "cell_metadata_filter": "-all",
   "main_language": "python",
   "notebook_metadata_filter": "-all"
  },
  "language_info": {
   "name": "python"
  }
 },
 "nbformat": 4,
 "nbformat_minor": 5
}
