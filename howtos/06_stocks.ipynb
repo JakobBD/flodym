{
 "cells": [
  {
   "cell_type": "markdown",
   "id": "ed886fb5",
   "metadata": {},
   "source": [
    "# Stocks\n",
    "\n",
    "`Stock` objects are flodym's way to account for accumulating materials.\n",
    "Each `Stock` object has three arrays as attributes: `inflow`, `outflow`, and `stock`.\n",
    "They are instances of the `FlodymArray` subclass `StockArray`.\n",
    "\n",
    "There are different kinds of `Stock` (i.e. different subclasses), which differ in which of the above three quantities are given, which is calculated from the others, and how.\n",
    "\n",
    "## Input requirements\n",
    "\n",
    "The first dimension of the dimension set `dims` must be time. If the time dimension does not have the dimension letter `t`, you must specify that via the `time_letter` argument.\n",
    "If you do not pass the three arrays to the constructor, they are created and initialized to zero.\n",
    "If you do pass them, they must have the same `dims` as the stock object.\n",
    "\n",
    "You can attach stocks to a process (which is needed for example for `MFASystem.check_mass_baance`), but you don't have to.\n",
    "\n",
    "## Simple, from constructor\n",
    "\n",
    "The simplest stock is the `SimpleFlowDrivenStock`.\n",
    "Here, inflow and/or outflow are given, and the stock is calculated as the cumulative sum over time of inflow minus outflow."
   ]
  },
  {
   "cell_type": "code",
   "execution_count": 7,
   "id": "5026d27a",
   "metadata": {
    "lines_to_next_cell": 2
   },
   "outputs": [
    {
     "name": "stdout",
     "output_type": "stream",
     "text": [
      "Inflow type: <class 'flodym.flodym_arrays.StockArray'>\n",
      "Outflow shape: (11, 3)\n",
      "Stock sum: 0.0\n",
      "Array names: in-use_stock, in-use_inflow, in-use_outflow\n"
     ]
    }
   ],
   "source": [
    "from flodym import SimpleFlowDrivenStock, Dimension, DimensionSet\n",
    "\n",
    "dims = DimensionSet(\n",
    "    dim_list=[\n",
    "        Dimension(letter=\"t\", name=\"Time\", dtype=int, items=list(range(2000, 2011))),\n",
    "        Dimension(letter=\"p\", name=\"Product\", dtype=str, items=[\"Vehicles\", \"Buildings\", \"Other\"]),\n",
    "    ]\n",
    ")\n",
    "\n",
    "my_stock = SimpleFlowDrivenStock(dims=dims, name=\"in-use\")\n",
    "\n",
    "# example output\n",
    "print(\"Inflow type:\", type(my_stock.inflow))\n",
    "print(\"Outflow shape:\", my_stock.outflow.shape)\n",
    "print(\"Stock sum:\", my_stock.stock.sum_values())\n",
    "print(f\"Array names: {my_stock.stock.name}, {my_stock.inflow.name}, {my_stock.outflow.name}\")"
   ]
  },
  {
   "cell_type": "markdown",
   "id": "4c406632",
   "metadata": {},
   "source": [
    "Now you can work with the stock.\n",
    "Every stock has a `compute()` routine, which depends on the type of stock you choose.\n",
    "\n",
    "As mentioned above, for `SimpleFlowDrivenStock`, the stock is calculated as the cumulative sum over time of inflow minus outflow.\n",
    "\n",
    "There's a `check_stock_balance()` method, which checks whether inflow, outflow and stock are consistent:"
   ]
  },
  {
   "cell_type": "code",
   "execution_count": 8,
   "id": "25dd9ee6",
   "metadata": {},
   "outputs": [
    {
     "name": "stdout",
     "output_type": "stream",
     "text": [
      "Stock values for Vehicles: [0.09 0.18 0.27 0.36 0.45 0.54 0.63 0.72 0.81 0.9  0.99]\n"
     ]
    }
   ],
   "source": [
    "my_stock.inflow.values[...] = 0.1\n",
    "my_stock.outflow.values[...] = 0.01\n",
    "my_stock.compute()\n",
    "\n",
    "print(\"Stock values for Vehicles:\", my_stock.stock[\"Vehicles\"].values)\n",
    "\n",
    "my_stock.check_stock_balance()"
   ]
  },
  {
   "cell_type": "markdown",
   "id": "1ca314f0",
   "metadata": {},
   "source": [
    "## Dynamic Stock Models (DSM)\n",
    "\n",
    "The other `Stock` subclasses are all dynamic stock models (DSM).\n",
    "This means they rely on a lifetime model to compute some of their quantities.\n",
    "There are different lifetime models available. There are two ways of passing the lifetime model to the stock.\n",
    "The first is to just specify the lifetime model class at initialization, and set its parameters later.\n",
    "Lifetimes can be set as `FlodymArray`s or as scalars. As `FlodymArray`s, they can have lower dimensionality than the stock, and will be cast to full dimensionality."
   ]
  },
  {
   "cell_type": "code",
   "execution_count": 9,
   "id": "2e84ca0e",
   "metadata": {},
   "outputs": [
    {
     "name": "stdout",
     "output_type": "stream",
     "text": [
      "Stock values for Vehicles: [0.09995709 0.1998221  0.29943907 0.39845753 0.49618252 0.59140348\n",
      " 0.68228236 0.76641684 0.84116758 0.90422345 0.95422345]\n"
     ]
    }
   ],
   "source": [
    "import numpy as np\n",
    "from flodym import InflowDrivenDSM, NormalLifetime, Parameter\n",
    "\n",
    "my_dsm = InflowDrivenDSM(\n",
    "    dims=dims,\n",
    "    name=\"in-use-dsm\",\n",
    "    lifetime_model=NormalLifetime,\n",
    ")\n",
    "lifetime_mean = Parameter(dims=dims[(\"p\",)], values=np.array([10, 20, 5]))\n",
    "my_dsm.inflow.values[...] = 0.1\n",
    "my_dsm.lifetime_model.set_prms(mean=lifetime_mean, std=0.3 * lifetime_mean)\n",
    "my_dsm.compute()\n",
    "\n",
    "print(\"Stock values for Vehicles:\", my_dsm.stock[\"Vehicles\"].values)"
   ]
  },
  {
   "cell_type": "markdown",
   "id": "51c59629",
   "metadata": {},
   "source": [
    "Alternatively, the lifetime model can be initialized with its parameters, and the instance can be passed to the Stock.\n",
    "In this example, let's also try passing the inflows to the Stock at initialization."
   ]
  },
  {
   "cell_type": "code",
   "execution_count": 10,
   "id": "23d798d2",
   "metadata": {},
   "outputs": [
    {
     "name": "stdout",
     "output_type": "stream",
     "text": [
      "Stock values for Vehicles: [0.09995709 0.1998221  0.29943907 0.39845753 0.49618252 0.59140348\n",
      " 0.68228236 0.76641684 0.84116758 0.90422345 0.95422345]\n"
     ]
    }
   ],
   "source": [
    "from flodym import StockArray\n",
    "\n",
    "lifetime_model = NormalLifetime(dims=dims, mean=lifetime_mean, std=0.3 * lifetime_mean)\n",
    "inflow = StockArray(dims=dims, name=\"in-use-dsm_inflows\", values=0.1 * np.ones(dims.shape))\n",
    "my_dsm = InflowDrivenDSM(\n",
    "    dims=dims,\n",
    "    name=\"in-use-dsm\",\n",
    "    lifetime_model=lifetime_model,\n",
    "    inflow=inflow,\n",
    ")\n",
    "my_dsm.compute()\n",
    "\n",
    "print(\"Stock values for Vehicles:\", my_dsm.stock[\"Vehicles\"].values)"
   ]
  },
  {
   "cell_type": "markdown",
   "id": "aecaca53",
   "metadata": {},
   "source": [
    "## `StockDefinition` objects\n",
    "\n",
    "If you are working with definition objects for your MFA system, you can also use stock definitions:"
   ]
  },
  {
   "cell_type": "code",
   "execution_count": 11,
   "id": "5d8c5952",
   "metadata": {
    "lines_to_next_cell": 2
   },
   "outputs": [
    {
     "name": "stdout",
     "output_type": "stream",
     "text": [
      "Stock values for Vehicles: [0. 0. 0. 0. 0. 0. 0. 0. 0. 0. 0.]\n"
     ]
    }
   ],
   "source": [
    "from flodym import StockDefinition, make_empty_stocks, make_processes\n",
    "\n",
    "stock_defs = [\n",
    "    StockDefinition(\n",
    "        dim_letters=(\"t\", \"p\"),\n",
    "        name=\"in-use\",\n",
    "        subclass=InflowDrivenDSM,\n",
    "        lifetime_model_class=NormalLifetime,\n",
    "        process_name=\"use_phase\",\n",
    "    )\n",
    "]\n",
    "\n",
    "processes = make_processes([\"sysenv\", \"use_phase\"])\n",
    "\n",
    "stocks = make_empty_stocks(stock_definitions=stock_defs, processes=processes, dims=dims)\n",
    "\n",
    "# still zero, as not yet computed\n",
    "print(\"Stock values for Vehicles:\", stocks[\"in-use\"].stock[\"Vehicles\"].values)"
   ]
  },
  {
   "cell_type": "markdown",
   "id": "10890bcb",
   "metadata": {},
   "source": [
    "For an example of how to use stock definitions in the `MFASystem.from_data_reader()` method, see Example 5."
   ]
  }
 ],
 "metadata": {
  "jupytext": {
   "cell_metadata_filter": "-all",
   "main_language": "python",
   "notebook_metadata_filter": "-all"
  },
  "kernelspec": {
   "display_name": ".venv",
   "language": "python",
   "name": "python3"
  },
  "language_info": {
   "codemirror_mode": {
    "name": "ipython",
    "version": 3
   },
   "file_extension": ".py",
   "mimetype": "text/x-python",
   "name": "python",
   "nbconvert_exporter": "python",
   "pygments_lexer": "ipython3",
   "version": "3.10.10"
  }
 },
 "nbformat": 4,
 "nbformat_minor": 5
}
