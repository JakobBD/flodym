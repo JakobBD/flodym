{
 "cells": [
  {
   "cell_type": "markdown",
   "id": "5ff41233",
   "metadata": {},
   "source": [
    "# Work with an MFA System\n",
    "\n",
    "As you just saw, `DimensionSet` and `FlodymArray` objects work without the `MFASystem` class.\n",
    "\n",
    "However, working with it brings a few advantages:\n",
    "- Having all attributes in one namespace, including the \"parent\" dimension set.\n",
    "- Integrated data read-in functions (see according HOWTO)\n",
    "- Some more export and plotting functions (see according HOWTO)\n",
    "- A mass-balance check\n",
    "\n",
    "In more complex MFA models, it may be advantageous to have one or even several MFASystem class instances, and then maybe also do some calculations outside of them.\n",
    "\n",
    "### Write your own subclass\n",
    "\n",
    "flodym has implemented the MFASystem class as a parent class, of which you can write your own subclass.\n",
    "We recommend implementing your own `compute` function, where the array operations are performed.\n",
    "\n",
    "Of course, this requires knowledge about the flows, stocks and parameters you intend to put in, which are described later."
   ]
  },
  {
   "cell_type": "code",
   "execution_count": 36,
   "id": "36438162",
   "metadata": {},
   "outputs": [],
   "source": [
    "from flodym import MFASystem\n",
    "\n",
    "\n",
    "class MyMFASystem(MFASystem):\n",
    "\n",
    "    def compute(self):\n",
    "\n",
    "        self.flows[\"sysenv => process_a\"][...] = self.parameters[\"extraction\"]\n",
    "        product_flow = self.flows[\"sysenv => process_a\"] * self.parameters[\"product_shares\"]\n",
    "        self.flows[\"process_a => process_b\"][...] = (\n",
    "            product_flow * self.parameters[\"process_a_yield\"]\n",
    "        )\n",
    "        self.flows[\"process_a => sysenv\"][...] = product_flow * (\n",
    "            1.0 - self.parameters[\"process_a_yield\"]\n",
    "        )\n",
    "        self.flows[\"process_b => sysenv\"][...] = self.flows[\"process_a => process_b\"]"
   ]
  },
  {
   "cell_type": "markdown",
   "id": "9272fec4",
   "metadata": {},
   "source": [
    "Of course, you can add further methods!\n",
    "\n",
    "For example, you can add sub-methods, which you then call from the `compute()` method."
   ]
  },
  {
   "cell_type": "markdown",
   "id": "4d34e0c4",
   "metadata": {},
   "source": [
    "\n",
    "## Initialize an MFA System\n",
    "\n",
    "There are many different ways to initialize and MFA system.\n",
    "\n",
    "In this HOWTO, we only show the most direct one, where we create all needed attributes ourselves and pass them to the system.\n",
    "\n",
    "Other ways are shown in the \"data input\" HOWTO. They are actually recommended over the one presented here, as they make full use of the flexibility with regards to dimensions and dimension items in flodym.\n",
    "\n",
    "Let's prepare the attributes we need. We start with the dimensions:"
   ]
  },
  {
   "cell_type": "code",
   "execution_count": 37,
   "id": "4f972c88",
   "metadata": {},
   "outputs": [],
   "source": [
    "from flodym import DimensionSet, Dimension, Flow, Parameter, Process\n",
    "\n",
    "dims = DimensionSet(\n",
    "    dim_list=[\n",
    "        Dimension(name=\"Region\", letter=\"r\", items=[\"EU\", \"US\", \"MEX\"]),\n",
    "        Dimension(name=\"Product\", letter=\"p\", items=[\"A\", \"B\"]),\n",
    "        Dimension(name=\"Time\", letter=\"t\", items=[2020]),\n",
    "    ]\n",
    ")"
   ]
  },
  {
   "cell_type": "markdown",
   "id": "a4f11072",
   "metadata": {},
   "source": [
    "### Processes\n",
    "\n",
    "`Process` objects are used to define the \"nodes\" of the MFA system. They are quite simple and only contain a name and ID:\n",
    "The first process, i.e. the one with ID 0 is always the system environment and has to be called \"sysenv\".\n",
    "Other names lead to an error when the MFASystem is created.\n",
    "\n",
    "Processes (as well as flows, stocks, and parameters) are given as a dictionary, the keys of which should correspond to the names of the objects for clarity, even though this is not a requirement."
   ]
  },
  {
   "cell_type": "code",
   "execution_count": 38,
   "id": "260d8a17",
   "metadata": {},
   "outputs": [],
   "source": [
    "processes = {\n",
    "    \"sysenv\": Process(name=\"sysenv\", id=0),\n",
    "    \"process_a\": Process(name=\"process_a\", id=1),\n",
    "    \"process_b\": Process(name=\"process_b\", id=2),\n",
    "}"
   ]
  },
  {
   "cell_type": "markdown",
   "id": "e1f8f0f5",
   "metadata": {},
   "source": [
    "We now set up the flows dictionary.\n",
    "Normally, we do not initialize flows with values.\n",
    "Instead, their values enter their system through parameters, from which they are transferred to the flows.\n",
    "This makes data input easier, if data is read from files. If you're writing your own data input, you can deviate from this, it's not a requirement.\n",
    "\n",
    "The following code is a bit cumbersome and information for each flow is repeated.\n",
    "There are functions to shorten and ease setting up the flow dictionary.\n",
    "But let's do it manually first:"
   ]
  },
  {
   "cell_type": "code",
   "execution_count": 39,
   "id": "6a2639e1",
   "metadata": {},
   "outputs": [],
   "source": [
    "flows = {\n",
    "    \"sysenv => process_a\": Flow(\n",
    "        name=\"sysenv => process_a\",\n",
    "        dims=dims[\"r\", \"t\"],\n",
    "        from_process=processes[\"sysenv\"],\n",
    "        to_process=processes[\"process_a\"],\n",
    "    ),\n",
    "    \"process_a => process_b\": Flow(\n",
    "        name=\"process_a => process_b\",\n",
    "        dims=dims,\n",
    "        from_process=processes[\"process_a\"],\n",
    "        to_process=processes[\"process_b\"],\n",
    "    ),\n",
    "    \"process_a => sysenv\": Flow(\n",
    "        name=\"process_a => sysenv\",\n",
    "        dims=dims,\n",
    "        from_process=processes[\"process_a\"],\n",
    "        to_process=processes[\"sysenv\"],\n",
    "    ),\n",
    "    \"process_b => sysenv\": Flow(\n",
    "        name=\"process_b => sysenv\",\n",
    "        dims=dims[\"r\", \"t\"],\n",
    "        from_process=processes[\"process_b\"],\n",
    "        to_process=processes[\"sysenv\"],\n",
    "    ),\n",
    "}"
   ]
  },
  {
   "cell_type": "markdown",
   "id": "a11ed055",
   "metadata": {},
   "source": [
    "We initialize the parameters with data:"
   ]
  },
  {
   "cell_type": "code",
   "execution_count": 40,
   "id": "cf95bb51",
   "metadata": {},
   "outputs": [],
   "source": [
    "import numpy as np\n",
    "\n",
    "parameters = {\n",
    "    \"extraction\": Parameter(name=\"extraction\", dims=dims[\"r\", \"t\"], values=3.0 * np.ones((3, 1))),\n",
    "    \"product_shares\": Parameter(\n",
    "        name=\"product_shares\", dims=dims[(\"p\",)], values=np.array([0.6, 0.4])\n",
    "    ),\n",
    "    \"process_a_yield\": Parameter(\n",
    "        name=\"process_a_yield\", dims=dims[(\"p\",)], values=np.array([0.8, 0.9])\n",
    "    ),\n",
    "}"
   ]
  },
  {
   "cell_type": "markdown",
   "id": "0173352f",
   "metadata": {},
   "source": [
    "We leave out stocks for simplicity here. We look at that in its own HOWTO.\n",
    "\n",
    "We have everything we need to initialize the system!"
   ]
  },
  {
   "cell_type": "code",
   "execution_count": 41,
   "id": "596a41ea",
   "metadata": {},
   "outputs": [],
   "source": [
    "my_mfa_system = MyMFASystem(\n",
    "    dims=dims,\n",
    "    processes=processes,\n",
    "    flows=flows,\n",
    "    parameters=parameters,\n",
    ")"
   ]
  },
  {
   "cell_type": "markdown",
   "id": "69973c04",
   "metadata": {},
   "source": [
    "## Work with the system\n",
    "\n",
    "All that's left to do is call the compute function!"
   ]
  },
  {
   "cell_type": "code",
   "execution_count": 42,
   "id": "0be82273",
   "metadata": {},
   "outputs": [
    {
     "name": "stdout",
     "output_type": "stream",
     "text": [
      "sysenv => process_a \n",
      "              value\n",
      "Region Time       \n",
      "EU     2020    3.0\n",
      "US     2020    3.0\n",
      "MEX    2020    3.0 \n",
      "\n",
      "process_a => process_b \n",
      "                      value\n",
      "Region Product Time       \n",
      "EU     A       2020   1.44\n",
      "       B       2020   1.08\n",
      "US     A       2020   1.44\n",
      "       B       2020   1.08\n",
      "MEX    A       2020   1.44\n",
      "       B       2020   1.08 \n",
      "\n",
      "process_a => sysenv \n",
      "                      value\n",
      "Region Product Time       \n",
      "EU     A       2020   0.36\n",
      "       B       2020   0.12\n",
      "US     A       2020   0.36\n",
      "       B       2020   0.12\n",
      "MEX    A       2020   0.36\n",
      "       B       2020   0.12 \n",
      "\n",
      "process_b => sysenv \n",
      "              value\n",
      "Region Time       \n",
      "EU     2020   2.52\n",
      "US     2020   2.52\n",
      "MEX    2020   2.52 \n",
      "\n"
     ]
    }
   ],
   "source": [
    "my_mfa_system.compute()\n",
    "\n",
    "# print example output\n",
    "for f in my_mfa_system.flows.values():\n",
    "    print(f.name, \"\\n\", f.to_df(), \"\\n\")"
   ]
  },
  {
   "cell_type": "markdown",
   "id": "be7f9b4d",
   "metadata": {},
   "source": [
    "We now call a method to check the mass balance of the system. If all is set up correctly, and no mass flows appear or disappear, this should not create errors. It's a nice safety check, but it's not a requirement. Thanks to Stefan Pauliuk, who implemented this in ODYM.\n",
    "\n",
    "The success message is implemented using an `info` of the `logging` package, so we have to configure it to show this message first. This is optional. The error is always shown if it fails."
   ]
  },
  {
   "cell_type": "code",
   "execution_count": 43,
   "id": "05f2e43b",
   "metadata": {},
   "outputs": [
    {
     "name": "stderr",
     "output_type": "stream",
     "text": [
      "INFO:root:Success - Mass balance of MyMFASystem object is consistent!\n"
     ]
    }
   ],
   "source": [
    "import logging\n",
    "\n",
    "# turn on success message\n",
    "logging.basicConfig(level=logging.INFO)\n",
    "\n",
    "my_mfa_system.check_mass_balance()"
   ]
  },
  {
   "cell_type": "markdown",
   "id": "478c25c9",
   "metadata": {},
   "source": [
    "## Generate attributes from Definition objects\n",
    "\n",
    "As you saw, some of the attributes were a bit cumbersome to create.\n",
    "\n",
    "flodym has definition objects, which store exactly the information you need to create them, and methods that take these definitions to produce the dictionaries.\n",
    "\n",
    "For processes, all that's needed for definition is a list of names, so there's no dedicated definition object."
   ]
  },
  {
   "cell_type": "code",
   "execution_count": 44,
   "id": "482d9448",
   "metadata": {},
   "outputs": [],
   "source": [
    "from flodym import make_processes\n",
    "\n",
    "process_names = [\n",
    "    \"sysenv\",\n",
    "    \"process_a\",\n",
    "    \"process_b\",\n",
    "]\n",
    "processes = make_processes(process_names)"
   ]
  },
  {
   "cell_type": "markdown",
   "id": "60f74a27",
   "metadata": {},
   "source": [
    "For flows, there is a dedicated definition object:"
   ]
  },
  {
   "cell_type": "code",
   "execution_count": 45,
   "id": "42b9740e",
   "metadata": {},
   "outputs": [],
   "source": [
    "from flodym import FlowDefinition\n",
    "\n",
    "flow_definitions = [\n",
    "    FlowDefinition(from_process_name=\"sysenv\", to_process_name=\"process_a\", dim_letters=(\"r\", \"t\")),\n",
    "    FlowDefinition(\n",
    "        from_process_name=\"process_a\", to_process_name=\"process_b\", dim_letters=(\"r\", \"p\", \"t\")\n",
    "    ),\n",
    "    FlowDefinition(\n",
    "        from_process_name=\"process_a\", to_process_name=\"sysenv\", dim_letters=(\"r\", \"p\", \"t\")\n",
    "    ),\n",
    "    FlowDefinition(from_process_name=\"process_b\", to_process_name=\"sysenv\", dim_letters=(\"r\", \"t\")),\n",
    "]"
   ]
  },
  {
   "cell_type": "markdown",
   "id": "3123f3ab",
   "metadata": {},
   "source": [
    "It can then be transformed, for which the actual `DimensionSet` and `Process` objects are needed:"
   ]
  },
  {
   "cell_type": "code",
   "execution_count": 46,
   "id": "2da906a0",
   "metadata": {},
   "outputs": [
    {
     "name": "stdout",
     "output_type": "stream",
     "text": [
      "Flow names:\n",
      "  sysenv => process_a\n",
      "  process_a => process_b\n",
      "  process_a => sysenv\n",
      "  process_b => sysenv\n"
     ]
    }
   ],
   "source": [
    "from flodym import make_empty_flows\n",
    "\n",
    "flows = make_empty_flows(processes=processes, flow_definitions=flow_definitions, dims=dims)\n",
    "\n",
    "print(\"Flow names:\\n \", \"\\n  \".join(flows))"
   ]
  },
  {
   "cell_type": "markdown",
   "id": "c86553b6",
   "metadata": {},
   "source": [
    "As you can see, the flow names were automatically created from the process names.\n",
    "If you don't like this, you can either choose a different naming function, write your own (not shown), or override the names in the `FlowDefinition` with the `name_override` attribute:"
   ]
  },
  {
   "cell_type": "code",
   "execution_count": 47,
   "id": "e5179519",
   "metadata": {},
   "outputs": [
    {
     "name": "stdout",
     "output_type": "stream",
     "text": [
      "Flow names with ids:\n",
      "  F0_1\n",
      "  F1_2\n",
      "  F1_0\n",
      "  F2_0 \n",
      "\n",
      "Custom flow name(s):\n",
      "  my_custom_name\n"
     ]
    }
   ],
   "source": [
    "from flodym.flow_naming import (\n",
    "    # shown below\n",
    "    process_ids,\n",
    "    # the default\n",
    "    process_names_with_arrow,\n",
    "    # not shown here. Good to generate valid file and variable names.\n",
    "    process_names_no_spaces,\n",
    ")\n",
    "\n",
    "# other naming function\n",
    "flows_a = make_empty_flows(\n",
    "    processes=processes,\n",
    "    flow_definitions=flow_definitions,\n",
    "    dims=dims,\n",
    "    naming=process_ids,\n",
    ")\n",
    "print(\"Flow names with ids:\\n \", \"\\n  \".join(flows_a), \"\\n\")\n",
    "\n",
    "# custom name\n",
    "flow_definitions_b = [\n",
    "    FlowDefinition(\n",
    "        from_process_name=\"sysenv\",\n",
    "        to_process_name=\"process_a\",\n",
    "        dim_letters=(\"r\", \"t\"),\n",
    "        name_override=\"my_custom_name\",\n",
    "    )\n",
    "]\n",
    "flows_b = make_empty_flows(\n",
    "    processes=processes,\n",
    "    flow_definitions=flow_definitions_b,\n",
    "    dims=dims,\n",
    ")\n",
    "print(\"Custom flow name(s):\\n \", \"\\n  \".join(flows_b))"
   ]
  },
  {
   "cell_type": "markdown",
   "id": "1467a5d3",
   "metadata": {},
   "source": [
    "Dimensions and Parameters also have Definition objects.\n",
    "However, they are used with data read-in functions. They are discussed in the according HOWTO.\n",
    "\n",
    "Stock definition objects are discussed in the stock HOWTO."
   ]
  }
 ],
 "metadata": {
  "jupytext": {
   "cell_metadata_filter": "-all",
   "main_language": "python",
   "notebook_metadata_filter": "-all"
  },
  "kernelspec": {
   "display_name": ".venv",
   "language": "python",
   "name": "python3"
  },
  "language_info": {
   "codemirror_mode": {
    "name": "ipython",
    "version": 3
   },
   "file_extension": ".py",
   "mimetype": "text/x-python",
   "name": "python",
   "nbconvert_exporter": "python",
   "pygments_lexer": "ipython3",
   "version": "3.10.10"
  }
 },
 "nbformat": 4,
 "nbformat_minor": 5
}
