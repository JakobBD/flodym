{
 "cells": [
  {
   "cell_type": "markdown",
   "id": "5ff41233",
   "metadata": {},
   "source": [
    "# Work with an MFA System\n",
    "\n",
    "- You don't have to! NDA's work fine without it.\n",
    "- Advantages: Everything in one namespace, dims parent-set, simpler data read-in, export and sankey plotting, mass-balance\n",
    "\n",
    "### Write your subclass subclass\n",
    "\n",
    "TODO:\n",
    "- basic how to: subclass\n",
    "\n",
    "## Initialize an MFA System\n",
    "\n",
    "Let's take a small MFA system as an example. It has the following dimensions."
   ]
  },
  {
   "cell_type": "markdown",
   "id": "478c25c9",
   "metadata": {},
   "source": [
    "#### Generate attributes yourself\n",
    "\n",
    "TODO\n",
    "\n",
    "#### Generate attributes from definition\n",
    "\n",
    "TODO\n",
    "- flow naming:\n",
    "  - in definition\n",
    "  - from method\n",
    "    - pre-builts\n",
    "    - custom\n",
    "\n",
    "#### Use a data reader\n",
    "\n",
    "TODO: See next HOWTO\n",
    "\n",
    "### Work with the instance\n",
    "\n",
    "- run function; details: see \"working with NDA's\"\n",
    "- check mass balance\n",
    "\n",
    "TODO"
   ]
  }
 ],
 "metadata": {
  "jupytext": {
   "cell_metadata_filter": "-all",
   "main_language": "python",
   "notebook_metadata_filter": "-all"
  },
  "language_info": {
   "name": "python"
  }
 },
 "nbformat": 4,
 "nbformat_minor": 5
}
