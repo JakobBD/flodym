{
 "cells": [
  {
   "cell_type": "markdown",
   "id": "08785912",
   "metadata": {},
   "source": [
    "# Working with FlodymArrays\n",
    "\n",
    "## Initializing arrays\n",
    "\n",
    "`FlodymArray` objects require a `DimensionSet` at initialization. Optionally, a name can be given.\n",
    "If the values are not given, the array is initialized with zeros.\n",
    "\n",
    "There are several subclasses of `FlodymArray`, often with little or no changes in functionality:\n",
    "See the API reference of `Flow`, `Parameter`, and `StockArray`.\n",
    "\n",
    "`Flow` objects have to be passed the two `Process` objects they connect at initialization.\n",
    "\n",
    "In this HOWTO, only the `FlodymArray` base class is used.\n",
    "\n",
    "Further options to initialize arrays are discussed in the HOWTO on data input.\n"
   ]
  },
  {
   "cell_type": "code",
   "execution_count": 18,
   "id": "0b1a8eec",
   "metadata": {
    "lines_to_next_cell": 2
   },
   "outputs": [],
   "source": [
    "import numpy as np\n",
    "from flodym import Dimension, DimensionSet, FlodymArray\n",
    "\n",
    "# Create a dimension set\n",
    "dims = DimensionSet(\n",
    "    dim_list=[\n",
    "        Dimension(name=\"Region\", letter=\"r\", items=[\"EU\", \"US\", \"MEX\"]),\n",
    "        Dimension(name=\"Product\", letter=\"p\", items=[\"A\", \"B\"]),\n",
    "        Dimension(name=\"Time\", letter=\"t\", items=[2020]),\n",
    "    ]\n",
    ")\n",
    "\n",
    "flow_a = FlodymArray(dims=dims[\"t\", \"p\"], values=0.2 * np.ones((1, 2)))\n",
    "flow_b = FlodymArray(dims=dims[\"r\", \"t\"], values=0.1 * np.ones((3, 1)))\n",
    "parameter_a = FlodymArray(dims=dims[\"r\", \"p\"], values=0.5 * np.ones((3, 2)))"
   ]
  },
  {
   "cell_type": "markdown",
   "id": "b400531c",
   "metadata": {},
   "source": [
    "\n",
    "## Math operations\n",
    "\n",
    "FlodymArrays have the basic mathematical operations implemented.\n",
    "Let's first create two arrays:"
   ]
  },
  {
   "cell_type": "markdown",
   "id": "b2ba22a3",
   "metadata": {
    "lines_to_next_cell": 2
   },
   "source": [
    "We write a small routine to print properties of the resulting array, and test it on the inputs:"
   ]
  },
  {
   "cell_type": "code",
   "execution_count": 2,
   "id": "a7daa194",
   "metadata": {},
   "outputs": [
    {
     "name": "stdout",
     "output_type": "stream",
     "text": [
      "flow_a:\n",
      "  dimensions: ('t', 'p')\n",
      "  shape: (1, 2)\n",
      "  name: unnamed\n",
      "  values mean: 0.200\n",
      "  values sum: 0.400\n",
      "flow_b:\n",
      "  dimensions: ('r', 't')\n",
      "  shape: (3, 1)\n",
      "  name: unnamed\n",
      "  values mean: 0.100\n",
      "  values sum: 0.300\n"
     ]
    }
   ],
   "source": [
    "def show_array(arr: FlodymArray):\n",
    "    print(f\"  dimensions: {arr.dims.letters}\")\n",
    "    print(f\"  shape: {arr.dims.shape}\")\n",
    "    print(f\"  name: {arr.name}\")\n",
    "    print(f\"  values mean: {np.mean(arr.values):.3f}\")\n",
    "    print(f\"  values sum: {arr.values.sum():.3f}\")\n",
    "\n",
    "\n",
    "print(\"flow_a:\")\n",
    "show_array(flow_a)\n",
    "print(\"flow_b:\")\n",
    "show_array(flow_b)"
   ]
  },
  {
   "cell_type": "markdown",
   "id": "7350582d",
   "metadata": {},
   "source": [
    "Now let's try some operations."
   ]
  },
  {
   "cell_type": "code",
   "execution_count": 3,
   "id": "f6a243b4",
   "metadata": {},
   "outputs": [
    {
     "name": "stdout",
     "output_type": "stream",
     "text": [
      "flow_a:\n",
      "  dimensions: ('t',)\n",
      "  shape: (1,)\n",
      "  name: unnamed\n",
      "  values mean: 0.700\n",
      "  values sum: 0.700\n"
     ]
    }
   ],
   "source": [
    "summed = flow_a + flow_b\n",
    "print(\"summed:\")\n",
    "show_array(summed)"
   ]
  },
  {
   "cell_type": "markdown",
   "id": "613f1aad",
   "metadata": {},
   "source": [
    "What happened here?\n",
    "When adding the two flows, all dimensions that could be preserved were preserved.\n",
    "These are the dimensions that occur in both `flow_a` and `flow_b`, in this case only time.\n",
    "\n",
    "Since we wouldn't know how to split `flow_a` by region and `flow_b` by product, we have to sum the arrays to the set intersection of both arrays, and then perform the addition.\n",
    "\n",
    "The same goes for subtraction:"
   ]
  },
  {
   "cell_type": "code",
   "execution_count": 4,
   "id": "094b43d1",
   "metadata": {},
   "outputs": [
    {
     "name": "stdout",
     "output_type": "stream",
     "text": [
      "difference:\n",
      "  dimensions: ('t',)\n",
      "  shape: (1,)\n",
      "  name: unnamed\n",
      "  values mean: 0.100\n",
      "  values sum: 0.100\n"
     ]
    }
   ],
   "source": [
    "difference = flow_a - flow_b\n",
    "print(\"difference:\")\n",
    "show_array(difference)"
   ]
  },
  {
   "cell_type": "markdown",
   "id": "5fecde31",
   "metadata": {},
   "source": [
    "For multiplication and division, things are different.\n",
    "If we multiply a flow with a parameter, which splits it along a new dimension, the resulting flow can have that new dimension.\n",
    "Therefore, in multiplication and division, we keep all the dimensions that appear in either of the flows, i.e. the set union."
   ]
  },
  {
   "cell_type": "code",
   "execution_count": 5,
   "id": "4b36e4ec",
   "metadata": {},
   "outputs": [
    {
     "name": "stdout",
     "output_type": "stream",
     "text": [
      "flow_a dimensions:  ('t', 'p')\n",
      "parameter_a dimensions:  ('r', 'p') \n",
      "\n",
      "multiplied:\n",
      "  dimensions: ('t', 'p', 'r')\n",
      "  shape: (1, 2, 3)\n",
      "  name: unnamed\n",
      "  values mean: 0.100\n",
      "  values sum: 0.600\n",
      "divided:\n",
      "  dimensions: ('t', 'p', 'r')\n",
      "  shape: (1, 2, 3)\n",
      "  name: unnamed\n",
      "  values mean: 0.400\n",
      "  values sum: 2.400\n"
     ]
    }
   ],
   "source": [
    "# recall:\n",
    "print(\"flow_a dimensions: \", flow_a.dims.letters)\n",
    "print(\"parameter_a dimensions: \", parameter_a.dims.letters, \"\\n\")\n",
    "\n",
    "multiplied = flow_a * parameter_a\n",
    "print(\"multiplied:\")\n",
    "show_array(multiplied)\n",
    "\n",
    "divided = flow_a / parameter_a\n",
    "print(\"divided:\")\n",
    "show_array(divided)"
   ]
  },
  {
   "cell_type": "markdown",
   "id": "e2b96877",
   "metadata": {},
   "source": [
    "This may not be the dimension we want, for example we might want to sum the result over products, keeping the dimensions time and region. There are some class methods for these kinds of operations. See the API reference for the full documentation. For our example:"
   ]
  },
  {
   "cell_type": "code",
   "execution_count": 6,
   "id": "d7a1db01",
   "metadata": {},
   "outputs": [
    {
     "name": "stdout",
     "output_type": "stream",
     "text": [
      "reduced:\n",
      "  dimensions: ('t', 'r')\n",
      "  shape: (1, 3)\n",
      "  name: unnamed\n",
      "  values mean: 0.200\n",
      "  values sum: 0.600\n"
     ]
    }
   ],
   "source": [
    "reduced = multiplied.sum_to(result_dims=(\"t\", \"r\"))\n",
    "print(\"reduced:\")\n",
    "show_array(reduced)"
   ]
  },
  {
   "cell_type": "markdown",
   "id": "ea728837",
   "metadata": {},
   "source": [
    "### With scalars\n",
    "\n",
    "Math operations can also be performed between a FlodymArray and a scalar.\n",
    "The scalar is then expanded into the shape of the array before the operation is performed:"
   ]
  },
  {
   "cell_type": "code",
   "execution_count": 7,
   "id": "04181bcc",
   "metadata": {},
   "outputs": [
    {
     "name": "stdout",
     "output_type": "stream",
     "text": [
      "SUm with scalar:\n",
      "  dimensions: ('t', 'p')\n",
      "  shape: (1, 2)\n",
      "  name: unnamed\n",
      "  values mean: 0.600\n",
      "  values sum: 1.200\n"
     ]
    }
   ],
   "source": [
    "sum_with_scalar = flow_a + 0.4\n",
    "\n",
    "print(\"SUm with scalar:\")\n",
    "show_array(sum_with_scalar)"
   ]
  },
  {
   "cell_type": "markdown",
   "id": "f004b3ba",
   "metadata": {},
   "source": [
    "### Using just the `values` array\n",
    "\n",
    "When a mathematical operation is not implemented, you can still work with the `values` array manually, which is a numpy array. We recommend using either the numpy ellipsis slice `[...]` or the `FlodymArray.set_values()` method, which both ensure keeping the correct shape of the array."
   ]
  },
  {
   "cell_type": "code",
   "execution_count": 8,
   "id": "788d8d7a",
   "metadata": {},
   "outputs": [
    {
     "name": "stdout",
     "output_type": "stream",
     "text": [
      "flow_a:\n",
      "  dimensions: ('t', 'p')\n",
      "  shape: (1, 2)\n",
      "  name: unnamed\n",
      "  values mean: 0.300\n",
      "  values sum: 0.600\n",
      "flow_a:\n",
      "  dimensions: ('t', 'p')\n",
      "  shape: (1, 2)\n",
      "  name: unnamed\n",
      "  values mean: 0.090\n",
      "  values sum: 0.180\n"
     ]
    }
   ],
   "source": [
    "flow_a.values[...] = 0.3\n",
    "print(\"flow_a:\")\n",
    "show_array(flow_a)\n",
    "\n",
    "flow_a.set_values(flow_a.values**2)\n",
    "print(\"flow_a:\")\n",
    "show_array(flow_a)"
   ]
  },
  {
   "cell_type": "markdown",
   "id": "359eb401",
   "metadata": {},
   "source": [
    "## Computing values of existing arrays, such as flows\n",
    "\n",
    "In a flodym MFASystem, you have defined at initialization which arrays have which dimensionality.\n",
    "You can use that information to conveniently sum the result of an operation to the shape you defined, potentially re-ordering dimensions.\n",
    "\n",
    "This is done using the so-called ellipsis slice `[...]`:"
   ]
  },
  {
   "cell_type": "code",
   "execution_count": 9,
   "id": "078288e4",
   "metadata": {},
   "outputs": [
    {
     "name": "stdout",
     "output_type": "stream",
     "text": [
      "predefined_flow:\n",
      "  dimensions: ('r', 'p')\n",
      "  shape: (3, 2)\n",
      "  name: predefined\n",
      "  values mean: 0.000\n",
      "  values sum: 0.000\n",
      "multiplied:\n",
      "  dimensions: ('t', 'p', 'r')\n",
      "  shape: (1, 2, 3)\n",
      "  name: unnamed\n",
      "  values mean: 0.045\n",
      "  values sum: 0.270\n",
      "predefined_flow:\n",
      "  dimensions: ('r', 'p')\n",
      "  shape: (3, 2)\n",
      "  name: predefined\n",
      "  values mean: 0.045\n",
      "  values sum: 0.270\n"
     ]
    }
   ],
   "source": [
    "# define and initialize values with zero\n",
    "predefined_flow = FlodymArray(name=\"predefined\", dims=dims[\"r\", \"p\"])\n",
    "print(\"predefined_flow:\")\n",
    "show_array(predefined_flow)\n",
    "\n",
    "# recall:\n",
    "multiplied = flow_a * parameter_a\n",
    "print(\"multiplied:\")\n",
    "show_array(multiplied)\n",
    "\n",
    "# set values of predefined_flow to the values of multiplied\n",
    "predefined_flow[...] = flow_a * parameter_a\n",
    "\n",
    "print(\"predefined_flow:\")\n",
    "show_array(predefined_flow)"
   ]
  },
  {
   "cell_type": "markdown",
   "id": "518eb12f",
   "metadata": {},
   "source": [
    "In a flodym MFASystem, this is a bit tricky, but quite important, as the flows are stored as a dictionary.\n",
    "(For simplicity, we only re-create these dictionaries, not the whole MFASystem)"
   ]
  },
  {
   "cell_type": "code",
   "execution_count": 10,
   "id": "54ad2a10",
   "metadata": {},
   "outputs": [],
   "source": [
    "flows = {\n",
    "    \"flow_a\": flow_a,\n",
    "    \"flow_b\": flow_b,\n",
    "    \"predefined_flow\": predefined_flow,\n",
    "}\n",
    "parameters = {\n",
    "    \"parameter_a\": parameter_a,\n",
    "}"
   ]
  },
  {
   "cell_type": "markdown",
   "id": "e8678bac",
   "metadata": {},
   "source": [
    "The correct way to perform an operation here, is using the ellipsis slice on the left side of an assignment, as this only affects the values of the `FlodymArray` object:"
   ]
  },
  {
   "cell_type": "code",
   "execution_count": 11,
   "id": "b936e269",
   "metadata": {},
   "outputs": [
    {
     "name": "stdout",
     "output_type": "stream",
     "text": [
      "predefined_flow:\n",
      "  dimensions: ('r', 'p')\n",
      "  shape: (3, 2)\n",
      "  name: predefined\n",
      "  values mean: 0.045\n",
      "  values sum: 0.270\n"
     ]
    }
   ],
   "source": [
    "flows[\"predefined_flow\"][...] = flows[\"flow_a\"] * parameters[\"parameter_a\"]\n",
    "print(\"predefined_flow:\")\n",
    "show_array(flows[\"predefined_flow\"])"
   ]
  },
  {
   "cell_type": "markdown",
   "id": "08366126",
   "metadata": {},
   "source": [
    "While the following __wrong__ code without the ellipsis slice will overwrite the whole object, with uncontrolled outcome:"
   ]
  },
  {
   "cell_type": "code",
   "execution_count": 12,
   "id": "fc57296d",
   "metadata": {},
   "outputs": [
    {
     "name": "stdout",
     "output_type": "stream",
     "text": [
      "WRONG predefined_flow:\n",
      "  dimensions: ('t', 'p', 'r')\n",
      "  shape: (1, 2, 3)\n",
      "  name: unnamed\n",
      "  values mean: 0.045\n",
      "  values sum: 0.270\n"
     ]
    }
   ],
   "source": [
    "flows[\"predefined_flow\"] = flows[\"flow_a\"] * parameters[\"parameter_a\"]\n",
    "print(\"WRONG predefined_flow:\")\n",
    "show_array(flows[\"predefined_flow\"])"
   ]
  },
  {
   "cell_type": "markdown",
   "id": "86287175",
   "metadata": {},
   "source": [
    "## Slicing\n",
    "\n",
    "Sometimes, we don't want to access the whole array, but just a slice.\n",
    "We can do this with indexing.\n",
    "\n",
    "We can use indexing on the right-hand side of an assignment to only calculate with part of an array, and on the left-hand side, to only set the values of part of an array.\n",
    "\n",
    "Let's look at \"getting\" a slice first:"
   ]
  },
  {
   "cell_type": "code",
   "execution_count": 13,
   "id": "26b9b042",
   "metadata": {},
   "outputs": [
    {
     "name": "stdout",
     "output_type": "stream",
     "text": [
      "flow_a dimensions:  ('t', 'p')\n",
      "slice_a1:\n",
      "  dimensions: ('t',)\n",
      "  shape: (1,)\n",
      "  name: unnamed\n",
      "  values mean: 0.090\n",
      "  values sum: 0.090\n"
     ]
    }
   ],
   "source": [
    "# recall\n",
    "print(\"flow_a dimensions: \", flow_a.dims.letters)\n",
    "\n",
    "slice_a1 = flow_a[\"A\"]\n",
    "print(\"slice_a1:\")\n",
    "show_array(slice_a1)"
   ]
  },
  {
   "cell_type": "markdown",
   "id": "d34baa95",
   "metadata": {},
   "source": [
    "You can also slice along several dimensions at the same time.\n",
    "If you like to be more specific, you can also give the slice indexes as a dictionary.\n",
    "This is actually necessary if an item appears in several dimensions, such that giving only the item would be ambiguous."
   ]
  },
  {
   "cell_type": "code",
   "execution_count": 14,
   "id": "488cddf0",
   "metadata": {},
   "outputs": [
    {
     "name": "stdout",
     "output_type": "stream",
     "text": [
      "slice_a2:\n",
      "  dimensions: ()\n",
      "  shape: ()\n",
      "  name: unnamed\n",
      "  values mean: 0.090\n",
      "  values sum: 0.090\n",
      "slice_a3:\n",
      "  dimensions: ('p',)\n",
      "  shape: (2,)\n",
      "  name: unnamed\n",
      "  values mean: 0.090\n",
      "  values sum: 0.180\n",
      "slice_a4:\n",
      "  dimensions: ()\n",
      "  shape: ()\n",
      "  name: unnamed\n",
      "  values mean: 0.090\n",
      "  values sum: 0.090\n"
     ]
    }
   ],
   "source": [
    "slice_a2 = flow_a[\"A\", 2020]\n",
    "print(\"slice_a2:\")\n",
    "show_array(slice_a2)\n",
    "\n",
    "slice_a3 = flow_a[{\"t\": 2020}]\n",
    "print(\"slice_a3:\")\n",
    "show_array(slice_a3)\n",
    "\n",
    "slice_a4 = flow_a[{\"t\": 2020, \"p\": \"A\"}]\n",
    "print(\"slice_a4:\")\n",
    "show_array(slice_a4)"
   ]
  },
  {
   "cell_type": "markdown",
   "id": "db2d5ea1",
   "metadata": {},
   "source": [
    "As you can see, zero-dimensional FlodymArrays are possible.\n",
    "\n",
    "Note that numpy indexing of the whole object like `flow_a[0, :]` is not supported, as flodym wouldn't know if in `flow_a[2020]`, `2020` is an index or an item of the dimension.\n",
    "\n",
    "Of course, you can slice the values array: `flow_a.values[:,0]`.\n",
    "But we recommend not to do it. One major design goal of flodym is too keep the code flexible to changes in the dimensions, and `flow_a.values[:,0]` is quite inflexible with respect to the order and number of dimensions in the array, and to the order and number of items in the dimensions."
   ]
  },
  {
   "cell_type": "markdown",
   "id": "29bbdad9",
   "metadata": {},
   "source": [
    "The slices we looked at just take one item along a dimension and drop that dimension in the process.\n",
    "If we want to access several items along one dimension, that creates a problem, as the dimension can't be dropped, but is changed, as it does not contain all items of the original one anymore. To cope with that, we have to create a new dimension object with a new name and letter, and pass it to the slice, along with the dimension letter we're taking a subset of:"
   ]
  },
  {
   "cell_type": "code",
   "execution_count": 15,
   "id": "19cd4463",
   "metadata": {},
   "outputs": [
    {
     "name": "stdout",
     "output_type": "stream",
     "text": [
      "slice_a5:\n",
      "  dimensions: ('n', 't')\n",
      "  shape: (2, 1)\n",
      "  name: unnamed\n",
      "  values mean: 0.100\n",
      "  values sum: 0.200\n"
     ]
    }
   ],
   "source": [
    "regions_na = Dimension(name=\"RegionsNA\", letter=\"n\", items=[\"US\", \"MEX\"])\n",
    "\n",
    "slice_b1 = flow_b[{\"r\": regions_na}]\n",
    "print(\"slice_a5:\")\n",
    "show_array(slice_b1)"
   ]
  },
  {
   "cell_type": "markdown",
   "id": "91ac100a",
   "metadata": {},
   "source": [
    "As mentioned earlier, you can also use slicing to only access a par of the array on the left-hand side of an assignment:"
   ]
  },
  {
   "cell_type": "code",
   "execution_count": 16,
   "id": "8593491c",
   "metadata": {},
   "outputs": [
    {
     "name": "stdout",
     "output_type": "stream",
     "text": [
      "flow_b.values:\n",
      " [[0.09]\n",
      " [0.1 ]\n",
      " [0.1 ]]\n"
     ]
    }
   ],
   "source": [
    "flow_b[\"EU\"] = flow_a[\"A\"]\n",
    "print(\"flow_b.values:\\n\", flow_b.values)"
   ]
  },
  {
   "cell_type": "markdown",
   "id": "4362c9f4",
   "metadata": {},
   "source": [
    "On the left-hand side, it is also possible to access several items along one dimension, with the same syntax. It does not change the shape of the flow."
   ]
  },
  {
   "cell_type": "code",
   "execution_count": 17,
   "id": "4ce29978",
   "metadata": {},
   "outputs": [
    {
     "name": "stdout",
     "output_type": "stream",
     "text": [
      "flow_b.values:\n",
      " [[0.09]\n",
      " [0.3 ]\n",
      " [0.3 ]]\n",
      "flow_b:\n",
      "  dimensions: ('r', 't')\n",
      "  shape: (3, 1)\n",
      "  name: unnamed\n",
      "  values mean: 0.230\n",
      "  values sum: 0.690\n"
     ]
    }
   ],
   "source": [
    "flow_b[{\"r\": regions_na}] = flow_b[{\"r\": regions_na}] * 3\n",
    "print(\"flow_b.values:\\n\", flow_b.values)\n",
    "print(\"flow_b:\")\n",
    "show_array(flow_b)"
   ]
  },
  {
   "cell_type": "markdown",
   "id": "eba3a8ac",
   "metadata": {},
   "source": [
    "## Operation rules summary\n",
    "\n",
    "Let's summarize here the rules for dimension handling:\n",
    "\n",
    "- Additions and subtractions yield the set intersection of the two participating arrays.\n",
    "- Multiplications and divisions yield the set union of the participating arrays.\n",
    "- When setting the values of an existing array, the array on the right-hand side of the assignment is summed down to the dimensions of the left-hand side. Missing dimensions on the right-hand side will lead to an error\n",
    "- Scalars are converted to an array of equal dimensions before the operation is performed.\n",
    "\n",
    "### Caveat\n",
    "\n",
    "We found these rules to yield the right behavior in almost all cases.\n",
    "\n",
    "There are exceptions: When adding two dimensionless parameters with different dimensions, it may be intended that the dimensions of both inputs are still used.\n",
    "\n",
    "A flodym extension is planned to account for this. In the meantime, we advise to use the `FlodymArray.cast_to()` method on the arrays before performing the operation.\n"
   ]
  }
 ],
 "metadata": {
  "jupytext": {
   "cell_metadata_filter": "-all",
   "main_language": "python",
   "notebook_metadata_filter": "-all"
  },
  "kernelspec": {
   "display_name": ".venv",
   "language": "python",
   "name": "python3"
  },
  "language_info": {
   "codemirror_mode": {
    "name": "ipython",
    "version": 3
   },
   "file_extension": ".py",
   "mimetype": "text/x-python",
   "name": "python",
   "nbconvert_exporter": "python",
   "pygments_lexer": "ipython3",
   "version": "3.10.10"
  }
 },
 "nbformat": 4,
 "nbformat_minor": 5
}
