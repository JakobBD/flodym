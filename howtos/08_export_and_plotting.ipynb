{
 "cells": [
  {
   "cell_type": "markdown",
   "id": "d69e8c7b",
   "metadata": {},
   "source": [
    "# Export and Plotting\n",
    "\n",
    "## Export\n",
    "\n",
    "TODO\n",
    "\n",
    "## Sankey\n",
    "\n",
    "TODO\n",
    "\n",
    "## Array plotter\n",
    "\n",
    "TODO\n",
    "\n",
    "## to_df & plotly or pyplot\n",
    "\n",
    "TODO\n",
    "\n",
    "## values attribute\n",
    "\n",
    "TODO"
   ]
  }
 ],
 "metadata": {
  "jupytext": {
   "cell_metadata_filter": "-all",
   "main_language": "python",
   "notebook_metadata_filter": "-all"
  },
  "language_info": {
   "name": "python"
  }
 },
 "nbformat": 4,
 "nbformat_minor": 5
}
